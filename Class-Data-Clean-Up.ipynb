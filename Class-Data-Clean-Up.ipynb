{
 "cells": [
  {
   "cell_type": "markdown",
   "metadata": {
    "collapsed": true,
    "pycharm": {
     "name": "#%% md\n"
    }
   },
   "source": [
    "# This Notebook is for EDA and Clean-up of the provided data set for the Machine Learning course"
   ]
  },
  {
   "cell_type": "markdown",
   "source": [
    "## Set Up"
   ],
   "metadata": {
    "collapsed": false
   }
  },
  {
   "cell_type": "code",
   "execution_count": 817,
   "outputs": [],
   "source": [
    "# Standard Libraries\n",
    "import pandas as pd\n",
    "import numpy as np\n",
    "import os\n",
    "import warnings\n",
    "\n",
    "# Plotting Libraries\n",
    "import matplotlib.pyplot as plt\n",
    "import seaborn as sns\n",
    "\n",
    "# SkLearn Libraries\n",
    "from sklearn.preprocessing import OneHotEncoder\n",
    "from sklearn.preprocessing import OrdinalEncoder\n",
    "from sklearn.compose import ColumnTransformer\n",
    "from sklearn.pipeline import Pipeline\n",
    "from sklearn.model_selection import train_test_split\n",
    "from sklearn.metrics import confusion_matrix\n",
    "from sklearn.metrics import r2_score\n",
    "from sklearn.metrics import accuracy_score\n",
    "\n",
    "\n",
    "# set Theme\n",
    "plt.style.use('seaborn')\n",
    "sns.set_theme(style=\"whitegrid\")\n",
    "warnings.filterwarnings('ignore')"
   ],
   "metadata": {
    "collapsed": false,
    "pycharm": {
     "name": "#%%\n"
    }
   }
  },
  {
   "cell_type": "code",
   "execution_count": 818,
   "outputs": [
    {
     "data": {
      "text/plain": "   encounter_id  patient_nbr             race  gender      age weight  \\\n0      24437208          135        Caucasian  Female  [50-60)    NaN   \n1      29758806          378        Caucasian  Female  [50-60)    NaN   \n2     189899286          729        Caucasian  Female  [80-90)    NaN   \n3      64331490          774        Caucasian  Female  [80-90)    NaN   \n4      14824206          927  AfricanAmerican  Female  [30-40)    NaN   \n\n   admission_type_id  discharge_disposition_id  admission_source_id  \\\n0                  2                         1                    1   \n1                  3                         1                    1   \n2                  1                         3                    7   \n3                  1                         1                    7   \n4                  1                         1                    7   \n\n   time_in_hospital  ... citoglipton insulin  glyburide.metformin  \\\n0                 8  ...          No  Steady                   No   \n1                 2  ...          No      No                   No   \n2                 4  ...          No      No                   No   \n3                 3  ...          No      No                   No   \n4                 5  ...          No      No                   No   \n\n   glipizide.metformin  glimepiride.pioglitazone  metformin.rosiglitazone  \\\n0                   No                        No                       No   \n1                   No                        No                       No   \n2                   No                        No                       No   \n3                   No                        No                       No   \n4                   No                        No                       No   \n\n   metformin.pioglitazone  change diabetesMed readmitted  \n0                      No      Ch         Yes        <30  \n1                      No      No          No         NO  \n2                      No      No         Yes         NO  \n3                      No      Ch         Yes         NO  \n4                      No      No         Yes         NO  \n\n[5 rows x 50 columns]",
      "text/html": "<div>\n<style scoped>\n    .dataframe tbody tr th:only-of-type {\n        vertical-align: middle;\n    }\n\n    .dataframe tbody tr th {\n        vertical-align: top;\n    }\n\n    .dataframe thead th {\n        text-align: right;\n    }\n</style>\n<table border=\"1\" class=\"dataframe\">\n  <thead>\n    <tr style=\"text-align: right;\">\n      <th></th>\n      <th>encounter_id</th>\n      <th>patient_nbr</th>\n      <th>race</th>\n      <th>gender</th>\n      <th>age</th>\n      <th>weight</th>\n      <th>admission_type_id</th>\n      <th>discharge_disposition_id</th>\n      <th>admission_source_id</th>\n      <th>time_in_hospital</th>\n      <th>...</th>\n      <th>citoglipton</th>\n      <th>insulin</th>\n      <th>glyburide.metformin</th>\n      <th>glipizide.metformin</th>\n      <th>glimepiride.pioglitazone</th>\n      <th>metformin.rosiglitazone</th>\n      <th>metformin.pioglitazone</th>\n      <th>change</th>\n      <th>diabetesMed</th>\n      <th>readmitted</th>\n    </tr>\n  </thead>\n  <tbody>\n    <tr>\n      <th>0</th>\n      <td>24437208</td>\n      <td>135</td>\n      <td>Caucasian</td>\n      <td>Female</td>\n      <td>[50-60)</td>\n      <td>NaN</td>\n      <td>2</td>\n      <td>1</td>\n      <td>1</td>\n      <td>8</td>\n      <td>...</td>\n      <td>No</td>\n      <td>Steady</td>\n      <td>No</td>\n      <td>No</td>\n      <td>No</td>\n      <td>No</td>\n      <td>No</td>\n      <td>Ch</td>\n      <td>Yes</td>\n      <td>&lt;30</td>\n    </tr>\n    <tr>\n      <th>1</th>\n      <td>29758806</td>\n      <td>378</td>\n      <td>Caucasian</td>\n      <td>Female</td>\n      <td>[50-60)</td>\n      <td>NaN</td>\n      <td>3</td>\n      <td>1</td>\n      <td>1</td>\n      <td>2</td>\n      <td>...</td>\n      <td>No</td>\n      <td>No</td>\n      <td>No</td>\n      <td>No</td>\n      <td>No</td>\n      <td>No</td>\n      <td>No</td>\n      <td>No</td>\n      <td>No</td>\n      <td>NO</td>\n    </tr>\n    <tr>\n      <th>2</th>\n      <td>189899286</td>\n      <td>729</td>\n      <td>Caucasian</td>\n      <td>Female</td>\n      <td>[80-90)</td>\n      <td>NaN</td>\n      <td>1</td>\n      <td>3</td>\n      <td>7</td>\n      <td>4</td>\n      <td>...</td>\n      <td>No</td>\n      <td>No</td>\n      <td>No</td>\n      <td>No</td>\n      <td>No</td>\n      <td>No</td>\n      <td>No</td>\n      <td>No</td>\n      <td>Yes</td>\n      <td>NO</td>\n    </tr>\n    <tr>\n      <th>3</th>\n      <td>64331490</td>\n      <td>774</td>\n      <td>Caucasian</td>\n      <td>Female</td>\n      <td>[80-90)</td>\n      <td>NaN</td>\n      <td>1</td>\n      <td>1</td>\n      <td>7</td>\n      <td>3</td>\n      <td>...</td>\n      <td>No</td>\n      <td>No</td>\n      <td>No</td>\n      <td>No</td>\n      <td>No</td>\n      <td>No</td>\n      <td>No</td>\n      <td>Ch</td>\n      <td>Yes</td>\n      <td>NO</td>\n    </tr>\n    <tr>\n      <th>4</th>\n      <td>14824206</td>\n      <td>927</td>\n      <td>AfricanAmerican</td>\n      <td>Female</td>\n      <td>[30-40)</td>\n      <td>NaN</td>\n      <td>1</td>\n      <td>1</td>\n      <td>7</td>\n      <td>5</td>\n      <td>...</td>\n      <td>No</td>\n      <td>No</td>\n      <td>No</td>\n      <td>No</td>\n      <td>No</td>\n      <td>No</td>\n      <td>No</td>\n      <td>No</td>\n      <td>Yes</td>\n      <td>NO</td>\n    </tr>\n  </tbody>\n</table>\n<p>5 rows × 50 columns</p>\n</div>"
     },
     "execution_count": 818,
     "metadata": {},
     "output_type": "execute_result"
    }
   ],
   "source": [
    "# Get Main Data\n",
    "path = os.getcwd()\n",
    "path = path +'\\\\medical_data\\\\'\n",
    "file = 'data.csv'\n",
    "\n",
    "mainData = pd.read_csv(path+file)\n",
    "mainData.head()"
   ],
   "metadata": {
    "collapsed": false,
    "pycharm": {
     "name": "#%%\n"
    }
   }
  },
  {
   "cell_type": "code",
   "execution_count": 819,
   "outputs": [
    {
     "data": {
      "text/plain": "   admission_type_id    description\n0                  1      Emergency\n1                  2         Urgent\n2                  3       Elective\n3                  4        Newborn\n4                  5  Not Available\n5                  6            NaN\n6                  7  Trauma Center\n7                  8     Not Mapped",
      "text/html": "<div>\n<style scoped>\n    .dataframe tbody tr th:only-of-type {\n        vertical-align: middle;\n    }\n\n    .dataframe tbody tr th {\n        vertical-align: top;\n    }\n\n    .dataframe thead th {\n        text-align: right;\n    }\n</style>\n<table border=\"1\" class=\"dataframe\">\n  <thead>\n    <tr style=\"text-align: right;\">\n      <th></th>\n      <th>admission_type_id</th>\n      <th>description</th>\n    </tr>\n  </thead>\n  <tbody>\n    <tr>\n      <th>0</th>\n      <td>1</td>\n      <td>Emergency</td>\n    </tr>\n    <tr>\n      <th>1</th>\n      <td>2</td>\n      <td>Urgent</td>\n    </tr>\n    <tr>\n      <th>2</th>\n      <td>3</td>\n      <td>Elective</td>\n    </tr>\n    <tr>\n      <th>3</th>\n      <td>4</td>\n      <td>Newborn</td>\n    </tr>\n    <tr>\n      <th>4</th>\n      <td>5</td>\n      <td>Not Available</td>\n    </tr>\n    <tr>\n      <th>5</th>\n      <td>6</td>\n      <td>NaN</td>\n    </tr>\n    <tr>\n      <th>6</th>\n      <td>7</td>\n      <td>Trauma Center</td>\n    </tr>\n    <tr>\n      <th>7</th>\n      <td>8</td>\n      <td>Not Mapped</td>\n    </tr>\n  </tbody>\n</table>\n</div>"
     },
     "execution_count": 819,
     "metadata": {},
     "output_type": "execute_result"
    }
   ],
   "source": [
    "# Get Admission Type Look-Up\n",
    "file = 'id_lookup.csv'\n",
    "admissionTypeLookUp = pd.read_csv(path+file)\n",
    "admissionTypeLookUp = admissionTypeLookUp.iloc[:8]\n",
    "admissionTypeLookUp['admission_type_id'] = admissionTypeLookUp['admission_type_id'].astype(int)\n",
    "admissionTypeLookUp"
   ],
   "metadata": {
    "collapsed": false,
    "pycharm": {
     "name": "#%%\n"
    }
   }
  },
  {
   "cell_type": "code",
   "execution_count": 820,
   "outputs": [],
   "source": [
    "# Set Aside Copy of DF for Experiments\n",
    "expData = mainData"
   ],
   "metadata": {
    "collapsed": false,
    "pycharm": {
     "name": "#%%\n"
    }
   }
  },
  {
   "cell_type": "markdown",
   "source": [
    "## Re-Usable Functions"
   ],
   "metadata": {
    "collapsed": false
   }
  },
  {
   "cell_type": "code",
   "execution_count": 821,
   "outputs": [],
   "source": [
    "def OrdinalEncoderFunc (df,listOfVars,order):\n",
    "    df=df\n",
    "    order=order\n",
    "    enc = OrdinalEncoder(categories=[order])\n",
    "    for col in listOfVars:\n",
    "        col=col\n",
    "        df[col] = enc.fit_transform(df[[col]])\n",
    "    return df"
   ],
   "metadata": {
    "collapsed": false,
    "pycharm": {
     "name": "#%%\n"
    }
   }
  },
  {
   "cell_type": "code",
   "execution_count": 822,
   "outputs": [],
   "source": [
    "def nullAnalysis2(df):\n",
    "    row = []\n",
    "    null_summaryDF = pd.DataFrame(columns = [\"Variable\",\"Observations\",\"Nulls\",\"Null_Per\",\"Num_Unique\",\"Type\"])\n",
    "    for column in df:\n",
    "        var = column\n",
    "        countOfObs = len(df[var])\n",
    "        countOfNull = df[var].isnull().sum()\n",
    "        perOfNull = round((100 * countOfNull) / countOfObs,3)\n",
    "        numUnique = df[var].nunique()\n",
    "        type  = df[var].dtypes\n",
    "        # Append to Summary DF\n",
    "        row = [var, countOfObs,countOfNull,perOfNull,numUnique,type]\n",
    "        df_length = len(null_summaryDF)\n",
    "        null_summaryDF.loc[df_length] = row\n",
    "    # Get Summary Stats\n",
    "    countofVars = len(null_summaryDF)\n",
    "    countofNotNull = (null_summaryDF['Nulls'] == 0).sum()\n",
    "    countofNull = (null_summaryDF['Nulls'] != 0).sum()\n",
    "    print(f\"Count of Variables:\",countofVars)\n",
    "    print(f\"Count of Variables without nulls:\",countofNotNull)\n",
    "    print(f\"Count of Variables with null :\",countofNull)\n",
    "    # Format Summary\n",
    "    summaryDF = null_summaryDF[null_summaryDF['Nulls'] != 0].sort_values(by=['Nulls'],ascending=False)\n",
    "    return summaryDF"
   ],
   "metadata": {
    "collapsed": false,
    "pycharm": {
     "name": "#%%\n"
    }
   }
  },
  {
   "cell_type": "code",
   "execution_count": 823,
   "outputs": [],
   "source": [
    "#  Split function\n",
    "## Note: set test size to 20%\n",
    "\n",
    "def testTrainSplit (df, PredictorVar,ResponseVar):\n",
    "    df=df\n",
    "    # Split into training/test\n",
    "    x = df[PredictorVar]\n",
    "    y = df[ResponseVar]\n",
    "    # Split Data Set Seed NP Random\n",
    "    np.random.seed(1) # seed np random\n",
    "    ## split data - use \"random_state = any number (42) if you want reproducable splits.\n",
    "    ### Remove random-state if you want random\n",
    "    x_train, x_test, y_train, y_test = train_test_split(x,y, random_state=42, test_size = 0.2)\n",
    "    return x_train, x_test, y_train, y_test"
   ],
   "metadata": {
    "collapsed": false,
    "pycharm": {
     "name": "#%%\n"
    }
   }
  },
  {
   "cell_type": "code",
   "execution_count": 824,
   "outputs": [],
   "source": [
    "def createConfMatrix (regObj, y_test, y_pred, x_test):\n",
    "    # Logistic Regression -- Step 5 -- Create Confusion Matrix\n",
    "    cm = pd.DataFrame(confusion_matrix(y_test, y_pred))\n",
    "    cm.columns.name = 'Predicted'\n",
    "    cm.index.name = 'True'\n",
    "    # Logistic Regression -- Step 6 -- Calc Accuracy From Test Set\n",
    "    score = regObj.score(x_test, y_test)\n",
    "    score = round(score,4)\n",
    "    return cm, score"
   ],
   "metadata": {
    "collapsed": false,
    "pycharm": {
     "name": "#%%\n"
    }
   }
  },
  {
   "cell_type": "markdown",
   "source": [
    "## General EDA"
   ],
   "metadata": {
    "collapsed": false
   }
  },
  {
   "cell_type": "code",
   "execution_count": 825,
   "outputs": [
    {
     "data": {
      "text/plain": "(71518, 50)"
     },
     "execution_count": 825,
     "metadata": {},
     "output_type": "execute_result"
    }
   ],
   "source": [
    "# Data Shape\n",
    "mainData.shape"
   ],
   "metadata": {
    "collapsed": false,
    "pycharm": {
     "name": "#%%\n"
    }
   }
  },
  {
   "cell_type": "code",
   "execution_count": 826,
   "outputs": [
    {
     "name": "stdout",
     "output_type": "stream",
     "text": [
      "Count Of Nulls:\n"
     ]
    },
    {
     "data": {
      "text/plain": "encounter_id                    0\npatient_nbr                     0\nrace                         1948\ngender                          0\nage                             0\nweight                      68665\nadmission_type_id               0\ndischarge_disposition_id        0\nadmission_source_id             0\ntime_in_hospital                0\npayer_code                  31043\nmedical_specialty           34477\nnum_lab_procedures              0\nnum_procedures                  0\nnum_medications                 0\nnumber_outpatient               0\nnumber_emergency                0\nnumber_inpatient                0\ndiag_1                         11\ndiag_2                        294\ndiag_3                       1225\nnumber_diagnoses                0\nmax_glu_serum                   0\nA1Cresult                       0\nmetformin                       0\nrepaglinide                     0\nnateglinide                     0\nchlorpropamide                  0\nglimepiride                     0\nacetohexamide                   0\nglipizide                       0\nglyburide                       0\ntolbutamide                     0\npioglitazone                    0\nrosiglitazone                   0\nacarbose                        0\nmiglitol                        0\ntroglitazone                    0\ntolazamide                      0\nexamide                         0\ncitoglipton                     0\ninsulin                         0\nglyburide.metformin             0\nglipizide.metformin             0\nglimepiride.pioglitazone        0\nmetformin.rosiglitazone         0\nmetformin.pioglitazone          0\nchange                          0\ndiabetesMed                     0\nreadmitted                      0\ndtype: int64"
     },
     "execution_count": 826,
     "metadata": {},
     "output_type": "execute_result"
    }
   ],
   "source": [
    "# Check Nulls\n",
    "print(\"Count Of Nulls:\")\n",
    "mainData.isna().sum()"
   ],
   "metadata": {
    "collapsed": false,
    "pycharm": {
     "name": "#%%\n"
    }
   }
  },
  {
   "cell_type": "code",
   "execution_count": 827,
   "outputs": [
    {
     "data": {
      "text/plain": "encounter_id                 int64\npatient_nbr                  int64\nrace                        object\ngender                      object\nage                         object\nweight                      object\nadmission_type_id            int64\ndischarge_disposition_id     int64\nadmission_source_id          int64\ntime_in_hospital             int64\npayer_code                  object\nmedical_specialty           object\nnum_lab_procedures           int64\nnum_procedures               int64\nnum_medications              int64\nnumber_outpatient            int64\nnumber_emergency             int64\nnumber_inpatient             int64\ndiag_1                      object\ndiag_2                      object\ndiag_3                      object\nnumber_diagnoses             int64\nmax_glu_serum               object\nA1Cresult                   object\nmetformin                   object\nrepaglinide                 object\nnateglinide                 object\nchlorpropamide              object\nglimepiride                 object\nacetohexamide               object\nglipizide                   object\nglyburide                   object\ntolbutamide                 object\npioglitazone                object\nrosiglitazone               object\nacarbose                    object\nmiglitol                    object\ntroglitazone                object\ntolazamide                  object\nexamide                     object\ncitoglipton                 object\ninsulin                     object\nglyburide.metformin         object\nglipizide.metformin         object\nglimepiride.pioglitazone    object\nmetformin.rosiglitazone     object\nmetformin.pioglitazone      object\nchange                      object\ndiabetesMed                 object\nreadmitted                  object\ndtype: object"
     },
     "execution_count": 827,
     "metadata": {},
     "output_type": "execute_result"
    }
   ],
   "source": [
    "# Check data types\n",
    "mainData.dtypes"
   ],
   "metadata": {
    "collapsed": false,
    "pycharm": {
     "name": "#%%\n"
    }
   }
  },
  {
   "cell_type": "code",
   "execution_count": 828,
   "outputs": [
    {
     "name": "stdout",
     "output_type": "stream",
     "text": [
      "<class 'pandas.core.frame.DataFrame'>\n",
      "RangeIndex: 71518 entries, 0 to 71517\n",
      "Data columns (total 50 columns):\n",
      " #   Column                    Non-Null Count  Dtype \n",
      "---  ------                    --------------  ----- \n",
      " 0   encounter_id              71518 non-null  int64 \n",
      " 1   patient_nbr               71518 non-null  int64 \n",
      " 2   race                      69570 non-null  object\n",
      " 3   gender                    71518 non-null  object\n",
      " 4   age                       71518 non-null  object\n",
      " 5   weight                    2853 non-null   object\n",
      " 6   admission_type_id         71518 non-null  int64 \n",
      " 7   discharge_disposition_id  71518 non-null  int64 \n",
      " 8   admission_source_id       71518 non-null  int64 \n",
      " 9   time_in_hospital          71518 non-null  int64 \n",
      " 10  payer_code                40475 non-null  object\n",
      " 11  medical_specialty         37041 non-null  object\n",
      " 12  num_lab_procedures        71518 non-null  int64 \n",
      " 13  num_procedures            71518 non-null  int64 \n",
      " 14  num_medications           71518 non-null  int64 \n",
      " 15  number_outpatient         71518 non-null  int64 \n",
      " 16  number_emergency          71518 non-null  int64 \n",
      " 17  number_inpatient          71518 non-null  int64 \n",
      " 18  diag_1                    71507 non-null  object\n",
      " 19  diag_2                    71224 non-null  object\n",
      " 20  diag_3                    70293 non-null  object\n",
      " 21  number_diagnoses          71518 non-null  int64 \n",
      " 22  max_glu_serum             71518 non-null  object\n",
      " 23  A1Cresult                 71518 non-null  object\n",
      " 24  metformin                 71518 non-null  object\n",
      " 25  repaglinide               71518 non-null  object\n",
      " 26  nateglinide               71518 non-null  object\n",
      " 27  chlorpropamide            71518 non-null  object\n",
      " 28  glimepiride               71518 non-null  object\n",
      " 29  acetohexamide             71518 non-null  object\n",
      " 30  glipizide                 71518 non-null  object\n",
      " 31  glyburide                 71518 non-null  object\n",
      " 32  tolbutamide               71518 non-null  object\n",
      " 33  pioglitazone              71518 non-null  object\n",
      " 34  rosiglitazone             71518 non-null  object\n",
      " 35  acarbose                  71518 non-null  object\n",
      " 36  miglitol                  71518 non-null  object\n",
      " 37  troglitazone              71518 non-null  object\n",
      " 38  tolazamide                71518 non-null  object\n",
      " 39  examide                   71518 non-null  object\n",
      " 40  citoglipton               71518 non-null  object\n",
      " 41  insulin                   71518 non-null  object\n",
      " 42  glyburide.metformin       71518 non-null  object\n",
      " 43  glipizide.metformin       71518 non-null  object\n",
      " 44  glimepiride.pioglitazone  71518 non-null  object\n",
      " 45  metformin.rosiglitazone   71518 non-null  object\n",
      " 46  metformin.pioglitazone    71518 non-null  object\n",
      " 47  change                    71518 non-null  object\n",
      " 48  diabetesMed               71518 non-null  object\n",
      " 49  readmitted                71518 non-null  object\n",
      "dtypes: int64(13), object(37)\n",
      "memory usage: 27.3+ MB\n"
     ]
    }
   ],
   "source": [
    "mainData.info()"
   ],
   "metadata": {
    "collapsed": false,
    "pycharm": {
     "name": "#%%\n"
    }
   }
  },
  {
   "cell_type": "code",
   "execution_count": 829,
   "outputs": [
    {
     "data": {
      "text/plain": "        encounter_id   patient_nbr       race  gender      age    weight  \\\ncount   7.151800e+04  7.151800e+04      69570   71518    71518      2853   \nunique           NaN           NaN          5       3       10         9   \ntop              NaN           NaN  Caucasian  Female  [70-80)  [75-100)   \nfreq             NaN           NaN      53491   38025    18210      1195   \nmean    1.568156e+08  5.505160e+07        NaN     NaN      NaN       NaN   \nstd     1.003769e+08  3.947573e+07        NaN     NaN      NaN       NaN   \nmin     1.252200e+04  1.350000e+02        NaN     NaN      NaN       NaN   \n25%     8.145807e+07  2.337577e+07        NaN     NaN      NaN       NaN   \n50%     1.440574e+08  4.816680e+07        NaN     NaN      NaN       NaN   \n75%     2.155513e+08  8.752222e+07        NaN     NaN      NaN       NaN   \nmax     4.438672e+08  1.895026e+08        NaN     NaN      NaN       NaN   \n\n        admission_type_id  discharge_disposition_id  admission_source_id  \\\ncount        71518.000000              71518.000000         71518.000000   \nunique                NaN                       NaN                  NaN   \ntop                   NaN                       NaN                  NaN   \nfreq                  NaN                       NaN                  NaN   \nmean             2.100254                  3.593235             5.657457   \nstd              1.508301                  5.269771             4.162580   \nmin              1.000000                  1.000000             1.000000   \n25%              1.000000                  1.000000             1.000000   \n50%              1.000000                  1.000000             7.000000   \n75%              3.000000                  3.000000             7.000000   \nmax              8.000000                 28.000000            25.000000   \n\n        time_in_hospital  ... citoglipton insulin  glyburide.metformin  \\\ncount        71518.00000  ...       71518   71518                71518   \nunique               NaN  ...           1       4                    4   \ntop                  NaN  ...          No      No                   No   \nfreq                 NaN  ...       71518   34921                71016   \nmean             4.28913  ...         NaN     NaN                  NaN   \nstd              2.94921  ...         NaN     NaN                  NaN   \nmin              1.00000  ...         NaN     NaN                  NaN   \n25%              2.00000  ...         NaN     NaN                  NaN   \n50%              3.00000  ...         NaN     NaN                  NaN   \n75%              6.00000  ...         NaN     NaN                  NaN   \nmax             14.00000  ...         NaN     NaN                  NaN   \n\n        glipizide.metformin  glimepiride.pioglitazone  \\\ncount                 71518                     71518   \nunique                    2                         1   \ntop                      No                        No   \nfreq                  71511                     71518   \nmean                    NaN                       NaN   \nstd                     NaN                       NaN   \nmin                     NaN                       NaN   \n25%                     NaN                       NaN   \n50%                     NaN                       NaN   \n75%                     NaN                       NaN   \nmax                     NaN                       NaN   \n\n        metformin.rosiglitazone  metformin.pioglitazone  change diabetesMed  \\\ncount                     71518                   71518   71518       71518   \nunique                        2                       2       2           2   \ntop                          No                      No      No         Yes   \nfreq                      71516                   71517   39494       54319   \nmean                        NaN                     NaN     NaN         NaN   \nstd                         NaN                     NaN     NaN         NaN   \nmin                         NaN                     NaN     NaN         NaN   \n25%                         NaN                     NaN     NaN         NaN   \n50%                         NaN                     NaN     NaN         NaN   \n75%                         NaN                     NaN     NaN         NaN   \nmax                         NaN                     NaN     NaN         NaN   \n\n       readmitted  \ncount       71518  \nunique          3  \ntop            NO  \nfreq        42985  \nmean          NaN  \nstd           NaN  \nmin           NaN  \n25%           NaN  \n50%           NaN  \n75%           NaN  \nmax           NaN  \n\n[11 rows x 50 columns]",
      "text/html": "<div>\n<style scoped>\n    .dataframe tbody tr th:only-of-type {\n        vertical-align: middle;\n    }\n\n    .dataframe tbody tr th {\n        vertical-align: top;\n    }\n\n    .dataframe thead th {\n        text-align: right;\n    }\n</style>\n<table border=\"1\" class=\"dataframe\">\n  <thead>\n    <tr style=\"text-align: right;\">\n      <th></th>\n      <th>encounter_id</th>\n      <th>patient_nbr</th>\n      <th>race</th>\n      <th>gender</th>\n      <th>age</th>\n      <th>weight</th>\n      <th>admission_type_id</th>\n      <th>discharge_disposition_id</th>\n      <th>admission_source_id</th>\n      <th>time_in_hospital</th>\n      <th>...</th>\n      <th>citoglipton</th>\n      <th>insulin</th>\n      <th>glyburide.metformin</th>\n      <th>glipizide.metformin</th>\n      <th>glimepiride.pioglitazone</th>\n      <th>metformin.rosiglitazone</th>\n      <th>metformin.pioglitazone</th>\n      <th>change</th>\n      <th>diabetesMed</th>\n      <th>readmitted</th>\n    </tr>\n  </thead>\n  <tbody>\n    <tr>\n      <th>count</th>\n      <td>7.151800e+04</td>\n      <td>7.151800e+04</td>\n      <td>69570</td>\n      <td>71518</td>\n      <td>71518</td>\n      <td>2853</td>\n      <td>71518.000000</td>\n      <td>71518.000000</td>\n      <td>71518.000000</td>\n      <td>71518.00000</td>\n      <td>...</td>\n      <td>71518</td>\n      <td>71518</td>\n      <td>71518</td>\n      <td>71518</td>\n      <td>71518</td>\n      <td>71518</td>\n      <td>71518</td>\n      <td>71518</td>\n      <td>71518</td>\n      <td>71518</td>\n    </tr>\n    <tr>\n      <th>unique</th>\n      <td>NaN</td>\n      <td>NaN</td>\n      <td>5</td>\n      <td>3</td>\n      <td>10</td>\n      <td>9</td>\n      <td>NaN</td>\n      <td>NaN</td>\n      <td>NaN</td>\n      <td>NaN</td>\n      <td>...</td>\n      <td>1</td>\n      <td>4</td>\n      <td>4</td>\n      <td>2</td>\n      <td>1</td>\n      <td>2</td>\n      <td>2</td>\n      <td>2</td>\n      <td>2</td>\n      <td>3</td>\n    </tr>\n    <tr>\n      <th>top</th>\n      <td>NaN</td>\n      <td>NaN</td>\n      <td>Caucasian</td>\n      <td>Female</td>\n      <td>[70-80)</td>\n      <td>[75-100)</td>\n      <td>NaN</td>\n      <td>NaN</td>\n      <td>NaN</td>\n      <td>NaN</td>\n      <td>...</td>\n      <td>No</td>\n      <td>No</td>\n      <td>No</td>\n      <td>No</td>\n      <td>No</td>\n      <td>No</td>\n      <td>No</td>\n      <td>No</td>\n      <td>Yes</td>\n      <td>NO</td>\n    </tr>\n    <tr>\n      <th>freq</th>\n      <td>NaN</td>\n      <td>NaN</td>\n      <td>53491</td>\n      <td>38025</td>\n      <td>18210</td>\n      <td>1195</td>\n      <td>NaN</td>\n      <td>NaN</td>\n      <td>NaN</td>\n      <td>NaN</td>\n      <td>...</td>\n      <td>71518</td>\n      <td>34921</td>\n      <td>71016</td>\n      <td>71511</td>\n      <td>71518</td>\n      <td>71516</td>\n      <td>71517</td>\n      <td>39494</td>\n      <td>54319</td>\n      <td>42985</td>\n    </tr>\n    <tr>\n      <th>mean</th>\n      <td>1.568156e+08</td>\n      <td>5.505160e+07</td>\n      <td>NaN</td>\n      <td>NaN</td>\n      <td>NaN</td>\n      <td>NaN</td>\n      <td>2.100254</td>\n      <td>3.593235</td>\n      <td>5.657457</td>\n      <td>4.28913</td>\n      <td>...</td>\n      <td>NaN</td>\n      <td>NaN</td>\n      <td>NaN</td>\n      <td>NaN</td>\n      <td>NaN</td>\n      <td>NaN</td>\n      <td>NaN</td>\n      <td>NaN</td>\n      <td>NaN</td>\n      <td>NaN</td>\n    </tr>\n    <tr>\n      <th>std</th>\n      <td>1.003769e+08</td>\n      <td>3.947573e+07</td>\n      <td>NaN</td>\n      <td>NaN</td>\n      <td>NaN</td>\n      <td>NaN</td>\n      <td>1.508301</td>\n      <td>5.269771</td>\n      <td>4.162580</td>\n      <td>2.94921</td>\n      <td>...</td>\n      <td>NaN</td>\n      <td>NaN</td>\n      <td>NaN</td>\n      <td>NaN</td>\n      <td>NaN</td>\n      <td>NaN</td>\n      <td>NaN</td>\n      <td>NaN</td>\n      <td>NaN</td>\n      <td>NaN</td>\n    </tr>\n    <tr>\n      <th>min</th>\n      <td>1.252200e+04</td>\n      <td>1.350000e+02</td>\n      <td>NaN</td>\n      <td>NaN</td>\n      <td>NaN</td>\n      <td>NaN</td>\n      <td>1.000000</td>\n      <td>1.000000</td>\n      <td>1.000000</td>\n      <td>1.00000</td>\n      <td>...</td>\n      <td>NaN</td>\n      <td>NaN</td>\n      <td>NaN</td>\n      <td>NaN</td>\n      <td>NaN</td>\n      <td>NaN</td>\n      <td>NaN</td>\n      <td>NaN</td>\n      <td>NaN</td>\n      <td>NaN</td>\n    </tr>\n    <tr>\n      <th>25%</th>\n      <td>8.145807e+07</td>\n      <td>2.337577e+07</td>\n      <td>NaN</td>\n      <td>NaN</td>\n      <td>NaN</td>\n      <td>NaN</td>\n      <td>1.000000</td>\n      <td>1.000000</td>\n      <td>1.000000</td>\n      <td>2.00000</td>\n      <td>...</td>\n      <td>NaN</td>\n      <td>NaN</td>\n      <td>NaN</td>\n      <td>NaN</td>\n      <td>NaN</td>\n      <td>NaN</td>\n      <td>NaN</td>\n      <td>NaN</td>\n      <td>NaN</td>\n      <td>NaN</td>\n    </tr>\n    <tr>\n      <th>50%</th>\n      <td>1.440574e+08</td>\n      <td>4.816680e+07</td>\n      <td>NaN</td>\n      <td>NaN</td>\n      <td>NaN</td>\n      <td>NaN</td>\n      <td>1.000000</td>\n      <td>1.000000</td>\n      <td>7.000000</td>\n      <td>3.00000</td>\n      <td>...</td>\n      <td>NaN</td>\n      <td>NaN</td>\n      <td>NaN</td>\n      <td>NaN</td>\n      <td>NaN</td>\n      <td>NaN</td>\n      <td>NaN</td>\n      <td>NaN</td>\n      <td>NaN</td>\n      <td>NaN</td>\n    </tr>\n    <tr>\n      <th>75%</th>\n      <td>2.155513e+08</td>\n      <td>8.752222e+07</td>\n      <td>NaN</td>\n      <td>NaN</td>\n      <td>NaN</td>\n      <td>NaN</td>\n      <td>3.000000</td>\n      <td>3.000000</td>\n      <td>7.000000</td>\n      <td>6.00000</td>\n      <td>...</td>\n      <td>NaN</td>\n      <td>NaN</td>\n      <td>NaN</td>\n      <td>NaN</td>\n      <td>NaN</td>\n      <td>NaN</td>\n      <td>NaN</td>\n      <td>NaN</td>\n      <td>NaN</td>\n      <td>NaN</td>\n    </tr>\n    <tr>\n      <th>max</th>\n      <td>4.438672e+08</td>\n      <td>1.895026e+08</td>\n      <td>NaN</td>\n      <td>NaN</td>\n      <td>NaN</td>\n      <td>NaN</td>\n      <td>8.000000</td>\n      <td>28.000000</td>\n      <td>25.000000</td>\n      <td>14.00000</td>\n      <td>...</td>\n      <td>NaN</td>\n      <td>NaN</td>\n      <td>NaN</td>\n      <td>NaN</td>\n      <td>NaN</td>\n      <td>NaN</td>\n      <td>NaN</td>\n      <td>NaN</td>\n      <td>NaN</td>\n      <td>NaN</td>\n    </tr>\n  </tbody>\n</table>\n<p>11 rows × 50 columns</p>\n</div>"
     },
     "execution_count": 829,
     "metadata": {},
     "output_type": "execute_result"
    }
   ],
   "source": [
    "# Describe\n",
    "mainData.describe(include='all')"
   ],
   "metadata": {
    "collapsed": false,
    "pycharm": {
     "name": "#%%\n"
    }
   }
  },
  {
   "cell_type": "code",
   "execution_count": 830,
   "outputs": [],
   "source": [
    "numericFeatures = mainData.select_dtypes(include= np.number)\n",
    "numericFeatures =  numericFeatures.drop(columns=['encounter_id','patient_nbr'])"
   ],
   "metadata": {
    "collapsed": false,
    "pycharm": {
     "name": "#%%\n"
    }
   }
  },
  {
   "cell_type": "code",
   "execution_count": 831,
   "outputs": [
    {
     "data": {
      "text/plain": "admission_type_id             8\ndischarge_disposition_id     26\nadmission_source_id          17\ntime_in_hospital             14\nnum_lab_procedures          116\nnum_procedures                7\nnum_medications              75\nnumber_outpatient            33\nnumber_emergency             18\nnumber_inpatient             13\nnumber_diagnoses             16\ndtype: int64"
     },
     "execution_count": 831,
     "metadata": {},
     "output_type": "execute_result"
    }
   ],
   "source": [
    "numericFeatures.nunique()"
   ],
   "metadata": {
    "collapsed": false,
    "pycharm": {
     "name": "#%%\n"
    }
   }
  },
  {
   "cell_type": "code",
   "execution_count": 832,
   "outputs": [
    {
     "data": {
      "text/plain": "<Figure size 1080x648 with 12 Axes>",
      "image/png": "[encoded data removed]"
     },
     "metadata": {},
     "output_type": "display_data"
    }
   ],
   "source": [
    "# Distribution Plots\n",
    "\n",
    "fig, axes = plt.subplots(4,3, sharex=False, sharey=False, figsize=(15,9))\n",
    "fig.suptitle('Distribution Plots of Numeric Features')\n",
    "\n",
    "sns.distplot(numericFeatures['admission_type_id'], ax=axes[0,0], kde=True).set(title='admission_type_id')\n",
    "sns.distplot(numericFeatures['discharge_disposition_id'], ax=axes[0,1], kde=True).set(title='discharge_disposition_id')\n",
    "sns.distplot(numericFeatures['admission_source_id'], ax=axes[0,2], kde=True).set(title='admission_source_id')\n",
    "sns.distplot(numericFeatures['time_in_hospital'], ax=axes[1,0], kde=True).set(title='time_in_hospital')\n",
    "sns.distplot(numericFeatures['num_lab_procedures'], ax=axes[1,1], kde=True).set(title='num_lab_procedures')\n",
    "sns.distplot(numericFeatures['num_procedures'], ax=axes[1,2], kde=False).set(title='num_procedures')\n",
    "sns.distplot(numericFeatures['num_medications'], ax=axes[2,0], kde=True).set(title='num_medications')\n",
    "sns.distplot(numericFeatures['number_outpatient'], ax=axes[2,1], kde=True).set(title='number_outpatient')\n",
    "sns.distplot(numericFeatures['number_emergency'], ax=axes[2,2], kde=False).set(title='number_emergency')\n",
    "sns.distplot(numericFeatures['number_inpatient'], ax=axes[3,0], kde=True).set(title='number_inpatient')\n",
    "sns.distplot(numericFeatures['number_diagnoses'], ax=axes[3,1], kde=True).set(title='number_diagnoses')\n",
    "\n",
    "plt.show()"
   ],
   "metadata": {
    "collapsed": false,
    "pycharm": {
     "name": "#%%\n"
    }
   }
  },
  {
   "cell_type": "code",
   "execution_count": 833,
   "outputs": [],
   "source": [
    "# sns.pairplot(numericFeatures)"
   ],
   "metadata": {
    "collapsed": false,
    "pycharm": {
     "name": "#%%\n"
    }
   }
  },
  {
   "cell_type": "markdown",
   "source": [
    "## General Data Clean-Up (Before Test/Train Split)\n"
   ],
   "metadata": {
    "collapsed": false
   }
  },
  {
   "cell_type": "code",
   "execution_count": 834,
   "outputs": [
    {
     "name": "stdout",
     "output_type": "stream",
     "text": [
      "Count of Variables: 50\n",
      "Count of Variables without nulls: 43\n",
      "Count of Variables with null : 7\n"
     ]
    },
    {
     "data": {
      "text/plain": "             Variable Observations  Nulls  Null_Per Num_Unique    Type\n5              weight        71518  68665    96.011          9  object\n11  medical_specialty        71518  34477    48.207         70  object\n10         payer_code        71518  31043    43.406         17  object\n2                race        71518   1948     2.724          5  object\n20             diag_3        71518   1225     1.713        758  object\n19             diag_2        71518    294     0.411        725  object\n18             diag_1        71518     11     0.015        696  object",
      "text/html": "<div>\n<style scoped>\n    .dataframe tbody tr th:only-of-type {\n        vertical-align: middle;\n    }\n\n    .dataframe tbody tr th {\n        vertical-align: top;\n    }\n\n    .dataframe thead th {\n        text-align: right;\n    }\n</style>\n<table border=\"1\" class=\"dataframe\">\n  <thead>\n    <tr style=\"text-align: right;\">\n      <th></th>\n      <th>Variable</th>\n      <th>Observations</th>\n      <th>Nulls</th>\n      <th>Null_Per</th>\n      <th>Num_Unique</th>\n      <th>Type</th>\n    </tr>\n  </thead>\n  <tbody>\n    <tr>\n      <th>5</th>\n      <td>weight</td>\n      <td>71518</td>\n      <td>68665</td>\n      <td>96.011</td>\n      <td>9</td>\n      <td>object</td>\n    </tr>\n    <tr>\n      <th>11</th>\n      <td>medical_specialty</td>\n      <td>71518</td>\n      <td>34477</td>\n      <td>48.207</td>\n      <td>70</td>\n      <td>object</td>\n    </tr>\n    <tr>\n      <th>10</th>\n      <td>payer_code</td>\n      <td>71518</td>\n      <td>31043</td>\n      <td>43.406</td>\n      <td>17</td>\n      <td>object</td>\n    </tr>\n    <tr>\n      <th>2</th>\n      <td>race</td>\n      <td>71518</td>\n      <td>1948</td>\n      <td>2.724</td>\n      <td>5</td>\n      <td>object</td>\n    </tr>\n    <tr>\n      <th>20</th>\n      <td>diag_3</td>\n      <td>71518</td>\n      <td>1225</td>\n      <td>1.713</td>\n      <td>758</td>\n      <td>object</td>\n    </tr>\n    <tr>\n      <th>19</th>\n      <td>diag_2</td>\n      <td>71518</td>\n      <td>294</td>\n      <td>0.411</td>\n      <td>725</td>\n      <td>object</td>\n    </tr>\n    <tr>\n      <th>18</th>\n      <td>diag_1</td>\n      <td>71518</td>\n      <td>11</td>\n      <td>0.015</td>\n      <td>696</td>\n      <td>object</td>\n    </tr>\n  </tbody>\n</table>\n</div>"
     },
     "execution_count": 834,
     "metadata": {},
     "output_type": "execute_result"
    }
   ],
   "source": [
    "# Print Null Summary\n",
    "nullSummary = nullAnalysis2(mainData)\n",
    "nullSummary"
   ],
   "metadata": {
    "collapsed": false,
    "pycharm": {
     "name": "#%%\n"
    }
   }
  },
  {
   "cell_type": "code",
   "execution_count": 835,
   "outputs": [],
   "source": [
    "# Null Clean-Up1 -- Drop Columns with high % of nulls, that aren't worth filling\n",
    "mainData = mainData.drop(columns=['weight','medical_specialty','payer_code'])"
   ],
   "metadata": {
    "collapsed": false,
    "pycharm": {
     "name": "#%%\n"
    }
   }
  },
  {
   "cell_type": "code",
   "source": [
    "# Diag Clean-Up\n",
    "## If diag_2 is null, then use diag_3.  If diag_1 is null, then use diag_2\n",
    "## Solves all but 1 null Diag1, which is dropped\n",
    "## TODO: Determine how to drop value from column that I pull from.\n",
    "mainData['diag_2'] = mainData['diag_2'].fillna(mainData['diag_3'])\n",
    "mainData['diag_1'] = mainData['diag_1'].fillna(mainData['diag_2'])\n",
    "mainData = mainData.dropna(subset=['diag_1'])"
   ],
   "metadata": {
    "collapsed": false,
    "pycharm": {
     "name": "#%%\n"
    }
   },
   "execution_count": 836,
   "outputs": []
  },
  {
   "cell_type": "code",
   "execution_count": 837,
   "outputs": [],
   "source": [
    "# Remove Deceased Patients\n",
    "## Note: The research question is about predicting what patients will be re-admitted.\n",
    "## In order to not skew the resutls, patients who died while admitted should be removed from the prediction\n",
    "\n",
    "# Create List of Deceased\n",
    "## Note: I only removed cases that explicity said the patient expired.\n",
    "## I did not remove patients who were transfered to hospice (13,14)\n",
    "\n",
    "expCodes = ['11','19','20','21']\n",
    "mainData = mainData[~mainData['discharge_disposition_id'].isin(expCodes)]"
   ],
   "metadata": {
    "collapsed": false,
    "pycharm": {
     "name": "#%%\n"
    }
   }
  },
  {
   "cell_type": "code",
   "execution_count": 838,
   "outputs": [
    {
     "name": "stdout",
     "output_type": "stream",
     "text": [
      "Count of Variables: 47\n",
      "Count of Variables without nulls: 44\n",
      "Count of Variables with null : 3\n"
     ]
    },
    {
     "data": {
      "text/plain": "   Variable Observations Nulls  Null_Per Num_Unique    Type\n2      race        70433  1921     2.727          5  object\n17   diag_3        70433  1224     1.738        757  object\n16   diag_2        70433   243     0.345        724  object",
      "text/html": "<div>\n<style scoped>\n    .dataframe tbody tr th:only-of-type {\n        vertical-align: middle;\n    }\n\n    .dataframe tbody tr th {\n        vertical-align: top;\n    }\n\n    .dataframe thead th {\n        text-align: right;\n    }\n</style>\n<table border=\"1\" class=\"dataframe\">\n  <thead>\n    <tr style=\"text-align: right;\">\n      <th></th>\n      <th>Variable</th>\n      <th>Observations</th>\n      <th>Nulls</th>\n      <th>Null_Per</th>\n      <th>Num_Unique</th>\n      <th>Type</th>\n    </tr>\n  </thead>\n  <tbody>\n    <tr>\n      <th>2</th>\n      <td>race</td>\n      <td>70433</td>\n      <td>1921</td>\n      <td>2.727</td>\n      <td>5</td>\n      <td>object</td>\n    </tr>\n    <tr>\n      <th>17</th>\n      <td>diag_3</td>\n      <td>70433</td>\n      <td>1224</td>\n      <td>1.738</td>\n      <td>757</td>\n      <td>object</td>\n    </tr>\n    <tr>\n      <th>16</th>\n      <td>diag_2</td>\n      <td>70433</td>\n      <td>243</td>\n      <td>0.345</td>\n      <td>724</td>\n      <td>object</td>\n    </tr>\n  </tbody>\n</table>\n</div>"
     },
     "execution_count": 838,
     "metadata": {},
     "output_type": "execute_result"
    }
   ],
   "source": [
    "# Re-Run Null Summary\n",
    "nullSummary = nullAnalysis2(mainData)\n",
    "nullSummary"
   ],
   "metadata": {
    "collapsed": false,
    "pycharm": {
     "name": "#%%\n"
    }
   }
  },
  {
   "cell_type": "code",
   "execution_count": 839,
   "outputs": [],
   "source": [
    "# Ordinal Encode Medication Variables\n",
    "\n",
    "## Set List of Variabales\n",
    "medCols = ['metformin','repaglinide','nateglinide','chlorpropamide','glimepiride',\n",
    "            'acetohexamide','glipizide','glyburide','tolbutamide','pioglitazone',\n",
    "            'rosiglitazone','acarbose','miglitol','troglitazone','tolazamide','examide',\n",
    "            'citoglipton','insulin','glyburide.metformin','glipizide.metformin','glimepiride.pioglitazone',\n",
    "            'metformin.rosiglitazone','metformin.pioglitazone'] #Note: 'README' states 'sitagliptin' but not in data\n",
    "\n",
    "## Define Func Params\n",
    "df=mainData\n",
    "listOfVars = medCols\n",
    "order = ['No','Down','Steady','Up']\n",
    "\n",
    "## Execute\n",
    "mainData  = OrdinalEncoderFunc(df,listOfVars,order)"
   ],
   "metadata": {
    "collapsed": false,
    "pycharm": {
     "name": "#%%\n"
    }
   }
  },
  {
   "cell_type": "code",
   "execution_count": 840,
   "outputs": [],
   "source": [
    "# Add Variable For Number of Medications\n",
    "\n",
    "mainData.insert(47,\"num_of_meds\", 0)\n",
    "mainData['num_of_meds'] = mainData[medCols].ne(0).sum(axis=1)"
   ],
   "metadata": {
    "collapsed": false,
    "pycharm": {
     "name": "#%%\n"
    }
   }
  },
  {
   "cell_type": "code",
   "execution_count": 841,
   "outputs": [],
   "source": [
    "# Add Variable for Medication Level Up Or Down\n",
    "\n",
    "## In the Medication columns 1 signifies that dosage decreased, 3 signifies that dosage increased\n",
    "## This counts the number of 1 and coverts to a negative, then the adds the number of 3\n",
    "## Result indicates the net level of medication change\n",
    "\n",
    "mainData.insert(48,\"med_level_direction\", 0)\n",
    "mainData['med_level_direction'] = ((mainData[medCols] == 1).sum(axis=1)*-1) + \\\n",
    "                                  (mainData[medCols] == 3).sum(axis=1)"
   ],
   "metadata": {
    "collapsed": false,
    "pycharm": {
     "name": "#%%\n"
    }
   }
  },
  {
   "cell_type": "markdown",
   "source": [
    "### Replace Look-Up Values With Literal Values\n"
   ],
   "metadata": {
    "collapsed": false
   }
  },
  {
   "cell_type": "code",
   "execution_count": 842,
   "outputs": [
    {
     "data": {
      "text/plain": "   encounter_id  patient_nbr       race  gender      age  admission_type_id  \\\n0      24437208          135  Caucasian  Female  [50-60)                  2   \n1      60254142         1314  Caucasian  Female  [40-50)                  2   \n2      14897280         2025  Caucasian  Female  [70-80)                  2   \n3      36469686         3069  Caucasian    Male  [60-70)                  2   \n4      20602470         8460  Caucasian    Male  [80-90)                  2   \n\n   discharge_disposition_id admission_type_value  admission_source_id  \\\n0                         1               Urgent                    1   \n1                         1               Urgent                    1   \n2                         3               Urgent                    1   \n3                         1               Urgent                    1   \n4                         1               Urgent                    1   \n\n   time_in_hospital  ...  glyburide.metformin  glipizide.metformin  \\\n0                 8  ...                  0.0                  0.0   \n1                 2  ...                  0.0                  0.0   \n2                12  ...                  0.0                  0.0   \n3                 8  ...                  0.0                  0.0   \n4                 2  ...                  0.0                  0.0   \n\n   glimepiride.pioglitazone  metformin.rosiglitazone  metformin.pioglitazone  \\\n0                       0.0                      0.0                     0.0   \n1                       0.0                      0.0                     0.0   \n2                       0.0                      0.0                     0.0   \n3                       0.0                      0.0                     0.0   \n4                       0.0                      0.0                     0.0   \n\n   change diabetesMed readmitted num_of_meds  med_level_direction  \n0      Ch         Yes        <30           3                   -1  \n1      No         Yes        >30           1                    0  \n2      Ch         Yes         NO           2                   -1  \n3      No         Yes         NO           1                    0  \n4      No         Yes         NO           1                    0  \n\n[5 rows x 50 columns]",
      "text/html": "<div>\n<style scoped>\n    .dataframe tbody tr th:only-of-type {\n        vertical-align: middle;\n    }\n\n    .dataframe tbody tr th {\n        vertical-align: top;\n    }\n\n    .dataframe thead th {\n        text-align: right;\n    }\n</style>\n<table border=\"1\" class=\"dataframe\">\n  <thead>\n    <tr style=\"text-align: right;\">\n      <th></th>\n      <th>encounter_id</th>\n      <th>patient_nbr</th>\n      <th>race</th>\n      <th>gender</th>\n      <th>age</th>\n      <th>admission_type_id</th>\n      <th>discharge_disposition_id</th>\n      <th>admission_type_value</th>\n      <th>admission_source_id</th>\n      <th>time_in_hospital</th>\n      <th>...</th>\n      <th>glyburide.metformin</th>\n      <th>glipizide.metformin</th>\n      <th>glimepiride.pioglitazone</th>\n      <th>metformin.rosiglitazone</th>\n      <th>metformin.pioglitazone</th>\n      <th>change</th>\n      <th>diabetesMed</th>\n      <th>readmitted</th>\n      <th>num_of_meds</th>\n      <th>med_level_direction</th>\n    </tr>\n  </thead>\n  <tbody>\n    <tr>\n      <th>0</th>\n      <td>24437208</td>\n      <td>135</td>\n      <td>Caucasian</td>\n      <td>Female</td>\n      <td>[50-60)</td>\n      <td>2</td>\n      <td>1</td>\n      <td>Urgent</td>\n      <td>1</td>\n      <td>8</td>\n      <td>...</td>\n      <td>0.0</td>\n      <td>0.0</td>\n      <td>0.0</td>\n      <td>0.0</td>\n      <td>0.0</td>\n      <td>Ch</td>\n      <td>Yes</td>\n      <td>&lt;30</td>\n      <td>3</td>\n      <td>-1</td>\n    </tr>\n    <tr>\n      <th>1</th>\n      <td>60254142</td>\n      <td>1314</td>\n      <td>Caucasian</td>\n      <td>Female</td>\n      <td>[40-50)</td>\n      <td>2</td>\n      <td>1</td>\n      <td>Urgent</td>\n      <td>1</td>\n      <td>2</td>\n      <td>...</td>\n      <td>0.0</td>\n      <td>0.0</td>\n      <td>0.0</td>\n      <td>0.0</td>\n      <td>0.0</td>\n      <td>No</td>\n      <td>Yes</td>\n      <td>&gt;30</td>\n      <td>1</td>\n      <td>0</td>\n    </tr>\n    <tr>\n      <th>2</th>\n      <td>14897280</td>\n      <td>2025</td>\n      <td>Caucasian</td>\n      <td>Female</td>\n      <td>[70-80)</td>\n      <td>2</td>\n      <td>3</td>\n      <td>Urgent</td>\n      <td>1</td>\n      <td>12</td>\n      <td>...</td>\n      <td>0.0</td>\n      <td>0.0</td>\n      <td>0.0</td>\n      <td>0.0</td>\n      <td>0.0</td>\n      <td>Ch</td>\n      <td>Yes</td>\n      <td>NO</td>\n      <td>2</td>\n      <td>-1</td>\n    </tr>\n    <tr>\n      <th>3</th>\n      <td>36469686</td>\n      <td>3069</td>\n      <td>Caucasian</td>\n      <td>Male</td>\n      <td>[60-70)</td>\n      <td>2</td>\n      <td>1</td>\n      <td>Urgent</td>\n      <td>1</td>\n      <td>8</td>\n      <td>...</td>\n      <td>0.0</td>\n      <td>0.0</td>\n      <td>0.0</td>\n      <td>0.0</td>\n      <td>0.0</td>\n      <td>No</td>\n      <td>Yes</td>\n      <td>NO</td>\n      <td>1</td>\n      <td>0</td>\n    </tr>\n    <tr>\n      <th>4</th>\n      <td>20602470</td>\n      <td>8460</td>\n      <td>Caucasian</td>\n      <td>Male</td>\n      <td>[80-90)</td>\n      <td>2</td>\n      <td>1</td>\n      <td>Urgent</td>\n      <td>1</td>\n      <td>2</td>\n      <td>...</td>\n      <td>0.0</td>\n      <td>0.0</td>\n      <td>0.0</td>\n      <td>0.0</td>\n      <td>0.0</td>\n      <td>No</td>\n      <td>Yes</td>\n      <td>NO</td>\n      <td>1</td>\n      <td>0</td>\n    </tr>\n  </tbody>\n</table>\n<p>5 rows × 50 columns</p>\n</div>"
     },
     "execution_count": 842,
     "metadata": {},
     "output_type": "execute_result"
    }
   ],
   "source": [
    "# Add Admission Type Values (Note: Did not drop ID)\n",
    "\n",
    "# Add Column\n",
    "mainData.insert(7,\"admission_type_value\", 0)\n",
    "\n",
    "# Left Join\n",
    "mainData = pd.merge(mainData,admissionTypeLookUp,on='admission_type_id')\n",
    "\n",
    "# Replace Values\n",
    "mainData['admission_type_value'] = mainData['description']\n",
    "mainData = mainData.drop(columns=['description'])\n",
    "mainData.head()"
   ],
   "metadata": {
    "collapsed": false,
    "pycharm": {
     "name": "#%%\n"
    }
   }
  },
  {
   "cell_type": "markdown",
   "source": [
    "## Additional Data Clean-Up (After Test/Train Split)"
   ],
   "metadata": {
    "collapsed": false
   }
  },
  {
   "cell_type": "code",
   "execution_count": 843,
   "outputs": [],
   "source": [
    "def EncodeResponse (df):\n",
    "    df=df\n",
    "    # Execute Encoding\n",
    "    dummyTemp = pd.get_dummies(df['readmitted'],prefix='readmitted_')\n",
    "    df = df.join(dummyTemp)\n",
    "    # Customize/ Clean-Up\n",
    "    ## Make 'readmitted' more logical so it is 0 when no and 1 when yes\n",
    "    df = df.drop(columns=['readmitted']) # Drop Old Readmitted Column\n",
    "    df = df.rename(columns={'readmitted__NO': 'readmitted'}) # Rename encoded column\n",
    "    df = df.dropna(subset=['readmitted']) # drop puzzling 1 nan value\n",
    "    df['readmitted'] = df['readmitted'].map({0:1, 1:0}) # reverse encoding to make logical\n",
    "    return df"
   ],
   "metadata": {
    "collapsed": false,
    "pycharm": {
     "name": "#%%\n"
    }
   }
  },
  {
   "cell_type": "code",
   "execution_count": 844,
   "outputs": [],
   "source": [
    "def AdditionalClean (df):\n",
    "    df=df\n",
    "    #1 - Null Clean-Up2 -- Fillna's for variables with nulls that have value to keep\n",
    "    df['race'] = df['race'].fillna('Unknown')\n",
    "    #2 - EncodeResponse\n",
    "    df = EncodeResponse(df)\n",
    "    return df"
   ],
   "metadata": {
    "collapsed": false,
    "pycharm": {
     "name": "#%%\n"
    }
   }
  },
  {
   "cell_type": "code",
   "execution_count": 845,
   "outputs": [
    {
     "data": {
      "text/plain": "Caucasian          52663\nAfricanAmerican    12692\nUnknown             1921\nHispanic            1506\nOther               1161\nAsian                490\nName: race, dtype: int64"
     },
     "execution_count": 845,
     "metadata": {},
     "output_type": "execute_result"
    }
   ],
   "source": [
    "mainData = AdditionalClean(mainData)\n",
    "mainData['race'].value_counts(dropna=False)"
   ],
   "metadata": {
    "collapsed": false,
    "pycharm": {
     "name": "#%%\n"
    }
   }
  },
  {
   "cell_type": "markdown",
   "source": [
    "# Run Models"
   ],
   "metadata": {
    "collapsed": false
   }
  },
  {
   "cell_type": "markdown",
   "source": [
    "## Prep -- Split Data\n",
    "TODO: This is the wrong place - should be earlier in the code - adding here for now to just get the models working\n",
    "and because I was confused by where to split based on needing to clean the response variable (ie should I split twice)\n",
    "\n",
    "TODO: Don't yet know how to deal with multiple response variables.  First pass will keep it simple and only predict\n",
    "if readmitted is yes/no.  Will need to add timeline response variables later"
   ],
   "metadata": {
    "collapsed": false
   }
  },
  {
   "cell_type": "code",
   "execution_count": 846,
   "outputs": [],
   "source": [
    "# TEMP: Create copy of mainData\n",
    "\n",
    "tempModelingDF = mainData"
   ],
   "metadata": {
    "collapsed": false,
    "pycharm": {
     "name": "#%%\n"
    }
   }
  },
  {
   "cell_type": "code",
   "execution_count": 847,
   "outputs": [
    {
     "data": {
      "text/plain": "       encounter_id  patient_nbr             race  gender      age  \\\n0          24437208          135        Caucasian  Female  [50-60)   \n1          60254142         1314        Caucasian  Female  [40-50)   \n2          14897280         2025        Caucasian  Female  [70-80)   \n3          36469686         3069        Caucasian    Male  [60-70)   \n4          20602470         8460        Caucasian    Male  [80-90)   \n...             ...          ...              ...     ...      ...   \n70428     402583472    141357506  AfricanAmerican    Male  [50-60)   \n70429     389059568    141433160        Caucasian  Female  [80-90)   \n70430     311376116    141459548        Caucasian  Female  [80-90)   \n70431     403231316    141466478        Caucasian    Male  [10-20)   \n70432     308496164    141501551        Caucasian  Female  [60-70)   \n\n       admission_type_id  discharge_disposition_id admission_type_value  \\\n0                      2                         1               Urgent   \n1                      2                         1               Urgent   \n2                      2                         3               Urgent   \n3                      2                         1               Urgent   \n4                      2                         1               Urgent   \n...                  ...                       ...                  ...   \n70428                  7                         3        Trauma Center   \n70429                  7                         3        Trauma Center   \n70430                  7                         1        Trauma Center   \n70431                  7                         6        Trauma Center   \n70432                  7                        22        Trauma Center   \n\n       admission_source_id  time_in_hospital  ...  glimepiride.pioglitazone  \\\n0                        1                 8  ...                       0.0   \n1                        1                 2  ...                       0.0   \n2                        1                12  ...                       0.0   \n3                        1                 8  ...                       0.0   \n4                        1                 2  ...                       0.0   \n...                    ...               ...  ...                       ...   \n70428                    7                 6  ...                       0.0   \n70429                    7                 4  ...                       0.0   \n70430                    7                 2  ...                       0.0   \n70431                    7                 9  ...                       0.0   \n70432                    7                 8  ...                       0.0   \n\n       metformin.rosiglitazone  metformin.pioglitazone  change  diabetesMed  \\\n0                          0.0                     0.0      Ch          Yes   \n1                          0.0                     0.0      No          Yes   \n2                          0.0                     0.0      Ch          Yes   \n3                          0.0                     0.0      No          Yes   \n4                          0.0                     0.0      No          Yes   \n...                        ...                     ...     ...          ...   \n70428                      0.0                     0.0      No          Yes   \n70429                      0.0                     0.0      No           No   \n70430                      0.0                     0.0      Ch          Yes   \n70431                      0.0                     0.0      No           No   \n70432                      0.0                     0.0      Ch          Yes   \n\n       num_of_meds med_level_direction readmitted__<30 readmitted__>30  \\\n0                3                  -1               1               0   \n1                1                   0               0               1   \n2                2                  -1               0               0   \n3                1                   0               0               0   \n4                1                   0               0               0   \n...            ...                 ...             ...             ...   \n70428            1                   0               0               0   \n70429            0                   0               0               0   \n70430            2                   0               0               0   \n70431            0                   0               0               0   \n70432            3                  -1               0               0   \n\n       readmitted  \n0               1  \n1               1  \n2               0  \n3               0  \n4               0  \n...           ...  \n70428           0  \n70429           0  \n70430           0  \n70431           0  \n70432           0  \n\n[70433 rows x 52 columns]",
      "text/html": "<div>\n<style scoped>\n    .dataframe tbody tr th:only-of-type {\n        vertical-align: middle;\n    }\n\n    .dataframe tbody tr th {\n        vertical-align: top;\n    }\n\n    .dataframe thead th {\n        text-align: right;\n    }\n</style>\n<table border=\"1\" class=\"dataframe\">\n  <thead>\n    <tr style=\"text-align: right;\">\n      <th></th>\n      <th>encounter_id</th>\n      <th>patient_nbr</th>\n      <th>race</th>\n      <th>gender</th>\n      <th>age</th>\n      <th>admission_type_id</th>\n      <th>discharge_disposition_id</th>\n      <th>admission_type_value</th>\n      <th>admission_source_id</th>\n      <th>time_in_hospital</th>\n      <th>...</th>\n      <th>glimepiride.pioglitazone</th>\n      <th>metformin.rosiglitazone</th>\n      <th>metformin.pioglitazone</th>\n      <th>change</th>\n      <th>diabetesMed</th>\n      <th>num_of_meds</th>\n      <th>med_level_direction</th>\n      <th>readmitted__&lt;30</th>\n      <th>readmitted__&gt;30</th>\n      <th>readmitted</th>\n    </tr>\n  </thead>\n  <tbody>\n    <tr>\n      <th>0</th>\n      <td>24437208</td>\n      <td>135</td>\n      <td>Caucasian</td>\n      <td>Female</td>\n      <td>[50-60)</td>\n      <td>2</td>\n      <td>1</td>\n      <td>Urgent</td>\n      <td>1</td>\n      <td>8</td>\n      <td>...</td>\n      <td>0.0</td>\n      <td>0.0</td>\n      <td>0.0</td>\n      <td>Ch</td>\n      <td>Yes</td>\n      <td>3</td>\n      <td>-1</td>\n      <td>1</td>\n      <td>0</td>\n      <td>1</td>\n    </tr>\n    <tr>\n      <th>1</th>\n      <td>60254142</td>\n      <td>1314</td>\n      <td>Caucasian</td>\n      <td>Female</td>\n      <td>[40-50)</td>\n      <td>2</td>\n      <td>1</td>\n      <td>Urgent</td>\n      <td>1</td>\n      <td>2</td>\n      <td>...</td>\n      <td>0.0</td>\n      <td>0.0</td>\n      <td>0.0</td>\n      <td>No</td>\n      <td>Yes</td>\n      <td>1</td>\n      <td>0</td>\n      <td>0</td>\n      <td>1</td>\n      <td>1</td>\n    </tr>\n    <tr>\n      <th>2</th>\n      <td>14897280</td>\n      <td>2025</td>\n      <td>Caucasian</td>\n      <td>Female</td>\n      <td>[70-80)</td>\n      <td>2</td>\n      <td>3</td>\n      <td>Urgent</td>\n      <td>1</td>\n      <td>12</td>\n      <td>...</td>\n      <td>0.0</td>\n      <td>0.0</td>\n      <td>0.0</td>\n      <td>Ch</td>\n      <td>Yes</td>\n      <td>2</td>\n      <td>-1</td>\n      <td>0</td>\n      <td>0</td>\n      <td>0</td>\n    </tr>\n    <tr>\n      <th>3</th>\n      <td>36469686</td>\n      <td>3069</td>\n      <td>Caucasian</td>\n      <td>Male</td>\n      <td>[60-70)</td>\n      <td>2</td>\n      <td>1</td>\n      <td>Urgent</td>\n      <td>1</td>\n      <td>8</td>\n      <td>...</td>\n      <td>0.0</td>\n      <td>0.0</td>\n      <td>0.0</td>\n      <td>No</td>\n      <td>Yes</td>\n      <td>1</td>\n      <td>0</td>\n      <td>0</td>\n      <td>0</td>\n      <td>0</td>\n    </tr>\n    <tr>\n      <th>4</th>\n      <td>20602470</td>\n      <td>8460</td>\n      <td>Caucasian</td>\n      <td>Male</td>\n      <td>[80-90)</td>\n      <td>2</td>\n      <td>1</td>\n      <td>Urgent</td>\n      <td>1</td>\n      <td>2</td>\n      <td>...</td>\n      <td>0.0</td>\n      <td>0.0</td>\n      <td>0.0</td>\n      <td>No</td>\n      <td>Yes</td>\n      <td>1</td>\n      <td>0</td>\n      <td>0</td>\n      <td>0</td>\n      <td>0</td>\n    </tr>\n    <tr>\n      <th>...</th>\n      <td>...</td>\n      <td>...</td>\n      <td>...</td>\n      <td>...</td>\n      <td>...</td>\n      <td>...</td>\n      <td>...</td>\n      <td>...</td>\n      <td>...</td>\n      <td>...</td>\n      <td>...</td>\n      <td>...</td>\n      <td>...</td>\n      <td>...</td>\n      <td>...</td>\n      <td>...</td>\n      <td>...</td>\n      <td>...</td>\n      <td>...</td>\n      <td>...</td>\n      <td>...</td>\n    </tr>\n    <tr>\n      <th>70428</th>\n      <td>402583472</td>\n      <td>141357506</td>\n      <td>AfricanAmerican</td>\n      <td>Male</td>\n      <td>[50-60)</td>\n      <td>7</td>\n      <td>3</td>\n      <td>Trauma Center</td>\n      <td>7</td>\n      <td>6</td>\n      <td>...</td>\n      <td>0.0</td>\n      <td>0.0</td>\n      <td>0.0</td>\n      <td>No</td>\n      <td>Yes</td>\n      <td>1</td>\n      <td>0</td>\n      <td>0</td>\n      <td>0</td>\n      <td>0</td>\n    </tr>\n    <tr>\n      <th>70429</th>\n      <td>389059568</td>\n      <td>141433160</td>\n      <td>Caucasian</td>\n      <td>Female</td>\n      <td>[80-90)</td>\n      <td>7</td>\n      <td>3</td>\n      <td>Trauma Center</td>\n      <td>7</td>\n      <td>4</td>\n      <td>...</td>\n      <td>0.0</td>\n      <td>0.0</td>\n      <td>0.0</td>\n      <td>No</td>\n      <td>No</td>\n      <td>0</td>\n      <td>0</td>\n      <td>0</td>\n      <td>0</td>\n      <td>0</td>\n    </tr>\n    <tr>\n      <th>70430</th>\n      <td>311376116</td>\n      <td>141459548</td>\n      <td>Caucasian</td>\n      <td>Female</td>\n      <td>[80-90)</td>\n      <td>7</td>\n      <td>1</td>\n      <td>Trauma Center</td>\n      <td>7</td>\n      <td>2</td>\n      <td>...</td>\n      <td>0.0</td>\n      <td>0.0</td>\n      <td>0.0</td>\n      <td>Ch</td>\n      <td>Yes</td>\n      <td>2</td>\n      <td>0</td>\n      <td>0</td>\n      <td>0</td>\n      <td>0</td>\n    </tr>\n    <tr>\n      <th>70431</th>\n      <td>403231316</td>\n      <td>141466478</td>\n      <td>Caucasian</td>\n      <td>Male</td>\n      <td>[10-20)</td>\n      <td>7</td>\n      <td>6</td>\n      <td>Trauma Center</td>\n      <td>7</td>\n      <td>9</td>\n      <td>...</td>\n      <td>0.0</td>\n      <td>0.0</td>\n      <td>0.0</td>\n      <td>No</td>\n      <td>No</td>\n      <td>0</td>\n      <td>0</td>\n      <td>0</td>\n      <td>0</td>\n      <td>0</td>\n    </tr>\n    <tr>\n      <th>70432</th>\n      <td>308496164</td>\n      <td>141501551</td>\n      <td>Caucasian</td>\n      <td>Female</td>\n      <td>[60-70)</td>\n      <td>7</td>\n      <td>22</td>\n      <td>Trauma Center</td>\n      <td>7</td>\n      <td>8</td>\n      <td>...</td>\n      <td>0.0</td>\n      <td>0.0</td>\n      <td>0.0</td>\n      <td>Ch</td>\n      <td>Yes</td>\n      <td>3</td>\n      <td>-1</td>\n      <td>0</td>\n      <td>0</td>\n      <td>0</td>\n    </tr>\n  </tbody>\n</table>\n<p>70433 rows × 52 columns</p>\n</div>"
     },
     "execution_count": 847,
     "metadata": {},
     "output_type": "execute_result"
    }
   ],
   "source": [
    "tempModelingDF"
   ],
   "metadata": {
    "collapsed": false,
    "pycharm": {
     "name": "#%%\n"
    }
   }
  },
  {
   "cell_type": "code",
   "execution_count": 848,
   "outputs": [
    {
     "data": {
      "text/plain": "       encounter_id  patient_nbr             race  gender      age  metformin  \\\n0          24437208          135        Caucasian  Female  [50-60)        2.0   \n1          60254142         1314        Caucasian  Female  [40-50)        0.0   \n2          14897280         2025        Caucasian  Female  [70-80)        0.0   \n3          36469686         3069        Caucasian    Male  [60-70)        0.0   \n4          20602470         8460        Caucasian    Male  [80-90)        0.0   \n...             ...          ...              ...     ...      ...        ...   \n70428     402583472    141357506  AfricanAmerican    Male  [50-60)        0.0   \n70429     389059568    141433160        Caucasian  Female  [80-90)        0.0   \n70430     311376116    141459548        Caucasian  Female  [80-90)        2.0   \n70431     403231316    141466478        Caucasian    Male  [10-20)        0.0   \n70432     308496164    141501551        Caucasian  Female  [60-70)        2.0   \n\n       repaglinide  nateglinide  chlorpropamide  glimepiride  ...  \\\n0              0.0          0.0             0.0          0.0  ...   \n1              0.0          0.0             0.0          0.0  ...   \n2              0.0          0.0             0.0          1.0  ...   \n3              0.0          0.0             0.0          0.0  ...   \n4              2.0          0.0             0.0          0.0  ...   \n...            ...          ...             ...          ...  ...   \n70428          0.0          0.0             0.0          0.0  ...   \n70429          0.0          0.0             0.0          0.0  ...   \n70430          0.0          0.0             0.0          0.0  ...   \n70431          0.0          0.0             0.0          0.0  ...   \n70432          0.0          0.0             0.0          0.0  ...   \n\n       glyburide.metformin  glipizide.metformin  glimepiride.pioglitazone  \\\n0                      0.0                  0.0                       0.0   \n1                      0.0                  0.0                       0.0   \n2                      0.0                  0.0                       0.0   \n3                      0.0                  0.0                       0.0   \n4                      0.0                  0.0                       0.0   \n...                    ...                  ...                       ...   \n70428                  0.0                  0.0                       0.0   \n70429                  0.0                  0.0                       0.0   \n70430                  0.0                  0.0                       0.0   \n70431                  0.0                  0.0                       0.0   \n70432                  0.0                  0.0                       0.0   \n\n       metformin.rosiglitazone  metformin.pioglitazone  num_of_meds  \\\n0                          0.0                     0.0            3   \n1                          0.0                     0.0            1   \n2                          0.0                     0.0            2   \n3                          0.0                     0.0            1   \n4                          0.0                     0.0            1   \n...                        ...                     ...          ...   \n70428                      0.0                     0.0            1   \n70429                      0.0                     0.0            0   \n70430                      0.0                     0.0            2   \n70431                      0.0                     0.0            0   \n70432                      0.0                     0.0            3   \n\n       med_level_direction  readmitted__<30  readmitted__>30  readmitted  \n0                       -1                1                0           1  \n1                        0                0                1           1  \n2                       -1                0                0           0  \n3                        0                0                0           0  \n4                        0                0                0           0  \n...                    ...              ...              ...         ...  \n70428                    0                0                0           0  \n70429                    0                0                0           0  \n70430                    0                0                0           0  \n70431                    0                0                0           0  \n70432                   -1                0                0           0  \n\n[70433 rows x 33 columns]",
      "text/html": "<div>\n<style scoped>\n    .dataframe tbody tr th:only-of-type {\n        vertical-align: middle;\n    }\n\n    .dataframe tbody tr th {\n        vertical-align: top;\n    }\n\n    .dataframe thead th {\n        text-align: right;\n    }\n</style>\n<table border=\"1\" class=\"dataframe\">\n  <thead>\n    <tr style=\"text-align: right;\">\n      <th></th>\n      <th>encounter_id</th>\n      <th>patient_nbr</th>\n      <th>race</th>\n      <th>gender</th>\n      <th>age</th>\n      <th>metformin</th>\n      <th>repaglinide</th>\n      <th>nateglinide</th>\n      <th>chlorpropamide</th>\n      <th>glimepiride</th>\n      <th>...</th>\n      <th>glyburide.metformin</th>\n      <th>glipizide.metformin</th>\n      <th>glimepiride.pioglitazone</th>\n      <th>metformin.rosiglitazone</th>\n      <th>metformin.pioglitazone</th>\n      <th>num_of_meds</th>\n      <th>med_level_direction</th>\n      <th>readmitted__&lt;30</th>\n      <th>readmitted__&gt;30</th>\n      <th>readmitted</th>\n    </tr>\n  </thead>\n  <tbody>\n    <tr>\n      <th>0</th>\n      <td>24437208</td>\n      <td>135</td>\n      <td>Caucasian</td>\n      <td>Female</td>\n      <td>[50-60)</td>\n      <td>2.0</td>\n      <td>0.0</td>\n      <td>0.0</td>\n      <td>0.0</td>\n      <td>0.0</td>\n      <td>...</td>\n      <td>0.0</td>\n      <td>0.0</td>\n      <td>0.0</td>\n      <td>0.0</td>\n      <td>0.0</td>\n      <td>3</td>\n      <td>-1</td>\n      <td>1</td>\n      <td>0</td>\n      <td>1</td>\n    </tr>\n    <tr>\n      <th>1</th>\n      <td>60254142</td>\n      <td>1314</td>\n      <td>Caucasian</td>\n      <td>Female</td>\n      <td>[40-50)</td>\n      <td>0.0</td>\n      <td>0.0</td>\n      <td>0.0</td>\n      <td>0.0</td>\n      <td>0.0</td>\n      <td>...</td>\n      <td>0.0</td>\n      <td>0.0</td>\n      <td>0.0</td>\n      <td>0.0</td>\n      <td>0.0</td>\n      <td>1</td>\n      <td>0</td>\n      <td>0</td>\n      <td>1</td>\n      <td>1</td>\n    </tr>\n    <tr>\n      <th>2</th>\n      <td>14897280</td>\n      <td>2025</td>\n      <td>Caucasian</td>\n      <td>Female</td>\n      <td>[70-80)</td>\n      <td>0.0</td>\n      <td>0.0</td>\n      <td>0.0</td>\n      <td>0.0</td>\n      <td>1.0</td>\n      <td>...</td>\n      <td>0.0</td>\n      <td>0.0</td>\n      <td>0.0</td>\n      <td>0.0</td>\n      <td>0.0</td>\n      <td>2</td>\n      <td>-1</td>\n      <td>0</td>\n      <td>0</td>\n      <td>0</td>\n    </tr>\n    <tr>\n      <th>3</th>\n      <td>36469686</td>\n      <td>3069</td>\n      <td>Caucasian</td>\n      <td>Male</td>\n      <td>[60-70)</td>\n      <td>0.0</td>\n      <td>0.0</td>\n      <td>0.0</td>\n      <td>0.0</td>\n      <td>0.0</td>\n      <td>...</td>\n      <td>0.0</td>\n      <td>0.0</td>\n      <td>0.0</td>\n      <td>0.0</td>\n      <td>0.0</td>\n      <td>1</td>\n      <td>0</td>\n      <td>0</td>\n      <td>0</td>\n      <td>0</td>\n    </tr>\n    <tr>\n      <th>4</th>\n      <td>20602470</td>\n      <td>8460</td>\n      <td>Caucasian</td>\n      <td>Male</td>\n      <td>[80-90)</td>\n      <td>0.0</td>\n      <td>2.0</td>\n      <td>0.0</td>\n      <td>0.0</td>\n      <td>0.0</td>\n      <td>...</td>\n      <td>0.0</td>\n      <td>0.0</td>\n      <td>0.0</td>\n      <td>0.0</td>\n      <td>0.0</td>\n      <td>1</td>\n      <td>0</td>\n      <td>0</td>\n      <td>0</td>\n      <td>0</td>\n    </tr>\n    <tr>\n      <th>...</th>\n      <td>...</td>\n      <td>...</td>\n      <td>...</td>\n      <td>...</td>\n      <td>...</td>\n      <td>...</td>\n      <td>...</td>\n      <td>...</td>\n      <td>...</td>\n      <td>...</td>\n      <td>...</td>\n      <td>...</td>\n      <td>...</td>\n      <td>...</td>\n      <td>...</td>\n      <td>...</td>\n      <td>...</td>\n      <td>...</td>\n      <td>...</td>\n      <td>...</td>\n      <td>...</td>\n    </tr>\n    <tr>\n      <th>70428</th>\n      <td>402583472</td>\n      <td>141357506</td>\n      <td>AfricanAmerican</td>\n      <td>Male</td>\n      <td>[50-60)</td>\n      <td>0.0</td>\n      <td>0.0</td>\n      <td>0.0</td>\n      <td>0.0</td>\n      <td>0.0</td>\n      <td>...</td>\n      <td>0.0</td>\n      <td>0.0</td>\n      <td>0.0</td>\n      <td>0.0</td>\n      <td>0.0</td>\n      <td>1</td>\n      <td>0</td>\n      <td>0</td>\n      <td>0</td>\n      <td>0</td>\n    </tr>\n    <tr>\n      <th>70429</th>\n      <td>389059568</td>\n      <td>141433160</td>\n      <td>Caucasian</td>\n      <td>Female</td>\n      <td>[80-90)</td>\n      <td>0.0</td>\n      <td>0.0</td>\n      <td>0.0</td>\n      <td>0.0</td>\n      <td>0.0</td>\n      <td>...</td>\n      <td>0.0</td>\n      <td>0.0</td>\n      <td>0.0</td>\n      <td>0.0</td>\n      <td>0.0</td>\n      <td>0</td>\n      <td>0</td>\n      <td>0</td>\n      <td>0</td>\n      <td>0</td>\n    </tr>\n    <tr>\n      <th>70430</th>\n      <td>311376116</td>\n      <td>141459548</td>\n      <td>Caucasian</td>\n      <td>Female</td>\n      <td>[80-90)</td>\n      <td>2.0</td>\n      <td>0.0</td>\n      <td>0.0</td>\n      <td>0.0</td>\n      <td>0.0</td>\n      <td>...</td>\n      <td>0.0</td>\n      <td>0.0</td>\n      <td>0.0</td>\n      <td>0.0</td>\n      <td>0.0</td>\n      <td>2</td>\n      <td>0</td>\n      <td>0</td>\n      <td>0</td>\n      <td>0</td>\n    </tr>\n    <tr>\n      <th>70431</th>\n      <td>403231316</td>\n      <td>141466478</td>\n      <td>Caucasian</td>\n      <td>Male</td>\n      <td>[10-20)</td>\n      <td>0.0</td>\n      <td>0.0</td>\n      <td>0.0</td>\n      <td>0.0</td>\n      <td>0.0</td>\n      <td>...</td>\n      <td>0.0</td>\n      <td>0.0</td>\n      <td>0.0</td>\n      <td>0.0</td>\n      <td>0.0</td>\n      <td>0</td>\n      <td>0</td>\n      <td>0</td>\n      <td>0</td>\n      <td>0</td>\n    </tr>\n    <tr>\n      <th>70432</th>\n      <td>308496164</td>\n      <td>141501551</td>\n      <td>Caucasian</td>\n      <td>Female</td>\n      <td>[60-70)</td>\n      <td>2.0</td>\n      <td>0.0</td>\n      <td>0.0</td>\n      <td>0.0</td>\n      <td>0.0</td>\n      <td>...</td>\n      <td>0.0</td>\n      <td>0.0</td>\n      <td>0.0</td>\n      <td>0.0</td>\n      <td>0.0</td>\n      <td>3</td>\n      <td>-1</td>\n      <td>0</td>\n      <td>0</td>\n      <td>0</td>\n    </tr>\n  </tbody>\n</table>\n<p>70433 rows × 33 columns</p>\n</div>"
     },
     "execution_count": 848,
     "metadata": {},
     "output_type": "execute_result"
    }
   ],
   "source": [
    "# Drop columns that are not needed\n",
    "# TODO: Needs to move up\n",
    "varsToDrop = ['admission_type_id','admission_source_id','admission_type_value','discharge_disposition_id',\n",
    "              'time_in_hospital','num_lab_procedures','num_procedures','num_medications',\n",
    "              'number_outpatient','number_emergency','number_inpatient',\n",
    "              'diag_1','diag_2', 'diag_3','number_diagnoses', 'max_glu_serum','A1Cresult',\n",
    "              'change','diabetesMed']\n",
    "\n",
    "tempModelingDF = tempModelingDF.drop(columns=varsToDrop)\n",
    "tempModelingDF\n"
   ],
   "metadata": {
    "collapsed": false,
    "pycharm": {
     "name": "#%%\n"
    }
   }
  },
  {
   "cell_type": "code",
   "execution_count": 849,
   "outputs": [
    {
     "data": {
      "text/plain": "       metformin  repaglinide  nateglinide  chlorpropamide  glimepiride  \\\n0            2.0          0.0          0.0             0.0          0.0   \n1            0.0          0.0          0.0             0.0          0.0   \n2            0.0          0.0          0.0             0.0          1.0   \n3            0.0          0.0          0.0             0.0          0.0   \n4            0.0          2.0          0.0             0.0          0.0   \n...          ...          ...          ...             ...          ...   \n70428        0.0          0.0          0.0             0.0          0.0   \n70429        0.0          0.0          0.0             0.0          0.0   \n70430        2.0          0.0          0.0             0.0          0.0   \n70431        0.0          0.0          0.0             0.0          0.0   \n70432        2.0          0.0          0.0             0.0          0.0   \n\n       acetohexamide  glipizide  glyburide  tolbutamide  pioglitazone  ...  \\\n0                0.0        0.0        1.0          0.0           0.0  ...   \n1                0.0        0.0        0.0          0.0           0.0  ...   \n2                0.0        0.0        0.0          0.0           0.0  ...   \n3                0.0        0.0        0.0          0.0           0.0  ...   \n4                0.0        0.0        0.0          0.0           0.0  ...   \n...              ...        ...        ...          ...           ...  ...   \n70428            0.0        0.0        0.0          0.0           0.0  ...   \n70429            0.0        0.0        0.0          0.0           0.0  ...   \n70430            0.0        0.0        0.0          0.0           0.0  ...   \n70431            0.0        0.0        0.0          0.0           0.0  ...   \n70432            0.0        2.0        0.0          0.0           0.0  ...   \n\n       citoglipton  insulin  glyburide.metformin  glipizide.metformin  \\\n0              0.0      2.0                  0.0                  0.0   \n1              0.0      2.0                  0.0                  0.0   \n2              0.0      2.0                  0.0                  0.0   \n3              0.0      2.0                  0.0                  0.0   \n4              0.0      0.0                  0.0                  0.0   \n...            ...      ...                  ...                  ...   \n70428          0.0      2.0                  0.0                  0.0   \n70429          0.0      0.0                  0.0                  0.0   \n70430          0.0      2.0                  0.0                  0.0   \n70431          0.0      0.0                  0.0                  0.0   \n70432          0.0      1.0                  0.0                  0.0   \n\n       glimepiride.pioglitazone  metformin.rosiglitazone  \\\n0                           0.0                      0.0   \n1                           0.0                      0.0   \n2                           0.0                      0.0   \n3                           0.0                      0.0   \n4                           0.0                      0.0   \n...                         ...                      ...   \n70428                       0.0                      0.0   \n70429                       0.0                      0.0   \n70430                       0.0                      0.0   \n70431                       0.0                      0.0   \n70432                       0.0                      0.0   \n\n       metformin.pioglitazone  num_of_meds  med_level_direction  readmitted  \n0                         0.0            3                   -1           1  \n1                         0.0            1                    0           1  \n2                         0.0            2                   -1           0  \n3                         0.0            1                    0           0  \n4                         0.0            1                    0           0  \n...                       ...          ...                  ...         ...  \n70428                     0.0            1                    0           0  \n70429                     0.0            0                    0           0  \n70430                     0.0            2                    0           0  \n70431                     0.0            0                    0           0  \n70432                     0.0            3                   -1           0  \n\n[70433 rows x 26 columns]",
      "text/html": "<div>\n<style scoped>\n    .dataframe tbody tr th:only-of-type {\n        vertical-align: middle;\n    }\n\n    .dataframe tbody tr th {\n        vertical-align: top;\n    }\n\n    .dataframe thead th {\n        text-align: right;\n    }\n</style>\n<table border=\"1\" class=\"dataframe\">\n  <thead>\n    <tr style=\"text-align: right;\">\n      <th></th>\n      <th>metformin</th>\n      <th>repaglinide</th>\n      <th>nateglinide</th>\n      <th>chlorpropamide</th>\n      <th>glimepiride</th>\n      <th>acetohexamide</th>\n      <th>glipizide</th>\n      <th>glyburide</th>\n      <th>tolbutamide</th>\n      <th>pioglitazone</th>\n      <th>...</th>\n      <th>citoglipton</th>\n      <th>insulin</th>\n      <th>glyburide.metformin</th>\n      <th>glipizide.metformin</th>\n      <th>glimepiride.pioglitazone</th>\n      <th>metformin.rosiglitazone</th>\n      <th>metformin.pioglitazone</th>\n      <th>num_of_meds</th>\n      <th>med_level_direction</th>\n      <th>readmitted</th>\n    </tr>\n  </thead>\n  <tbody>\n    <tr>\n      <th>0</th>\n      <td>2.0</td>\n      <td>0.0</td>\n      <td>0.0</td>\n      <td>0.0</td>\n      <td>0.0</td>\n      <td>0.0</td>\n      <td>0.0</td>\n      <td>1.0</td>\n      <td>0.0</td>\n      <td>0.0</td>\n      <td>...</td>\n      <td>0.0</td>\n      <td>2.0</td>\n      <td>0.0</td>\n      <td>0.0</td>\n      <td>0.0</td>\n      <td>0.0</td>\n      <td>0.0</td>\n      <td>3</td>\n      <td>-1</td>\n      <td>1</td>\n    </tr>\n    <tr>\n      <th>1</th>\n      <td>0.0</td>\n      <td>0.0</td>\n      <td>0.0</td>\n      <td>0.0</td>\n      <td>0.0</td>\n      <td>0.0</td>\n      <td>0.0</td>\n      <td>0.0</td>\n      <td>0.0</td>\n      <td>0.0</td>\n      <td>...</td>\n      <td>0.0</td>\n      <td>2.0</td>\n      <td>0.0</td>\n      <td>0.0</td>\n      <td>0.0</td>\n      <td>0.0</td>\n      <td>0.0</td>\n      <td>1</td>\n      <td>0</td>\n      <td>1</td>\n    </tr>\n    <tr>\n      <th>2</th>\n      <td>0.0</td>\n      <td>0.0</td>\n      <td>0.0</td>\n      <td>0.0</td>\n      <td>1.0</td>\n      <td>0.0</td>\n      <td>0.0</td>\n      <td>0.0</td>\n      <td>0.0</td>\n      <td>0.0</td>\n      <td>...</td>\n      <td>0.0</td>\n      <td>2.0</td>\n      <td>0.0</td>\n      <td>0.0</td>\n      <td>0.0</td>\n      <td>0.0</td>\n      <td>0.0</td>\n      <td>2</td>\n      <td>-1</td>\n      <td>0</td>\n    </tr>\n    <tr>\n      <th>3</th>\n      <td>0.0</td>\n      <td>0.0</td>\n      <td>0.0</td>\n      <td>0.0</td>\n      <td>0.0</td>\n      <td>0.0</td>\n      <td>0.0</td>\n      <td>0.0</td>\n      <td>0.0</td>\n      <td>0.0</td>\n      <td>...</td>\n      <td>0.0</td>\n      <td>2.0</td>\n      <td>0.0</td>\n      <td>0.0</td>\n      <td>0.0</td>\n      <td>0.0</td>\n      <td>0.0</td>\n      <td>1</td>\n      <td>0</td>\n      <td>0</td>\n    </tr>\n    <tr>\n      <th>4</th>\n      <td>0.0</td>\n      <td>2.0</td>\n      <td>0.0</td>\n      <td>0.0</td>\n      <td>0.0</td>\n      <td>0.0</td>\n      <td>0.0</td>\n      <td>0.0</td>\n      <td>0.0</td>\n      <td>0.0</td>\n      <td>...</td>\n      <td>0.0</td>\n      <td>0.0</td>\n      <td>0.0</td>\n      <td>0.0</td>\n      <td>0.0</td>\n      <td>0.0</td>\n      <td>0.0</td>\n      <td>1</td>\n      <td>0</td>\n      <td>0</td>\n    </tr>\n    <tr>\n      <th>...</th>\n      <td>...</td>\n      <td>...</td>\n      <td>...</td>\n      <td>...</td>\n      <td>...</td>\n      <td>...</td>\n      <td>...</td>\n      <td>...</td>\n      <td>...</td>\n      <td>...</td>\n      <td>...</td>\n      <td>...</td>\n      <td>...</td>\n      <td>...</td>\n      <td>...</td>\n      <td>...</td>\n      <td>...</td>\n      <td>...</td>\n      <td>...</td>\n      <td>...</td>\n      <td>...</td>\n    </tr>\n    <tr>\n      <th>70428</th>\n      <td>0.0</td>\n      <td>0.0</td>\n      <td>0.0</td>\n      <td>0.0</td>\n      <td>0.0</td>\n      <td>0.0</td>\n      <td>0.0</td>\n      <td>0.0</td>\n      <td>0.0</td>\n      <td>0.0</td>\n      <td>...</td>\n      <td>0.0</td>\n      <td>2.0</td>\n      <td>0.0</td>\n      <td>0.0</td>\n      <td>0.0</td>\n      <td>0.0</td>\n      <td>0.0</td>\n      <td>1</td>\n      <td>0</td>\n      <td>0</td>\n    </tr>\n    <tr>\n      <th>70429</th>\n      <td>0.0</td>\n      <td>0.0</td>\n      <td>0.0</td>\n      <td>0.0</td>\n      <td>0.0</td>\n      <td>0.0</td>\n      <td>0.0</td>\n      <td>0.0</td>\n      <td>0.0</td>\n      <td>0.0</td>\n      <td>...</td>\n      <td>0.0</td>\n      <td>0.0</td>\n      <td>0.0</td>\n      <td>0.0</td>\n      <td>0.0</td>\n      <td>0.0</td>\n      <td>0.0</td>\n      <td>0</td>\n      <td>0</td>\n      <td>0</td>\n    </tr>\n    <tr>\n      <th>70430</th>\n      <td>2.0</td>\n      <td>0.0</td>\n      <td>0.0</td>\n      <td>0.0</td>\n      <td>0.0</td>\n      <td>0.0</td>\n      <td>0.0</td>\n      <td>0.0</td>\n      <td>0.0</td>\n      <td>0.0</td>\n      <td>...</td>\n      <td>0.0</td>\n      <td>2.0</td>\n      <td>0.0</td>\n      <td>0.0</td>\n      <td>0.0</td>\n      <td>0.0</td>\n      <td>0.0</td>\n      <td>2</td>\n      <td>0</td>\n      <td>0</td>\n    </tr>\n    <tr>\n      <th>70431</th>\n      <td>0.0</td>\n      <td>0.0</td>\n      <td>0.0</td>\n      <td>0.0</td>\n      <td>0.0</td>\n      <td>0.0</td>\n      <td>0.0</td>\n      <td>0.0</td>\n      <td>0.0</td>\n      <td>0.0</td>\n      <td>...</td>\n      <td>0.0</td>\n      <td>0.0</td>\n      <td>0.0</td>\n      <td>0.0</td>\n      <td>0.0</td>\n      <td>0.0</td>\n      <td>0.0</td>\n      <td>0</td>\n      <td>0</td>\n      <td>0</td>\n    </tr>\n    <tr>\n      <th>70432</th>\n      <td>2.0</td>\n      <td>0.0</td>\n      <td>0.0</td>\n      <td>0.0</td>\n      <td>0.0</td>\n      <td>0.0</td>\n      <td>2.0</td>\n      <td>0.0</td>\n      <td>0.0</td>\n      <td>0.0</td>\n      <td>...</td>\n      <td>0.0</td>\n      <td>1.0</td>\n      <td>0.0</td>\n      <td>0.0</td>\n      <td>0.0</td>\n      <td>0.0</td>\n      <td>0.0</td>\n      <td>3</td>\n      <td>-1</td>\n      <td>0</td>\n    </tr>\n  </tbody>\n</table>\n<p>70433 rows × 26 columns</p>\n</div>"
     },
     "execution_count": 849,
     "metadata": {},
     "output_type": "execute_result"
    }
   ],
   "source": [
    "# TEMP\n",
    "## Demographic Vars + Identifiers to Drop\n",
    "tempModelingDF = tempModelingDF.drop(columns=['encounter_id','patient_nbr','race','gender','age'])\n",
    "\n",
    "## Additional Response Vars to Drop\n",
    "tempModelingDF = tempModelingDF.drop(columns=['readmitted__<30','readmitted__>30'])\n",
    "tempModelingDF"
   ],
   "metadata": {
    "collapsed": false,
    "pycharm": {
     "name": "#%%\n"
    }
   }
  },
  {
   "cell_type": "code",
   "execution_count": 850,
   "outputs": [
    {
     "data": {
      "text/plain": "       metformin  repaglinide  nateglinide  chlorpropamide  glimepiride  \\\n8357         0.0          0.0          0.0             0.0          0.0   \n64934        0.0          0.0          0.0             0.0          0.0   \n54458        0.0          0.0          0.0             0.0          0.0   \n29981        0.0          0.0          0.0             0.0          0.0   \n56042        0.0          0.0          0.0             0.0          0.0   \n...          ...          ...          ...             ...          ...   \n37194        0.0          0.0          0.0             0.0          2.0   \n6265         0.0          0.0          0.0             0.0          0.0   \n54886        0.0          0.0          0.0             0.0          0.0   \n860          0.0          0.0          0.0             0.0          0.0   \n15795        2.0          2.0          0.0             0.0          0.0   \n\n       acetohexamide  glipizide  glyburide  tolbutamide  pioglitazone  ...  \\\n8357             0.0        0.0        0.0          0.0           0.0  ...   \n64934            0.0        0.0        0.0          0.0           0.0  ...   \n54458            0.0        0.0        0.0          0.0           0.0  ...   \n29981            0.0        0.0        2.0          0.0           0.0  ...   \n56042            0.0        0.0        2.0          0.0           0.0  ...   \n...              ...        ...        ...          ...           ...  ...   \n37194            0.0        0.0        0.0          0.0           0.0  ...   \n6265             0.0        0.0        3.0          0.0           0.0  ...   \n54886            0.0        0.0        0.0          0.0           0.0  ...   \n860              0.0        0.0        0.0          0.0           0.0  ...   \n15795            0.0        0.0        0.0          0.0           0.0  ...   \n\n       examide  citoglipton  insulin  glyburide.metformin  \\\n8357       0.0          0.0      0.0                  2.0   \n64934      0.0          0.0      2.0                  0.0   \n54458      0.0          0.0      1.0                  0.0   \n29981      0.0          0.0      0.0                  0.0   \n56042      0.0          0.0      1.0                  0.0   \n...        ...          ...      ...                  ...   \n37194      0.0          0.0      0.0                  0.0   \n6265       0.0          0.0      0.0                  0.0   \n54886      0.0          0.0      0.0                  0.0   \n860        0.0          0.0      2.0                  0.0   \n15795      0.0          0.0      0.0                  0.0   \n\n       glipizide.metformin  glimepiride.pioglitazone  metformin.rosiglitazone  \\\n8357                   0.0                       0.0                      0.0   \n64934                  0.0                       0.0                      0.0   \n54458                  0.0                       0.0                      0.0   \n29981                  0.0                       0.0                      0.0   \n56042                  0.0                       0.0                      0.0   \n...                    ...                       ...                      ...   \n37194                  0.0                       0.0                      0.0   \n6265                   0.0                       0.0                      0.0   \n54886                  0.0                       0.0                      0.0   \n860                    0.0                       0.0                      0.0   \n15795                  0.0                       0.0                      0.0   \n\n       metformin.pioglitazone  num_of_meds  med_level_direction  \n8357                      0.0            2                    0  \n64934                     0.0            1                    0  \n54458                     0.0            1                   -1  \n29981                     0.0            1                    0  \n56042                     0.0            2                   -1  \n...                       ...          ...                  ...  \n37194                     0.0            1                    0  \n6265                      0.0            1                    1  \n54886                     0.0            0                    0  \n860                       0.0            1                    0  \n15795                     0.0            2                    0  \n\n[56346 rows x 25 columns]",
      "text/html": "<div>\n<style scoped>\n    .dataframe tbody tr th:only-of-type {\n        vertical-align: middle;\n    }\n\n    .dataframe tbody tr th {\n        vertical-align: top;\n    }\n\n    .dataframe thead th {\n        text-align: right;\n    }\n</style>\n<table border=\"1\" class=\"dataframe\">\n  <thead>\n    <tr style=\"text-align: right;\">\n      <th></th>\n      <th>metformin</th>\n      <th>repaglinide</th>\n      <th>nateglinide</th>\n      <th>chlorpropamide</th>\n      <th>glimepiride</th>\n      <th>acetohexamide</th>\n      <th>glipizide</th>\n      <th>glyburide</th>\n      <th>tolbutamide</th>\n      <th>pioglitazone</th>\n      <th>...</th>\n      <th>examide</th>\n      <th>citoglipton</th>\n      <th>insulin</th>\n      <th>glyburide.metformin</th>\n      <th>glipizide.metformin</th>\n      <th>glimepiride.pioglitazone</th>\n      <th>metformin.rosiglitazone</th>\n      <th>metformin.pioglitazone</th>\n      <th>num_of_meds</th>\n      <th>med_level_direction</th>\n    </tr>\n  </thead>\n  <tbody>\n    <tr>\n      <th>8357</th>\n      <td>0.0</td>\n      <td>0.0</td>\n      <td>0.0</td>\n      <td>0.0</td>\n      <td>0.0</td>\n      <td>0.0</td>\n      <td>0.0</td>\n      <td>0.0</td>\n      <td>0.0</td>\n      <td>0.0</td>\n      <td>...</td>\n      <td>0.0</td>\n      <td>0.0</td>\n      <td>0.0</td>\n      <td>2.0</td>\n      <td>0.0</td>\n      <td>0.0</td>\n      <td>0.0</td>\n      <td>0.0</td>\n      <td>2</td>\n      <td>0</td>\n    </tr>\n    <tr>\n      <th>64934</th>\n      <td>0.0</td>\n      <td>0.0</td>\n      <td>0.0</td>\n      <td>0.0</td>\n      <td>0.0</td>\n      <td>0.0</td>\n      <td>0.0</td>\n      <td>0.0</td>\n      <td>0.0</td>\n      <td>0.0</td>\n      <td>...</td>\n      <td>0.0</td>\n      <td>0.0</td>\n      <td>2.0</td>\n      <td>0.0</td>\n      <td>0.0</td>\n      <td>0.0</td>\n      <td>0.0</td>\n      <td>0.0</td>\n      <td>1</td>\n      <td>0</td>\n    </tr>\n    <tr>\n      <th>54458</th>\n      <td>0.0</td>\n      <td>0.0</td>\n      <td>0.0</td>\n      <td>0.0</td>\n      <td>0.0</td>\n      <td>0.0</td>\n      <td>0.0</td>\n      <td>0.0</td>\n      <td>0.0</td>\n      <td>0.0</td>\n      <td>...</td>\n      <td>0.0</td>\n      <td>0.0</td>\n      <td>1.0</td>\n      <td>0.0</td>\n      <td>0.0</td>\n      <td>0.0</td>\n      <td>0.0</td>\n      <td>0.0</td>\n      <td>1</td>\n      <td>-1</td>\n    </tr>\n    <tr>\n      <th>29981</th>\n      <td>0.0</td>\n      <td>0.0</td>\n      <td>0.0</td>\n      <td>0.0</td>\n      <td>0.0</td>\n      <td>0.0</td>\n      <td>0.0</td>\n      <td>2.0</td>\n      <td>0.0</td>\n      <td>0.0</td>\n      <td>...</td>\n      <td>0.0</td>\n      <td>0.0</td>\n      <td>0.0</td>\n      <td>0.0</td>\n      <td>0.0</td>\n      <td>0.0</td>\n      <td>0.0</td>\n      <td>0.0</td>\n      <td>1</td>\n      <td>0</td>\n    </tr>\n    <tr>\n      <th>56042</th>\n      <td>0.0</td>\n      <td>0.0</td>\n      <td>0.0</td>\n      <td>0.0</td>\n      <td>0.0</td>\n      <td>0.0</td>\n      <td>0.0</td>\n      <td>2.0</td>\n      <td>0.0</td>\n      <td>0.0</td>\n      <td>...</td>\n      <td>0.0</td>\n      <td>0.0</td>\n      <td>1.0</td>\n      <td>0.0</td>\n      <td>0.0</td>\n      <td>0.0</td>\n      <td>0.0</td>\n      <td>0.0</td>\n      <td>2</td>\n      <td>-1</td>\n    </tr>\n    <tr>\n      <th>...</th>\n      <td>...</td>\n      <td>...</td>\n      <td>...</td>\n      <td>...</td>\n      <td>...</td>\n      <td>...</td>\n      <td>...</td>\n      <td>...</td>\n      <td>...</td>\n      <td>...</td>\n      <td>...</td>\n      <td>...</td>\n      <td>...</td>\n      <td>...</td>\n      <td>...</td>\n      <td>...</td>\n      <td>...</td>\n      <td>...</td>\n      <td>...</td>\n      <td>...</td>\n      <td>...</td>\n    </tr>\n    <tr>\n      <th>37194</th>\n      <td>0.0</td>\n      <td>0.0</td>\n      <td>0.0</td>\n      <td>0.0</td>\n      <td>2.0</td>\n      <td>0.0</td>\n      <td>0.0</td>\n      <td>0.0</td>\n      <td>0.0</td>\n      <td>0.0</td>\n      <td>...</td>\n      <td>0.0</td>\n      <td>0.0</td>\n      <td>0.0</td>\n      <td>0.0</td>\n      <td>0.0</td>\n      <td>0.0</td>\n      <td>0.0</td>\n      <td>0.0</td>\n      <td>1</td>\n      <td>0</td>\n    </tr>\n    <tr>\n      <th>6265</th>\n      <td>0.0</td>\n      <td>0.0</td>\n      <td>0.0</td>\n      <td>0.0</td>\n      <td>0.0</td>\n      <td>0.0</td>\n      <td>0.0</td>\n      <td>3.0</td>\n      <td>0.0</td>\n      <td>0.0</td>\n      <td>...</td>\n      <td>0.0</td>\n      <td>0.0</td>\n      <td>0.0</td>\n      <td>0.0</td>\n      <td>0.0</td>\n      <td>0.0</td>\n      <td>0.0</td>\n      <td>0.0</td>\n      <td>1</td>\n      <td>1</td>\n    </tr>\n    <tr>\n      <th>54886</th>\n      <td>0.0</td>\n      <td>0.0</td>\n      <td>0.0</td>\n      <td>0.0</td>\n      <td>0.0</td>\n      <td>0.0</td>\n      <td>0.0</td>\n      <td>0.0</td>\n      <td>0.0</td>\n      <td>0.0</td>\n      <td>...</td>\n      <td>0.0</td>\n      <td>0.0</td>\n      <td>0.0</td>\n      <td>0.0</td>\n      <td>0.0</td>\n      <td>0.0</td>\n      <td>0.0</td>\n      <td>0.0</td>\n      <td>0</td>\n      <td>0</td>\n    </tr>\n    <tr>\n      <th>860</th>\n      <td>0.0</td>\n      <td>0.0</td>\n      <td>0.0</td>\n      <td>0.0</td>\n      <td>0.0</td>\n      <td>0.0</td>\n      <td>0.0</td>\n      <td>0.0</td>\n      <td>0.0</td>\n      <td>0.0</td>\n      <td>...</td>\n      <td>0.0</td>\n      <td>0.0</td>\n      <td>2.0</td>\n      <td>0.0</td>\n      <td>0.0</td>\n      <td>0.0</td>\n      <td>0.0</td>\n      <td>0.0</td>\n      <td>1</td>\n      <td>0</td>\n    </tr>\n    <tr>\n      <th>15795</th>\n      <td>2.0</td>\n      <td>2.0</td>\n      <td>0.0</td>\n      <td>0.0</td>\n      <td>0.0</td>\n      <td>0.0</td>\n      <td>0.0</td>\n      <td>0.0</td>\n      <td>0.0</td>\n      <td>0.0</td>\n      <td>...</td>\n      <td>0.0</td>\n      <td>0.0</td>\n      <td>0.0</td>\n      <td>0.0</td>\n      <td>0.0</td>\n      <td>0.0</td>\n      <td>0.0</td>\n      <td>0.0</td>\n      <td>2</td>\n      <td>0</td>\n    </tr>\n  </tbody>\n</table>\n<p>56346 rows × 25 columns</p>\n</div>"
     },
     "execution_count": 850,
     "metadata": {},
     "output_type": "execute_result"
    }
   ],
   "source": [
    "# Multiple Regression -- Set or Reset Test/Train Split\n",
    "# Params\n",
    "df=tempModelingDF\n",
    "ResponseVar = 'readmitted'\n",
    "PredictorVar = df.columns.values.tolist()\n",
    "PredictorVar.remove(ResponseVar)\n",
    "\n",
    "# Function Call To prep train/test\n",
    "x_train, x_test, y_train, y_test  = testTrainSplit(df, PredictorVar, ResponseVar)\n",
    "x_train\n"
   ],
   "metadata": {
    "collapsed": false,
    "pycharm": {
     "name": "#%%\n"
    }
   }
  },
  {
   "cell_type": "markdown",
   "source": [
    "## Random Forest"
   ],
   "metadata": {
    "collapsed": false
   }
  },
  {
   "cell_type": "code",
   "execution_count": 850,
   "outputs": [],
   "source": [],
   "metadata": {
    "collapsed": false,
    "pycharm": {
     "name": "#%%\n"
    }
   }
  },
  {
   "cell_type": "markdown",
   "source": [
    "# Experimentation/ Scratchpad\n"
   ],
   "metadata": {
    "collapsed": false
   }
  },
  {
   "cell_type": "code",
   "execution_count": 851,
   "outputs": [
    {
     "data": {
      "text/plain": "       encounter_id  patient_nbr             race  gender       age weight  \\\n67474     125860038    112183470        Caucasian    Male   [40-50)    NaN   \n1070       75305544       414639        Caucasian    Male   [60-70)    NaN   \n24824     171280554     29825208  AfricanAmerican    Male   [80-90)    NaN   \n55019     221470950     89490195        Caucasian  Female   [60-70)    NaN   \n48710     280849116     79581222        Caucasian    Male   [60-70)    NaN   \n12198      40199220     13917636        Caucasian  Female   [80-90)    NaN   \n29301     216025812     39932325        Caucasian  Female   [70-80)    NaN   \n18023      77167542     23403168        Caucasian    Male   [70-80)    NaN   \n44754     286221510     67970871        Caucasian  Female  [90-100)    NaN   \n69702     371912234    138705692        Caucasian    Male   [70-80)    NaN   \n\n       admission_type_id  discharge_disposition_id  admission_source_id  \\\n67474                  3                         1                    7   \n1070                   2                         8                    1   \n24824                  3                         1                    1   \n55019                  1                         1                    7   \n48710                  1                         1                    7   \n12198                  1                         3                    7   \n29301                  3                         1                    1   \n18023                  6                        25                   17   \n44754                  1                         3                    7   \n69702                  1                         6                    7   \n\n       time_in_hospital  ... citoglipton insulin  glyburide.metformin  \\\n67474                 2  ...          No      No                   No   \n1070                  6  ...          No      No                   No   \n24824                 1  ...          No      No                   No   \n55019                 2  ...          No      No                   No   \n48710                 4  ...          No    Down                   No   \n12198                12  ...          No  Steady                   No   \n29301                 1  ...          No      No                   No   \n18023                 1  ...          No  Steady                   No   \n44754                 4  ...          No  Steady                   No   \n69702                 5  ...          No      Up                   No   \n\n       glipizide.metformin  glimepiride.pioglitazone  metformin.rosiglitazone  \\\n67474                   No                        No                       No   \n1070                    No                        No                       No   \n24824                   No                        No                       No   \n55019                   No                        No                       No   \n48710                   No                        No                       No   \n12198                   No                        No                       No   \n29301                   No                        No                       No   \n18023                   No                        No                       No   \n44754                   No                        No                       No   \n69702                   No                        No                       No   \n\n       metformin.pioglitazone  change diabetesMed readmitted  \n67474                      No      No         Yes         NO  \n1070                       No      Ch         Yes         NO  \n24824                      No      No         Yes        >30  \n55019                      No      No          No        >30  \n48710                      No      Ch         Yes        >30  \n12198                      No      Ch         Yes         NO  \n29301                      No      No         Yes         NO  \n18023                      No      No         Yes         NO  \n44754                      No      No         Yes        <30  \n69702                      No      Ch         Yes         NO  \n\n[10 rows x 50 columns]",
      "text/html": "<div>\n<style scoped>\n    .dataframe tbody tr th:only-of-type {\n        vertical-align: middle;\n    }\n\n    .dataframe tbody tr th {\n        vertical-align: top;\n    }\n\n    .dataframe thead th {\n        text-align: right;\n    }\n</style>\n<table border=\"1\" class=\"dataframe\">\n  <thead>\n    <tr style=\"text-align: right;\">\n      <th></th>\n      <th>encounter_id</th>\n      <th>patient_nbr</th>\n      <th>race</th>\n      <th>gender</th>\n      <th>age</th>\n      <th>weight</th>\n      <th>admission_type_id</th>\n      <th>discharge_disposition_id</th>\n      <th>admission_source_id</th>\n      <th>time_in_hospital</th>\n      <th>...</th>\n      <th>citoglipton</th>\n      <th>insulin</th>\n      <th>glyburide.metformin</th>\n      <th>glipizide.metformin</th>\n      <th>glimepiride.pioglitazone</th>\n      <th>metformin.rosiglitazone</th>\n      <th>metformin.pioglitazone</th>\n      <th>change</th>\n      <th>diabetesMed</th>\n      <th>readmitted</th>\n    </tr>\n  </thead>\n  <tbody>\n    <tr>\n      <th>67474</th>\n      <td>125860038</td>\n      <td>112183470</td>\n      <td>Caucasian</td>\n      <td>Male</td>\n      <td>[40-50)</td>\n      <td>NaN</td>\n      <td>3</td>\n      <td>1</td>\n      <td>7</td>\n      <td>2</td>\n      <td>...</td>\n      <td>No</td>\n      <td>No</td>\n      <td>No</td>\n      <td>No</td>\n      <td>No</td>\n      <td>No</td>\n      <td>No</td>\n      <td>No</td>\n      <td>Yes</td>\n      <td>NO</td>\n    </tr>\n    <tr>\n      <th>1070</th>\n      <td>75305544</td>\n      <td>414639</td>\n      <td>Caucasian</td>\n      <td>Male</td>\n      <td>[60-70)</td>\n      <td>NaN</td>\n      <td>2</td>\n      <td>8</td>\n      <td>1</td>\n      <td>6</td>\n      <td>...</td>\n      <td>No</td>\n      <td>No</td>\n      <td>No</td>\n      <td>No</td>\n      <td>No</td>\n      <td>No</td>\n      <td>No</td>\n      <td>Ch</td>\n      <td>Yes</td>\n      <td>NO</td>\n    </tr>\n    <tr>\n      <th>24824</th>\n      <td>171280554</td>\n      <td>29825208</td>\n      <td>AfricanAmerican</td>\n      <td>Male</td>\n      <td>[80-90)</td>\n      <td>NaN</td>\n      <td>3</td>\n      <td>1</td>\n      <td>1</td>\n      <td>1</td>\n      <td>...</td>\n      <td>No</td>\n      <td>No</td>\n      <td>No</td>\n      <td>No</td>\n      <td>No</td>\n      <td>No</td>\n      <td>No</td>\n      <td>No</td>\n      <td>Yes</td>\n      <td>&gt;30</td>\n    </tr>\n    <tr>\n      <th>55019</th>\n      <td>221470950</td>\n      <td>89490195</td>\n      <td>Caucasian</td>\n      <td>Female</td>\n      <td>[60-70)</td>\n      <td>NaN</td>\n      <td>1</td>\n      <td>1</td>\n      <td>7</td>\n      <td>2</td>\n      <td>...</td>\n      <td>No</td>\n      <td>No</td>\n      <td>No</td>\n      <td>No</td>\n      <td>No</td>\n      <td>No</td>\n      <td>No</td>\n      <td>No</td>\n      <td>No</td>\n      <td>&gt;30</td>\n    </tr>\n    <tr>\n      <th>48710</th>\n      <td>280849116</td>\n      <td>79581222</td>\n      <td>Caucasian</td>\n      <td>Male</td>\n      <td>[60-70)</td>\n      <td>NaN</td>\n      <td>1</td>\n      <td>1</td>\n      <td>7</td>\n      <td>4</td>\n      <td>...</td>\n      <td>No</td>\n      <td>Down</td>\n      <td>No</td>\n      <td>No</td>\n      <td>No</td>\n      <td>No</td>\n      <td>No</td>\n      <td>Ch</td>\n      <td>Yes</td>\n      <td>&gt;30</td>\n    </tr>\n    <tr>\n      <th>12198</th>\n      <td>40199220</td>\n      <td>13917636</td>\n      <td>Caucasian</td>\n      <td>Female</td>\n      <td>[80-90)</td>\n      <td>NaN</td>\n      <td>1</td>\n      <td>3</td>\n      <td>7</td>\n      <td>12</td>\n      <td>...</td>\n      <td>No</td>\n      <td>Steady</td>\n      <td>No</td>\n      <td>No</td>\n      <td>No</td>\n      <td>No</td>\n      <td>No</td>\n      <td>Ch</td>\n      <td>Yes</td>\n      <td>NO</td>\n    </tr>\n    <tr>\n      <th>29301</th>\n      <td>216025812</td>\n      <td>39932325</td>\n      <td>Caucasian</td>\n      <td>Female</td>\n      <td>[70-80)</td>\n      <td>NaN</td>\n      <td>3</td>\n      <td>1</td>\n      <td>1</td>\n      <td>1</td>\n      <td>...</td>\n      <td>No</td>\n      <td>No</td>\n      <td>No</td>\n      <td>No</td>\n      <td>No</td>\n      <td>No</td>\n      <td>No</td>\n      <td>No</td>\n      <td>Yes</td>\n      <td>NO</td>\n    </tr>\n    <tr>\n      <th>18023</th>\n      <td>77167542</td>\n      <td>23403168</td>\n      <td>Caucasian</td>\n      <td>Male</td>\n      <td>[70-80)</td>\n      <td>NaN</td>\n      <td>6</td>\n      <td>25</td>\n      <td>17</td>\n      <td>1</td>\n      <td>...</td>\n      <td>No</td>\n      <td>Steady</td>\n      <td>No</td>\n      <td>No</td>\n      <td>No</td>\n      <td>No</td>\n      <td>No</td>\n      <td>No</td>\n      <td>Yes</td>\n      <td>NO</td>\n    </tr>\n    <tr>\n      <th>44754</th>\n      <td>286221510</td>\n      <td>67970871</td>\n      <td>Caucasian</td>\n      <td>Female</td>\n      <td>[90-100)</td>\n      <td>NaN</td>\n      <td>1</td>\n      <td>3</td>\n      <td>7</td>\n      <td>4</td>\n      <td>...</td>\n      <td>No</td>\n      <td>Steady</td>\n      <td>No</td>\n      <td>No</td>\n      <td>No</td>\n      <td>No</td>\n      <td>No</td>\n      <td>No</td>\n      <td>Yes</td>\n      <td>&lt;30</td>\n    </tr>\n    <tr>\n      <th>69702</th>\n      <td>371912234</td>\n      <td>138705692</td>\n      <td>Caucasian</td>\n      <td>Male</td>\n      <td>[70-80)</td>\n      <td>NaN</td>\n      <td>1</td>\n      <td>6</td>\n      <td>7</td>\n      <td>5</td>\n      <td>...</td>\n      <td>No</td>\n      <td>Up</td>\n      <td>No</td>\n      <td>No</td>\n      <td>No</td>\n      <td>No</td>\n      <td>No</td>\n      <td>Ch</td>\n      <td>Yes</td>\n      <td>NO</td>\n    </tr>\n  </tbody>\n</table>\n<p>10 rows × 50 columns</p>\n</div>"
     },
     "execution_count": 851,
     "metadata": {},
     "output_type": "execute_result"
    }
   ],
   "source": [
    "expData.sample(10)"
   ],
   "metadata": {
    "collapsed": false,
    "pycharm": {
     "name": "#%%\n"
    }
   }
  },
  {
   "cell_type": "code",
   "execution_count": 852,
   "outputs": [
    {
     "data": {
      "text/plain": "time_in_hospital            1.000000\nnum_medications             0.467912\nnum_lab_procedures          0.332195\nnumber_diagnoses            0.234510\nnum_procedures              0.187976\ndischarge_disposition_id    0.165686\ninsulin                     0.108649\nnum_of_meds                 0.085683\nnumber_inpatient            0.063636\nreadmitted                  0.061567\nreadmitted__<30             0.054745\nmed_level_direction         0.040097\nrepaglinide                 0.032336\nglyburide                   0.031669\nreadmitted__>30             0.031428\nglipizide                   0.025355\nglimepiride                 0.018539\nacetohexamide               0.012454\npioglitazone                0.008604\nadmission_source_id         0.007714\nrosiglitazone               0.007411\nnateglinide                 0.007086\nacarbose                    0.006771\ntroglitazone                0.004551\ntolbutamide                 0.002854\nchlorpropamide              0.002430\nmetformin.pioglitazone      0.002200\nglipizide.metformin         0.001461\nmetformin                  -0.000187\nmetformin.rosiglitazone    -0.000514\nmiglitol                   -0.002455\nglyburide.metformin        -0.002934\ntolazamide                 -0.005502\nnumber_emergency           -0.009860\nnumber_outpatient          -0.015418\nadmission_type_id          -0.017600\npatient_nbr                -0.017715\nencounter_id               -0.069639\nexamide                          NaN\ncitoglipton                      NaN\nglimepiride.pioglitazone         NaN\nName: time_in_hospital, dtype: float64"
     },
     "execution_count": 852,
     "metadata": {},
     "output_type": "execute_result"
    }
   ],
   "source": [
    "corr_matrix = mainData.corr()\n",
    "corr_matrix['time_in_hospital'].sort_values(ascending=False)"
   ],
   "metadata": {
    "collapsed": false,
    "pycharm": {
     "name": "#%%\n"
    }
   }
  },
  {
   "cell_type": "code",
   "execution_count": 853,
   "outputs": [
    {
     "data": {
      "text/plain": "Female             37468\nMale               32962\nUnknown/Invalid        3\nName: gender, dtype: int64"
     },
     "execution_count": 853,
     "metadata": {},
     "output_type": "execute_result"
    }
   ],
   "source": [
    "mainData['gender'].value_counts(dropna=False)"
   ],
   "metadata": {
    "collapsed": false,
    "pycharm": {
     "name": "#%%\n"
    }
   }
  },
  {
   "cell_type": "code",
   "execution_count": 854,
   "outputs": [
    {
     "data": {
      "text/plain": "       num_of_meds  med_level_direction  readmitted\n28714            1                    0           0\n8050             0                    0           1\n26635            1                    1           0\n56160            0                    0           1\n25433            1                    0           1",
      "text/html": "<div>\n<style scoped>\n    .dataframe tbody tr th:only-of-type {\n        vertical-align: middle;\n    }\n\n    .dataframe tbody tr th {\n        vertical-align: top;\n    }\n\n    .dataframe thead th {\n        text-align: right;\n    }\n</style>\n<table border=\"1\" class=\"dataframe\">\n  <thead>\n    <tr style=\"text-align: right;\">\n      <th></th>\n      <th>num_of_meds</th>\n      <th>med_level_direction</th>\n      <th>readmitted</th>\n    </tr>\n  </thead>\n  <tbody>\n    <tr>\n      <th>28714</th>\n      <td>1</td>\n      <td>0</td>\n      <td>0</td>\n    </tr>\n    <tr>\n      <th>8050</th>\n      <td>0</td>\n      <td>0</td>\n      <td>1</td>\n    </tr>\n    <tr>\n      <th>26635</th>\n      <td>1</td>\n      <td>1</td>\n      <td>0</td>\n    </tr>\n    <tr>\n      <th>56160</th>\n      <td>0</td>\n      <td>0</td>\n      <td>1</td>\n    </tr>\n    <tr>\n      <th>25433</th>\n      <td>1</td>\n      <td>0</td>\n      <td>1</td>\n    </tr>\n  </tbody>\n</table>\n</div>"
     },
     "execution_count": 854,
     "metadata": {},
     "output_type": "execute_result"
    }
   ],
   "source": [
    "expVars = ['num_of_meds','med_level_direction','metformin','repaglinide','nateglinide','chlorpropamide','glimepiride',\n",
    "            'acetohexamide','glipizide','glyburide','tolbutamide','pioglitazone',\n",
    "            'rosiglitazone','acarbose','miglitol','troglitazone','tolazamide','examide',\n",
    "            'citoglipton','insulin','glyburide.metformin','glipizide.metformin','glimepiride.pioglitazone',\n",
    "            'metformin.rosiglitazone','metformin.pioglitazone','readmitted']\n",
    "\n",
    "expSummaryVars = ['num_of_meds','med_level_direction','readmitted']\n",
    "\n",
    "tempCor = mainData[expSummaryVars]\n",
    "tempCor.sample(5)"
   ],
   "metadata": {
    "collapsed": false,
    "pycharm": {
     "name": "#%%\n"
    }
   }
  },
  {
   "cell_type": "code",
   "execution_count": 855,
   "outputs": [
    {
     "data": {
      "text/plain": "<AxesSubplot:>"
     },
     "execution_count": 855,
     "metadata": {},
     "output_type": "execute_result"
    },
    {
     "data": {
      "text/plain": "<Figure size 864x720 with 2 Axes>",
      "image/png": "[encoded data removed]"
     },
     "metadata": {},
     "output_type": "display_data"
    }
   ],
   "source": [
    "#Multiple Regression -- Check Correlations in HeatMap\n",
    "plt.figure(figsize=(12,10))\n",
    "cor = round(tempCor.corr(),3)\n",
    "sns.heatmap(cor, annot=True, cmap=plt.cm.Reds)"
   ],
   "metadata": {
    "collapsed": false,
    "pycharm": {
     "name": "#%%\n"
    }
   }
  },
  {
   "cell_type": "code",
   "execution_count": 856,
   "outputs": [
    {
     "data": {
      "text/plain": "num_of_meds            0.036\nmed_level_direction    0.008\nreadmitted             1.000\nName: readmitted, dtype: float64"
     },
     "execution_count": 856,
     "metadata": {},
     "output_type": "execute_result"
    }
   ],
   "source": [
    "#Multiple Regressions -- Correlation with output variable\n",
    "responseVar = 'readmitted'\n",
    "cor_target = abs(cor[responseVar])\n",
    "#Selecting highly correlated features\n",
    "#relevant_features = cor_target[cor_target>=0.01] # Look for Features w/ greater 0.05 cor\n",
    "#relevant_features\n",
    "cor_target"
   ],
   "metadata": {
    "collapsed": false,
    "pycharm": {
     "name": "#%%\n"
    }
   }
  },
  {
   "cell_type": "code",
   "execution_count": 857,
   "outputs": [
    {
     "data": {
      "text/plain": "(70433, 52)"
     },
     "execution_count": 857,
     "metadata": {},
     "output_type": "execute_result"
    }
   ],
   "source": [
    "mainData.shape"
   ],
   "metadata": {
    "collapsed": false,
    "pycharm": {
     "name": "#%%\n"
    }
   }
  },
  {
   "cell_type": "code",
   "execution_count": 858,
   "outputs": [
    {
     "data": {
      "text/plain": "70433"
     },
     "execution_count": 858,
     "metadata": {},
     "output_type": "execute_result"
    }
   ],
   "source": [
    "mainData['patient_nbr'].nunique()"
   ],
   "metadata": {
    "collapsed": false,
    "pycharm": {
     "name": "#%%\n"
    }
   }
  }
 ],
 "metadata": {
  "kernelspec": {
   "name": "pycharm-b5a5c62f",
   "language": "python",
   "display_name": "PyCharm (ML_Course)"
  },
  "language_info": {
   "codemirror_mode": {
    "name": "ipython",
    "version": 2
   },
   "file_extension": ".py",
   "mimetype": "text/x-python",
   "name": "python",
   "nbconvert_exporter": "python",
   "pygments_lexer": "ipython2",
   "version": "2.7.6"
  }
 },
 "nbformat": 4,
 "nbformat_minor": 0
}