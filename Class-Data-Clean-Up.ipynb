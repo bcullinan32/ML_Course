{
 "cells": [
  {
   "cell_type": "markdown",
   "metadata": {
    "collapsed": true,
    "pycharm": {
     "name": "#%% md\n"
    }
   },
   "source": [
    "# This Notebook is for EDA and Clean-up of the provided data set for the Machine Learning course\n",
    "## TODO List (in addition to in-line):\n",
    "- Encode additional variables for use\n",
    "    - Determine how to encode diags -- Don't know what to do yet\n",
    "- Implement Class Imbalance Procedures\n",
    "- Implement N.N\n",
    "- Implement gradient boosting\n",
    "- Build single table/ plot for comparing all models (see bookmared T.D.S. article)"
   ]
  },
  {
   "cell_type": "markdown",
   "source": [
    "## Set Up"
   ],
   "metadata": {
    "collapsed": false
   }
  },
  {
   "cell_type": "code",
   "execution_count": 496,
   "outputs": [],
   "source": [
    "# Standard Libraries\n",
    "import pandas as pd\n",
    "import numpy as np\n",
    "import os\n",
    "import warnings\n",
    "\n",
    "# Plotting Libraries\n",
    "import matplotlib.pyplot as plt\n",
    "import seaborn as sns\n",
    "\n",
    "# SkLearn  Data Prep\n",
    "from sklearn.preprocessing import OneHotEncoder\n",
    "from sklearn.preprocessing import OrdinalEncoder\n",
    "from sklearn.preprocessing import LabelEncoder\n",
    "from sklearn.compose import ColumnTransformer\n",
    "from sklearn.pipeline import Pipeline\n",
    "from sklearn.model_selection import train_test_split\n",
    "from sklearn.preprocessing import scale\n",
    "from sklearn.preprocessing import MinMaxScaler\n",
    "from sklearn.preprocessing import StandardScaler\n",
    "import category_encoders as ce\n",
    "\n",
    "# SkLearn Measurement Libraries\n",
    "from sklearn.metrics import confusion_matrix\n",
    "from sklearn.metrics import precision_score, recall_score\n",
    "from sklearn.metrics import  precision_recall_curve\n",
    "from sklearn.metrics import f1_score\n",
    "from sklearn.metrics import roc_curve, auc\n",
    "from sklearn.metrics import roc_auc_score\n",
    "from sklearn.metrics import r2_score\n",
    "from sklearn.metrics import accuracy_score\n",
    "from sklearn.metrics import mean_squared_error\n",
    "\n",
    "# SkLearn Models\n",
    "from sklearn.ensemble import RandomForestClassifier\n",
    "from sklearn.decomposition import PCA\n",
    "from sklearn.linear_model import LinearRegression\n",
    "from sklearn import model_selection\n",
    "from sklearn.cluster import KMeans\n",
    "from sklearn.neural_network import MLPClassifier\n",
    "from sklearn.neighbors import KNeighborsClassifier\n",
    "from sklearn.datasets import make_blobs\n",
    "\n",
    "# set Theme\n",
    "plt.style.use('seaborn')\n",
    "sns.set_theme(style=\"whitegrid\")\n",
    "warnings.filterwarnings('ignore')"
   ],
   "metadata": {
    "collapsed": false,
    "pycharm": {
     "name": "#%%\n"
    }
   }
  },
  {
   "cell_type": "code",
   "execution_count": 497,
   "outputs": [
    {
     "data": {
      "text/plain": "   encounter_id  patient_nbr             race  gender      age weight  \\\n0      24437208          135        Caucasian  Female  [50-60)    NaN   \n1      29758806          378        Caucasian  Female  [50-60)    NaN   \n2     189899286          729        Caucasian  Female  [80-90)    NaN   \n3      64331490          774        Caucasian  Female  [80-90)    NaN   \n4      14824206          927  AfricanAmerican  Female  [30-40)    NaN   \n\n   admission_type_id  discharge_disposition_id  admission_source_id  \\\n0                  2                         1                    1   \n1                  3                         1                    1   \n2                  1                         3                    7   \n3                  1                         1                    7   \n4                  1                         1                    7   \n\n   time_in_hospital  ... citoglipton insulin  glyburide.metformin  \\\n0                 8  ...          No  Steady                   No   \n1                 2  ...          No      No                   No   \n2                 4  ...          No      No                   No   \n3                 3  ...          No      No                   No   \n4                 5  ...          No      No                   No   \n\n   glipizide.metformin  glimepiride.pioglitazone  metformin.rosiglitazone  \\\n0                   No                        No                       No   \n1                   No                        No                       No   \n2                   No                        No                       No   \n3                   No                        No                       No   \n4                   No                        No                       No   \n\n   metformin.pioglitazone  change diabetesMed readmitted  \n0                      No      Ch         Yes        <30  \n1                      No      No          No         NO  \n2                      No      No         Yes         NO  \n3                      No      Ch         Yes         NO  \n4                      No      No         Yes         NO  \n\n[5 rows x 50 columns]",
      "text/html": "<div>\n<style scoped>\n    .dataframe tbody tr th:only-of-type {\n        vertical-align: middle;\n    }\n\n    .dataframe tbody tr th {\n        vertical-align: top;\n    }\n\n    .dataframe thead th {\n        text-align: right;\n    }\n</style>\n<table border=\"1\" class=\"dataframe\">\n  <thead>\n    <tr style=\"text-align: right;\">\n      <th></th>\n      <th>encounter_id</th>\n      <th>patient_nbr</th>\n      <th>race</th>\n      <th>gender</th>\n      <th>age</th>\n      <th>weight</th>\n      <th>admission_type_id</th>\n      <th>discharge_disposition_id</th>\n      <th>admission_source_id</th>\n      <th>time_in_hospital</th>\n      <th>...</th>\n      <th>citoglipton</th>\n      <th>insulin</th>\n      <th>glyburide.metformin</th>\n      <th>glipizide.metformin</th>\n      <th>glimepiride.pioglitazone</th>\n      <th>metformin.rosiglitazone</th>\n      <th>metformin.pioglitazone</th>\n      <th>change</th>\n      <th>diabetesMed</th>\n      <th>readmitted</th>\n    </tr>\n  </thead>\n  <tbody>\n    <tr>\n      <th>0</th>\n      <td>24437208</td>\n      <td>135</td>\n      <td>Caucasian</td>\n      <td>Female</td>\n      <td>[50-60)</td>\n      <td>NaN</td>\n      <td>2</td>\n      <td>1</td>\n      <td>1</td>\n      <td>8</td>\n      <td>...</td>\n      <td>No</td>\n      <td>Steady</td>\n      <td>No</td>\n      <td>No</td>\n      <td>No</td>\n      <td>No</td>\n      <td>No</td>\n      <td>Ch</td>\n      <td>Yes</td>\n      <td>&lt;30</td>\n    </tr>\n    <tr>\n      <th>1</th>\n      <td>29758806</td>\n      <td>378</td>\n      <td>Caucasian</td>\n      <td>Female</td>\n      <td>[50-60)</td>\n      <td>NaN</td>\n      <td>3</td>\n      <td>1</td>\n      <td>1</td>\n      <td>2</td>\n      <td>...</td>\n      <td>No</td>\n      <td>No</td>\n      <td>No</td>\n      <td>No</td>\n      <td>No</td>\n      <td>No</td>\n      <td>No</td>\n      <td>No</td>\n      <td>No</td>\n      <td>NO</td>\n    </tr>\n    <tr>\n      <th>2</th>\n      <td>189899286</td>\n      <td>729</td>\n      <td>Caucasian</td>\n      <td>Female</td>\n      <td>[80-90)</td>\n      <td>NaN</td>\n      <td>1</td>\n      <td>3</td>\n      <td>7</td>\n      <td>4</td>\n      <td>...</td>\n      <td>No</td>\n      <td>No</td>\n      <td>No</td>\n      <td>No</td>\n      <td>No</td>\n      <td>No</td>\n      <td>No</td>\n      <td>No</td>\n      <td>Yes</td>\n      <td>NO</td>\n    </tr>\n    <tr>\n      <th>3</th>\n      <td>64331490</td>\n      <td>774</td>\n      <td>Caucasian</td>\n      <td>Female</td>\n      <td>[80-90)</td>\n      <td>NaN</td>\n      <td>1</td>\n      <td>1</td>\n      <td>7</td>\n      <td>3</td>\n      <td>...</td>\n      <td>No</td>\n      <td>No</td>\n      <td>No</td>\n      <td>No</td>\n      <td>No</td>\n      <td>No</td>\n      <td>No</td>\n      <td>Ch</td>\n      <td>Yes</td>\n      <td>NO</td>\n    </tr>\n    <tr>\n      <th>4</th>\n      <td>14824206</td>\n      <td>927</td>\n      <td>AfricanAmerican</td>\n      <td>Female</td>\n      <td>[30-40)</td>\n      <td>NaN</td>\n      <td>1</td>\n      <td>1</td>\n      <td>7</td>\n      <td>5</td>\n      <td>...</td>\n      <td>No</td>\n      <td>No</td>\n      <td>No</td>\n      <td>No</td>\n      <td>No</td>\n      <td>No</td>\n      <td>No</td>\n      <td>No</td>\n      <td>Yes</td>\n      <td>NO</td>\n    </tr>\n  </tbody>\n</table>\n<p>5 rows × 50 columns</p>\n</div>"
     },
     "execution_count": 497,
     "metadata": {},
     "output_type": "execute_result"
    }
   ],
   "source": [
    "# Get Main Data\n",
    "path = os.getcwd()\n",
    "path = path +'\\\\medical_data\\\\'\n",
    "file = 'data.csv'\n",
    "\n",
    "mainData = pd.read_csv(path+file)\n",
    "mainData.head()"
   ],
   "metadata": {
    "collapsed": false,
    "pycharm": {
     "name": "#%%\n"
    }
   }
  },
  {
   "cell_type": "code",
   "execution_count": 498,
   "outputs": [
    {
     "data": {
      "text/plain": "   admission_type_id    description\n0                  1      Emergency\n1                  2         Urgent\n2                  3       Elective\n3                  4        Newborn\n4                  5  Not Available\n5                  6            NaN\n6                  7  Trauma Center\n7                  8     Not Mapped",
      "text/html": "<div>\n<style scoped>\n    .dataframe tbody tr th:only-of-type {\n        vertical-align: middle;\n    }\n\n    .dataframe tbody tr th {\n        vertical-align: top;\n    }\n\n    .dataframe thead th {\n        text-align: right;\n    }\n</style>\n<table border=\"1\" class=\"dataframe\">\n  <thead>\n    <tr style=\"text-align: right;\">\n      <th></th>\n      <th>admission_type_id</th>\n      <th>description</th>\n    </tr>\n  </thead>\n  <tbody>\n    <tr>\n      <th>0</th>\n      <td>1</td>\n      <td>Emergency</td>\n    </tr>\n    <tr>\n      <th>1</th>\n      <td>2</td>\n      <td>Urgent</td>\n    </tr>\n    <tr>\n      <th>2</th>\n      <td>3</td>\n      <td>Elective</td>\n    </tr>\n    <tr>\n      <th>3</th>\n      <td>4</td>\n      <td>Newborn</td>\n    </tr>\n    <tr>\n      <th>4</th>\n      <td>5</td>\n      <td>Not Available</td>\n    </tr>\n    <tr>\n      <th>5</th>\n      <td>6</td>\n      <td>NaN</td>\n    </tr>\n    <tr>\n      <th>6</th>\n      <td>7</td>\n      <td>Trauma Center</td>\n    </tr>\n    <tr>\n      <th>7</th>\n      <td>8</td>\n      <td>Not Mapped</td>\n    </tr>\n  </tbody>\n</table>\n</div>"
     },
     "execution_count": 498,
     "metadata": {},
     "output_type": "execute_result"
    }
   ],
   "source": [
    "# Get Admission Type Look-Up\n",
    "file = 'id_lookup.csv'\n",
    "admissionTypeLookUp = pd.read_csv(path+file)\n",
    "admissionTypeLookUp = admissionTypeLookUp.iloc[:8]\n",
    "admissionTypeLookUp['admission_type_id'] = admissionTypeLookUp['admission_type_id'].astype(int)\n",
    "admissionTypeLookUp"
   ],
   "metadata": {
    "collapsed": false,
    "pycharm": {
     "name": "#%%\n"
    }
   }
  },
  {
   "cell_type": "code",
   "execution_count": 499,
   "outputs": [],
   "source": [
    "# Set Aside Copy of DF for Experiments\n",
    "expData = mainData"
   ],
   "metadata": {
    "collapsed": false,
    "pycharm": {
     "name": "#%%\n"
    }
   }
  },
  {
   "cell_type": "code",
   "execution_count": 500,
   "outputs": [
    {
     "data": {
      "text/plain": "(10000, 50)"
     },
     "execution_count": 500,
     "metadata": {},
     "output_type": "execute_result"
    }
   ],
   "source": [
    "#TEMP -- Sample Main Data to make code faster to run\n",
    "mainData = mainData.sample(10000)\n",
    "mainData.shape"
   ],
   "metadata": {
    "collapsed": false,
    "pycharm": {
     "name": "#%%\n"
    }
   }
  },
  {
   "cell_type": "markdown",
   "source": [
    "## Re-Usable Functions"
   ],
   "metadata": {
    "collapsed": false
   }
  },
  {
   "cell_type": "code",
   "execution_count": 501,
   "outputs": [],
   "source": [
    "# Takes a DF and Producecs a Report of Null Values\n",
    "def nullAnalysis(df):\n",
    "    row = []\n",
    "    null_summaryDF = pd.DataFrame(columns = [\"Variable\",\"Observations\",\"Nulls\",\"Null_Per\",\"Num_Unique\",\"Type\"])\n",
    "    for column in df:\n",
    "        var = column\n",
    "        countOfObs = len(df[var])\n",
    "        countOfNull = df[var].isnull().sum()\n",
    "        perOfNull = round((100 * countOfNull) / countOfObs,3)\n",
    "        numUnique = df[var].nunique()\n",
    "        type  = df[var].dtypes\n",
    "        # Append to Summary DF\n",
    "        row = [var, countOfObs,countOfNull,perOfNull,numUnique,type]\n",
    "        df_length = len(null_summaryDF)\n",
    "        null_summaryDF.loc[df_length] = row\n",
    "    # Get Summary Stats\n",
    "    countofVars = len(null_summaryDF)\n",
    "    countofNotNull = (null_summaryDF['Nulls'] == 0).sum()\n",
    "    countofNull = (null_summaryDF['Nulls'] != 0).sum()\n",
    "    print(f\"Count of Variables:\",countofVars)\n",
    "    print(f\"Count of Variables without nulls:\",countofNotNull)\n",
    "    print(f\"Count of Variables with null :\",countofNull)\n",
    "    # Format Summary\n",
    "    summaryDF = null_summaryDF[null_summaryDF['Nulls'] != 0].sort_values(by=['Nulls'],ascending=False)\n",
    "    return summaryDF"
   ],
   "metadata": {
    "collapsed": false,
    "pycharm": {
     "name": "#%%\n"
    }
   }
  },
  {
   "cell_type": "code",
   "execution_count": 502,
   "outputs": [],
   "source": [
    "# Takes a DF, list of variable,and an order and returns a DF w/ ordinal encoding\n",
    "def OrdinalEncoderFunc (df,listOfVars,order):\n",
    "    df=df\n",
    "    order=order\n",
    "    enc = OrdinalEncoder(categories=[order])\n",
    "    for col in listOfVars:\n",
    "        col=col\n",
    "        df[col] = enc.fit_transform(df[[col]])\n",
    "    return df"
   ],
   "metadata": {
    "collapsed": false,
    "pycharm": {
     "name": "#%%\n"
    }
   }
  },
  {
   "cell_type": "code",
   "execution_count": 503,
   "outputs": [],
   "source": [
    "def target_encoder(df, var, var1): #var1 needs to be a target (numerical not categorical)\n",
    "    tenc = ce.TargetEncoder()\n",
    "    df[var] = (tenc.fit_transform(df[[var]], df[[var1]]))\n",
    "    return df"
   ],
   "metadata": {
    "collapsed": false,
    "pycharm": {
     "name": "#%%\n"
    }
   }
  },
  {
   "cell_type": "code",
   "execution_count": 504,
   "outputs": [],
   "source": [
    "# Custom Clean-Up Function For This Dataset -- 1\n",
    "def EncodeResponse (df):\n",
    "    df=df\n",
    "    # Execute Encoding\n",
    "    dummyTemp = pd.get_dummies(df['readmitted'],prefix='readmitted_')\n",
    "    df = df.join(dummyTemp)\n",
    "    # Customize/ Clean-Up\n",
    "    ## Make 'readmitted' more logical so it is 0 when no and 1 when yes\n",
    "    df = df.drop(columns=['readmitted']) # Drop Old Readmitted Column\n",
    "    df = df.rename(columns={'readmitted__NO': 'readmitted'}) # Rename encoded column\n",
    "    df = df.dropna(subset=['readmitted']) # drop puzzling 1 nan value\n",
    "    df['readmitted'] = df['readmitted'].map({0:1, 1:0}) # reverse encoding to make logical\n",
    "    return df\n"
   ],
   "metadata": {
    "collapsed": false,
    "pycharm": {
     "name": "#%%\n"
    }
   }
  },
  {
   "cell_type": "code",
   "execution_count": 505,
   "outputs": [],
   "source": [
    "# Custom Clean-Up Function For This Dataset -- 2\n",
    "# TODO: Clean-up for demographic Vars (age, gender, race)\n",
    "\n",
    "def AdditionalClean (df):\n",
    "    df=df\n",
    "    #1 - Null Clean-Up2 -- Fillna's for variables with nulls that have value to keep\n",
    "    df['race'] = df['race'].fillna('Unknown')\n",
    "    #2 - Race to Dummy Vars\n",
    "    dummyTemp = pd.get_dummies(df['race'],prefix='race_')\n",
    "    df = df.join(dummyTemp)\n",
    "    df = df.drop(columns=['race'])\n",
    "    #2 - Encode Gender\n",
    "    number = LabelEncoder()\n",
    "    df['gender'] = number.fit_transform(df['gender']) # F -> 1, M -> 0, Unknown -> 2\n",
    "    #3 - Encode diabetesMed\n",
    "    df['diabetesMed'] = number.fit_transform(df['diabetesMed']) # Yes -> 1, No -> 0\n",
    "    #4 Custom Encode 1 -  A1Cresult\n",
    "    mapping_a1 = {'None':0,'Norm':0,'>7':1,'>8':2}\n",
    "    df['A1Cresult'] = df['A1Cresult'].map(mapping_a1)\n",
    "    #5 Custom Encode 2 -  max_glu_serum\n",
    "    mapping_glu = {'None':0,'Norm':0,'>200':1,'>300':2}\n",
    "    df['max_glu_serum'] = df['max_glu_serum'].map(mapping_glu)\n",
    "    #6 Custom Encode 3 - change\n",
    "    mapping_change = {'No':0,'Ch':1,}\n",
    "    df['change'] = df['change'].map(mapping_change)\n",
    "    #7 - Convert Age Buckets to Single Numeric\n",
    "    df['age'] = df['age'].str[1:3]\n",
    "    df['age'] = df['age'].str.rstrip('-')\n",
    "    df['age'] = df['age'].astype('int')\n",
    "    df = df.rename(columns={'age': 'age_10yrStart'})\n",
    "    return df"
   ],
   "metadata": {
    "collapsed": false,
    "pycharm": {
     "name": "#%%\n"
    }
   }
  },
  {
   "cell_type": "code",
   "execution_count": 506,
   "outputs": [],
   "source": [
    "# Main Clean DF Function -- Wraps Clean-Up Steps into one function so I can run on multiple versions of a DF\n",
    "## Does not include steps for cleaning response variable.\n",
    "\n",
    "def Clean_DF_Wrapper (df_to_clean,ordEncode_Vars,ordEncode_order,medCols):\n",
    "\n",
    "    # Null Clean-Up1 -- Drop Columns with high % of nulls, that aren't worth filling\n",
    "    df_to_clean = df_to_clean.drop(columns=['weight','medical_specialty','payer_code'])\n",
    "\n",
    "    # Diag Clean-Up\n",
    "    ## If diag_2 is null, then use diag_3.  If diag_1 is null, then use diag_2\n",
    "    ## Solves all but 1 null Diag1, which is dropped\n",
    "    ## TODO: Determine how to drop value from column that I pull from.\n",
    "    df_to_clean['diag_2'] = df_to_clean['diag_2'].fillna(df_to_clean['diag_3'])\n",
    "    df_to_clean['diag_1'] = df_to_clean['diag_1'].fillna(df_to_clean['diag_2'])\n",
    "    df_to_clean = df_to_clean.dropna(subset=['diag_1'])\n",
    "\n",
    "    # Remove Deceased Patients\n",
    "    ## Note: The research question is about predicting what patients will be re-admitted.\n",
    "    ## In order to not skew the results, patients who died while admitted should be removed from the prediction\n",
    "    ## Note: I only removed cases that explicity said the patient expired. not hospice patients (13,14)\n",
    "    expCodes = ['11','19','20','21']\n",
    "    df_to_clean = df_to_clean[~df_to_clean['discharge_disposition_id'].isin(expCodes)]\n",
    "\n",
    "    # Call OrdinalEncoder Function\n",
    "    df_to_clean  = OrdinalEncoderFunc(df_to_clean,ordEncode_Vars,ordEncode_order)\n",
    "\n",
    "    # Add Variable For Number of Medications\n",
    "    df_to_clean['num_of_meds'] = df_to_clean[medCols].ne(0).sum(axis=1)\n",
    "\n",
    "    # Add Variable for Medication Level Up Or Down\n",
    "    ## In the Medication columns 1 signifies that dosage decreased, 3 signifies that dosage increased\n",
    "    ## This counts the number of 1 and coverts to a negative, then the adds the number of 3\n",
    "    ## Result indicates the net level of medication change\n",
    "    df_to_clean['med_level_direction'] = ((df_to_clean[medCols] == 1).sum(axis=1)*-1) + \\\n",
    "                                  (df_to_clean[medCols] == 3).sum(axis=1)\n",
    "\n",
    "    # Call Function w/ all custom clean-up steps\n",
    "    df_to_clean = AdditionalClean(df_to_clean)\n",
    "\n",
    "    return df_to_clean"
   ],
   "metadata": {
    "collapsed": false,
    "pycharm": {
     "name": "#%%\n"
    }
   }
  },
  {
   "cell_type": "code",
   "execution_count": 507,
   "outputs": [],
   "source": [
    "# Clean DF Function For Response -- Wraps Steps into one function so I can run on multiple versions of a DF\n",
    "## Seems strange that it only calls another function, wanted structure in case I added other steps\n",
    "\n",
    "def Clean_ResponseVar (df_to_clean):\n",
    "    df_to_clean = EncodeResponse(df_to_clean)\n",
    "    return df_to_clean\n"
   ],
   "metadata": {
    "collapsed": false,
    "pycharm": {
     "name": "#%%\n"
    }
   }
  },
  {
   "cell_type": "code",
   "execution_count": 508,
   "outputs": [],
   "source": [
    "#  Split function - Takes a df and list of predictor vars and specified response var and\n",
    "##  returns x/y test/train sets.\n",
    "## Note: update params if you want reproducable splits or not\n",
    "## Note: set test size to 20%\n",
    "\n",
    "def testTrainSplit (df, PredictorVar,ResponseVar):\n",
    "    df=df\n",
    "    # Split into training/test\n",
    "    x = df[PredictorVar]\n",
    "    y = df[ResponseVar]\n",
    "    # Split Data Set Seed NP Random\n",
    "    np.random.seed(1) # seed np random\n",
    "    ## split data - use \"random_state = any number (42) if you want reproducable splits.\n",
    "    ### Remove random-state if you want random\n",
    "    x_train, x_test, y_train, y_test = train_test_split(x,y, random_state=42, test_size = 0.2)\n",
    "    return x_train, x_test, y_train, y_test\n"
   ],
   "metadata": {
    "collapsed": false,
    "pycharm": {
     "name": "#%%\n"
    }
   }
  },
  {
   "cell_type": "code",
   "execution_count": 509,
   "outputs": [],
   "source": [
    "# Takes a model, and test sets and returns and ROC Curve w/ AUC value\n",
    "\n",
    "def ROC_Curve_Plot(model,roc_x_test,roc_y_test):\n",
    "    probas = model.predict_proba(roc_x_test) # get the probability distribution\n",
    "    fpr, tpr, thresholds = roc_curve(roc_y_test, probas[:,0], pos_label=0) # get false and true positive rates\n",
    "    roc_auc = auc(fpr, tpr) # get area under curve\n",
    "    # PLOT ROC curve\n",
    "    plt.figure(dpi=150)\n",
    "    plt.plot(fpr, tpr, lw=1, color='green', label=f'AUC = {roc_auc:.3f}')\n",
    "    plt.plot([0,1], [0,1], '--k', lw=0.5, label='Random')\n",
    "    plt.title('ROC Curve')\n",
    "    plt.xlabel('False Positive Rate')\n",
    "    plt.ylabel('True Positive Rate (Recall)')\n",
    "    plt.xlim([-0.05, 1.05])\n",
    "    plt.ylim([-0.05, 1.05])\n",
    "    plt.legend()\n",
    "    return plt\n"
   ],
   "metadata": {
    "collapsed": false,
    "pycharm": {
     "name": "#%%\n"
    }
   }
  },
  {
   "cell_type": "code",
   "execution_count": 510,
   "outputs": [],
   "source": [
    "# Takes a model and various split sets and returns a CM plot w/ Accuracy\n",
    "\n",
    "def createConfMatrix (regObj, y_test, y_pred, x_test):\n",
    "    # Logistic Regression -- Step 5 -- Create Confusion Matrix\n",
    "    cm = pd.DataFrame(confusion_matrix(y_test, y_pred))\n",
    "    cm.columns.name = 'Predicted'\n",
    "    cm.index.name = 'True'\n",
    "    # Logistic Regression -- Step 6 -- Calc Accuracy From Test Set\n",
    "    score = regObj.score(x_test, y_test)\n",
    "    score = round(score,4)\n",
    "    return cm, score\n",
    "\n",
    "# Takes test and predicted sets and returns precision/recall metrics\n"
   ],
   "metadata": {
    "collapsed": false,
    "pycharm": {
     "name": "#%%\n"
    }
   }
  },
  {
   "cell_type": "code",
   "execution_count": 511,
   "outputs": [],
   "source": [
    "def summaryStats (model_name, y_test, y_pred, SummaryDF):\n",
    "    # Collect Stats\n",
    "    row =[]\n",
    "    model_name = model_name\n",
    "    accuracy = round(accuracy_score(y_test, y_pred),4)\n",
    "    precision = round(precision_score(y_test, y_pred),4)\n",
    "    recall = round(recall_score(y_test, y_pred),4)\n",
    "    f1 = round(f1_score(y_test, y_pred),4)\n",
    "    # Collect Results\n",
    "    row = [model_name,accuracy, precision, recall, f1]\n",
    "    # append stats to Summary Stats DF\n",
    "    df = SummaryDF\n",
    "    df_length = len(df)\n",
    "    df.loc[df_length] = row\n",
    "    return df"
   ],
   "metadata": {
    "collapsed": false,
    "pycharm": {
     "name": "#%%\n"
    }
   }
  },
  {
   "cell_type": "code",
   "execution_count": 512,
   "outputs": [],
   "source": [
    "# Takes a model and returns a Feature Importance Plot\n",
    "\n",
    "def FeatureImportance (model):\n",
    "    # Best Tree-- Plot Most Important Features\n",
    "    importances = model.feature_importances_\n",
    "    #Convert Array to DF\n",
    "    feature_importances = pd.Series(importances, index=PredictorVar)\n",
    "    feature_importances = feature_importances.to_frame().reset_index()\n",
    "    feature_importances = feature_importances.rename(columns={'index':'feature',0:'impDecrease'})\n",
    "    feature_importances = feature_importances.sort_values(by='impDecrease',ascending=False)\n",
    "    #std = np.std([tree.feature_importances_ for tree in cv_bestTree.estimators_], axis=0)\n",
    "    # Create Plot\n",
    "    sns.set_theme(style=\"whitegrid\")\n",
    "    fig, ax = plt.subplots(figsize = (6,6), dpi=200)\n",
    "    ax = sns.barplot(x=\"impDecrease\", y=\"feature\", data=feature_importances,color=\"blue\")\n",
    "    ax.set_title(\"Feature importance\")\n",
    "    ax.set_ylabel(\"Feature\")\n",
    "    ax.set_xlabel(\"Impurity Decrease\")\n",
    "    fig.tight_layout()\n",
    "    return feature_importances, fig"
   ],
   "metadata": {
    "collapsed": false,
    "pycharm": {
     "name": "#%%\n"
    }
   }
  },
  {
   "cell_type": "code",
   "execution_count": 513,
   "outputs": [],
   "source": [
    "# Takes a DF and returns an elbow plot for KMeans in order to determine the proper K Value\n",
    "## Think of as KMeans Pre-Analysis\n",
    "\n",
    "def KMeansElbowPlot(df):\n",
    "    # Elbow Method -- To Set K Range\n",
    "    k_rng = range(1,10)\n",
    "    # sum of square error\n",
    "    sse = []\n",
    "    for k in k_rng:\n",
    "        km = KMeans(n_clusters=k)\n",
    "        km.fit(df)\n",
    "        sse.append(km.inertia_)\n",
    "    # Elbow Plot w / SSE\n",
    "    plt.xlabel('K')\n",
    "    plt.ylabel('SSE')\n",
    "    plt.plot(k_rng,sse)\n",
    "    return plt"
   ],
   "metadata": {
    "collapsed": false,
    "pycharm": {
     "name": "#%%\n"
    }
   }
  },
  {
   "cell_type": "code",
   "execution_count": 514,
   "outputs": [],
   "source": [
    "# Takes a DF, list of Predictor Vars, and Response Var and returns an elbow plot to determine optimal P.C.'s\n",
    "\n",
    "def PCA_PreProcess_Elbow(df,PredictorVar,ResponseVar):\n",
    "    # PCA -- CV\n",
    "    upper = len(PredictorVar)\n",
    "    row =[]\n",
    "    pca_Result = pd.DataFrame(columns = [\"Number_Variables\",\"MSE\",'RMSE',\"Variance_Explained\"])\n",
    "    kf = model_selection.KFold( n_splits=10, shuffle=True, random_state=1)\n",
    "    # Function Call To prep train/test\n",
    "    for i in range(upper):\n",
    "        x_train, x_test, y_train, y_test  = testTrainSplit(df, PredictorVar[:i+1], ResponseVar)\n",
    "        pca = PCA()\n",
    "        x = pca.fit_transform(scale(x_test))\n",
    "        regr = LinearRegression()\n",
    "        regr.fit(x_train, y_train)\n",
    "        score = -1*model_selection.cross_val_score(regr, x_test, y_test, cv=kf,\n",
    "                                               scoring='neg_mean_squared_error').mean()\n",
    "        varExplained = 1-(pca.explained_variance_ratio_[i])\n",
    "        RMSE = np.sqrt(score)\n",
    "        row = [i,score,RMSE,varExplained]\n",
    "        df_length = len(pca_Result)\n",
    "        pca_Result.loc[df_length] = row\n",
    "    # PCA -- plot\n",
    "    sns.set_style(\"whitegrid\")\n",
    "    sns.set(rc = {'figure.figsize':(5,5)})\n",
    "    fig, (ax1,ax2) = plt.subplots(ncols=2,sharex=True, sharey=False, figsize=(15,9))\n",
    "    sns.lineplot(\n",
    "        data=pca_Result, ax=ax1,\n",
    "        x=\"Number_Variables\", y=\"MSE\",\n",
    "        marker=\"o\", dashes=False)\n",
    "    sns.lineplot(\n",
    "        data=pca_Result, ax=ax2,\n",
    "        x=\"Number_Variables\", y=\"Variance_Explained\",\n",
    "        marker=\"o\", dashes=False)\n",
    "    return plt"
   ],
   "metadata": {
    "collapsed": false,
    "pycharm": {
     "name": "#%%\n"
    }
   }
  },
  {
   "cell_type": "code",
   "execution_count": 515,
   "outputs": [],
   "source": [
    "# Run PCA on a given set after determined optimal number of features (m) w/ the Pre-Process Function.\n",
    "\n",
    "def PCA_Actual(df,PCA_relevant_features,numFeatures):\n",
    "    # Make a temp set w/ just PCA_PredictorVars\n",
    "    tempSet = df[PCA_relevant_features]\n",
    "    # PCA -- Run Actual on Set w/ Num Features Defined On Temp Set -- Produce Array\n",
    "    pca_BestM = PCA(n_components=numFeatures, random_state=1)\n",
    "    X_scaled = scale(tempSet)\n",
    "    pca_BestM.fit(X_scaled)\n",
    "    X_pca_bestM = pca_BestM.transform(X_scaled)\n",
    "    # Convert Array into DF\n",
    "    PC_Cols = []\n",
    "    for i in range(numFeatures):\n",
    "        num=str(i+1)\n",
    "        PC_Cols.append(\"PC\"+num)\n",
    "    PCA_ResultsDF = pd.DataFrame(X_pca_bestM, columns=PC_Cols)\n",
    "    #df = df.reset_index()\n",
    "    #df = df.join(PCA_ResultsDF)\n",
    "    df = pd.merge(df,PCA_ResultsDF, left_index=True, right_index=True)\n",
    "    #print(len(df))\n",
    "    # Drop PredictorVars -- replace w/ P.C\n",
    "    df = df.drop(columns=PCA_relevant_features)\n",
    "    # reset new Predictor Var List\n",
    "    PredictorVar = df.columns.values.tolist()\n",
    "    return df, PredictorVar"
   ],
   "metadata": {
    "collapsed": false,
    "pycharm": {
     "name": "#%%\n"
    }
   }
  },
  {
   "cell_type": "code",
   "execution_count": 549,
   "outputs": [],
   "source": [
    "def quickModelComparison(models,qe_x_train,qe_x_test, qe_y_train,qe_y_test, qe_summaryDF):\n",
    "    i=0\n",
    "    sc_X = StandardScaler()\n",
    "    qe_x_train_scaled = sc_X.fit_transform(qe_x_train)\n",
    "    qe_x_test_scaled = sc_X.transform(qe_x_test)\n",
    "    for model in models:\n",
    "        # Model Name -- TODO\n",
    "        model_name = str(models[i])\n",
    "        split_string = model_name.split(\"(\", 1)\n",
    "        model_name = split_string[0]\n",
    "        i=i+1\n",
    "        #fit\n",
    "        model.fit(qe_x_train_scaled,qe_y_train)\n",
    "        # Make Predictions\n",
    "        y_pred_qe = model.predict(qe_x_test_scaled)\n",
    "        # summary\n",
    "        qe_summaryDF = summaryStats(model_name,qe_y_test, y_pred_qe, qe_summaryDF)\n",
    "    return qe_summaryDF\n"
   ],
   "metadata": {
    "collapsed": false,
    "pycharm": {
     "name": "#%%\n"
    }
   }
  },
  {
   "cell_type": "markdown",
   "source": [
    "## General EDA"
   ],
   "metadata": {
    "collapsed": false
   }
  },
  {
   "cell_type": "code",
   "execution_count": 517,
   "outputs": [
    {
     "name": "stdout",
     "output_type": "stream",
     "text": [
      "Data shape: (10000, 50)\n"
     ]
    }
   ],
   "source": [
    "# Data Shape\n",
    "print(f\"Data shape:\",mainData.shape)"
   ],
   "metadata": {
    "collapsed": false,
    "pycharm": {
     "name": "#%%\n"
    }
   }
  },
  {
   "cell_type": "code",
   "execution_count": 518,
   "outputs": [
    {
     "name": "stdout",
     "output_type": "stream",
     "text": [
      "<class 'pandas.core.frame.DataFrame'>\n",
      "Int64Index: 10000 entries, 29345 to 20720\n",
      "Data columns (total 50 columns):\n",
      " #   Column                    Non-Null Count  Dtype \n",
      "---  ------                    --------------  ----- \n",
      " 0   encounter_id              10000 non-null  int64 \n",
      " 1   patient_nbr               10000 non-null  int64 \n",
      " 2   race                      9716 non-null   object\n",
      " 3   gender                    10000 non-null  object\n",
      " 4   age                       10000 non-null  object\n",
      " 5   weight                    374 non-null    object\n",
      " 6   admission_type_id         10000 non-null  int64 \n",
      " 7   discharge_disposition_id  10000 non-null  int64 \n",
      " 8   admission_source_id       10000 non-null  int64 \n",
      " 9   time_in_hospital          10000 non-null  int64 \n",
      " 10  payer_code                5659 non-null   object\n",
      " 11  medical_specialty         5190 non-null   object\n",
      " 12  num_lab_procedures        10000 non-null  int64 \n",
      " 13  num_procedures            10000 non-null  int64 \n",
      " 14  num_medications           10000 non-null  int64 \n",
      " 15  number_outpatient         10000 non-null  int64 \n",
      " 16  number_emergency          10000 non-null  int64 \n",
      " 17  number_inpatient          10000 non-null  int64 \n",
      " 18  diag_1                    9999 non-null   object\n",
      " 19  diag_2                    9965 non-null   object\n",
      " 20  diag_3                    9816 non-null   object\n",
      " 21  number_diagnoses          10000 non-null  int64 \n",
      " 22  max_glu_serum             10000 non-null  object\n",
      " 23  A1Cresult                 10000 non-null  object\n",
      " 24  metformin                 10000 non-null  object\n",
      " 25  repaglinide               10000 non-null  object\n",
      " 26  nateglinide               10000 non-null  object\n",
      " 27  chlorpropamide            10000 non-null  object\n",
      " 28  glimepiride               10000 non-null  object\n",
      " 29  acetohexamide             10000 non-null  object\n",
      " 30  glipizide                 10000 non-null  object\n",
      " 31  glyburide                 10000 non-null  object\n",
      " 32  tolbutamide               10000 non-null  object\n",
      " 33  pioglitazone              10000 non-null  object\n",
      " 34  rosiglitazone             10000 non-null  object\n",
      " 35  acarbose                  10000 non-null  object\n",
      " 36  miglitol                  10000 non-null  object\n",
      " 37  troglitazone              10000 non-null  object\n",
      " 38  tolazamide                10000 non-null  object\n",
      " 39  examide                   10000 non-null  object\n",
      " 40  citoglipton               10000 non-null  object\n",
      " 41  insulin                   10000 non-null  object\n",
      " 42  glyburide.metformin       10000 non-null  object\n",
      " 43  glipizide.metformin       10000 non-null  object\n",
      " 44  glimepiride.pioglitazone  10000 non-null  object\n",
      " 45  metformin.rosiglitazone   10000 non-null  object\n",
      " 46  metformin.pioglitazone    10000 non-null  object\n",
      " 47  change                    10000 non-null  object\n",
      " 48  diabetesMed               10000 non-null  object\n",
      " 49  readmitted                10000 non-null  object\n",
      "dtypes: int64(13), object(37)\n",
      "memory usage: 3.9+ MB\n"
     ]
    }
   ],
   "source": [
    "mainData.info()"
   ],
   "metadata": {
    "collapsed": false,
    "pycharm": {
     "name": "#%%\n"
    }
   }
  },
  {
   "cell_type": "code",
   "execution_count": 519,
   "outputs": [
    {
     "data": {
      "text/plain": "        encounter_id   patient_nbr       race  gender      age    weight  \\\ncount   1.000000e+04  1.000000e+04       9716   10000    10000       374   \nunique           NaN           NaN          5       2       10         8   \ntop              NaN           NaN  Caucasian  Female  [70-80)  [75-100)   \nfreq             NaN           NaN       7439    5285     2520       167   \nmean    1.581934e+08  5.506129e+07        NaN     NaN      NaN       NaN   \nstd     1.009820e+08  3.914401e+07        NaN     NaN      NaN       NaN   \nmin     2.823600e+04  1.305000e+03        NaN     NaN      NaN       NaN   \n25%     8.163509e+07  2.342001e+07        NaN     NaN      NaN       NaN   \n50%     1.456536e+08  4.974638e+07        NaN     NaN      NaN       NaN   \n75%     2.192663e+08  8.725946e+07        NaN     NaN      NaN       NaN   \nmax     4.438421e+08  1.891695e+08        NaN     NaN      NaN       NaN   \n\n        admission_type_id  discharge_disposition_id  admission_source_id  \\\ncount        10000.000000              10000.000000         10000.000000   \nunique                NaN                       NaN                  NaN   \ntop                   NaN                       NaN                  NaN   \nfreq                  NaN                       NaN                  NaN   \nmean             2.125700                  3.589700             5.685700   \nstd              1.542056                  5.290213             4.203104   \nmin              1.000000                  1.000000             1.000000   \n25%              1.000000                  1.000000             1.000000   \n50%              1.000000                  1.000000             7.000000   \n75%              3.000000                  3.000000             7.000000   \nmax              8.000000                 28.000000            20.000000   \n\n        time_in_hospital  ... citoglipton insulin  glyburide.metformin  \\\ncount       10000.000000  ...       10000   10000                10000   \nunique               NaN  ...           1       4                    4   \ntop                  NaN  ...          No      No                   No   \nfreq                 NaN  ...       10000    4857                 9927   \nmean            4.305800  ...         NaN     NaN                  NaN   \nstd             2.966642  ...         NaN     NaN                  NaN   \nmin             1.000000  ...         NaN     NaN                  NaN   \n25%             2.000000  ...         NaN     NaN                  NaN   \n50%             3.500000  ...         NaN     NaN                  NaN   \n75%             6.000000  ...         NaN     NaN                  NaN   \nmax            14.000000  ...         NaN     NaN                  NaN   \n\n        glipizide.metformin  glimepiride.pioglitazone  \\\ncount                 10000                     10000   \nunique                    1                         1   \ntop                      No                        No   \nfreq                  10000                     10000   \nmean                    NaN                       NaN   \nstd                     NaN                       NaN   \nmin                     NaN                       NaN   \n25%                     NaN                       NaN   \n50%                     NaN                       NaN   \n75%                     NaN                       NaN   \nmax                     NaN                       NaN   \n\n        metformin.rosiglitazone  metformin.pioglitazone  change diabetesMed  \\\ncount                     10000                   10000   10000       10000   \nunique                        1                       1       2           2   \ntop                          No                      No      No         Yes   \nfreq                      10000                   10000    5528        7569   \nmean                        NaN                     NaN     NaN         NaN   \nstd                         NaN                     NaN     NaN         NaN   \nmin                         NaN                     NaN     NaN         NaN   \n25%                         NaN                     NaN     NaN         NaN   \n50%                         NaN                     NaN     NaN         NaN   \n75%                         NaN                     NaN     NaN         NaN   \nmax                         NaN                     NaN     NaN         NaN   \n\n       readmitted  \ncount       10000  \nunique          3  \ntop            NO  \nfreq         5956  \nmean          NaN  \nstd           NaN  \nmin           NaN  \n25%           NaN  \n50%           NaN  \n75%           NaN  \nmax           NaN  \n\n[11 rows x 50 columns]",
      "text/html": "<div>\n<style scoped>\n    .dataframe tbody tr th:only-of-type {\n        vertical-align: middle;\n    }\n\n    .dataframe tbody tr th {\n        vertical-align: top;\n    }\n\n    .dataframe thead th {\n        text-align: right;\n    }\n</style>\n<table border=\"1\" class=\"dataframe\">\n  <thead>\n    <tr style=\"text-align: right;\">\n      <th></th>\n      <th>encounter_id</th>\n      <th>patient_nbr</th>\n      <th>race</th>\n      <th>gender</th>\n      <th>age</th>\n      <th>weight</th>\n      <th>admission_type_id</th>\n      <th>discharge_disposition_id</th>\n      <th>admission_source_id</th>\n      <th>time_in_hospital</th>\n      <th>...</th>\n      <th>citoglipton</th>\n      <th>insulin</th>\n      <th>glyburide.metformin</th>\n      <th>glipizide.metformin</th>\n      <th>glimepiride.pioglitazone</th>\n      <th>metformin.rosiglitazone</th>\n      <th>metformin.pioglitazone</th>\n      <th>change</th>\n      <th>diabetesMed</th>\n      <th>readmitted</th>\n    </tr>\n  </thead>\n  <tbody>\n    <tr>\n      <th>count</th>\n      <td>1.000000e+04</td>\n      <td>1.000000e+04</td>\n      <td>9716</td>\n      <td>10000</td>\n      <td>10000</td>\n      <td>374</td>\n      <td>10000.000000</td>\n      <td>10000.000000</td>\n      <td>10000.000000</td>\n      <td>10000.000000</td>\n      <td>...</td>\n      <td>10000</td>\n      <td>10000</td>\n      <td>10000</td>\n      <td>10000</td>\n      <td>10000</td>\n      <td>10000</td>\n      <td>10000</td>\n      <td>10000</td>\n      <td>10000</td>\n      <td>10000</td>\n    </tr>\n    <tr>\n      <th>unique</th>\n      <td>NaN</td>\n      <td>NaN</td>\n      <td>5</td>\n      <td>2</td>\n      <td>10</td>\n      <td>8</td>\n      <td>NaN</td>\n      <td>NaN</td>\n      <td>NaN</td>\n      <td>NaN</td>\n      <td>...</td>\n      <td>1</td>\n      <td>4</td>\n      <td>4</td>\n      <td>1</td>\n      <td>1</td>\n      <td>1</td>\n      <td>1</td>\n      <td>2</td>\n      <td>2</td>\n      <td>3</td>\n    </tr>\n    <tr>\n      <th>top</th>\n      <td>NaN</td>\n      <td>NaN</td>\n      <td>Caucasian</td>\n      <td>Female</td>\n      <td>[70-80)</td>\n      <td>[75-100)</td>\n      <td>NaN</td>\n      <td>NaN</td>\n      <td>NaN</td>\n      <td>NaN</td>\n      <td>...</td>\n      <td>No</td>\n      <td>No</td>\n      <td>No</td>\n      <td>No</td>\n      <td>No</td>\n      <td>No</td>\n      <td>No</td>\n      <td>No</td>\n      <td>Yes</td>\n      <td>NO</td>\n    </tr>\n    <tr>\n      <th>freq</th>\n      <td>NaN</td>\n      <td>NaN</td>\n      <td>7439</td>\n      <td>5285</td>\n      <td>2520</td>\n      <td>167</td>\n      <td>NaN</td>\n      <td>NaN</td>\n      <td>NaN</td>\n      <td>NaN</td>\n      <td>...</td>\n      <td>10000</td>\n      <td>4857</td>\n      <td>9927</td>\n      <td>10000</td>\n      <td>10000</td>\n      <td>10000</td>\n      <td>10000</td>\n      <td>5528</td>\n      <td>7569</td>\n      <td>5956</td>\n    </tr>\n    <tr>\n      <th>mean</th>\n      <td>1.581934e+08</td>\n      <td>5.506129e+07</td>\n      <td>NaN</td>\n      <td>NaN</td>\n      <td>NaN</td>\n      <td>NaN</td>\n      <td>2.125700</td>\n      <td>3.589700</td>\n      <td>5.685700</td>\n      <td>4.305800</td>\n      <td>...</td>\n      <td>NaN</td>\n      <td>NaN</td>\n      <td>NaN</td>\n      <td>NaN</td>\n      <td>NaN</td>\n      <td>NaN</td>\n      <td>NaN</td>\n      <td>NaN</td>\n      <td>NaN</td>\n      <td>NaN</td>\n    </tr>\n    <tr>\n      <th>std</th>\n      <td>1.009820e+08</td>\n      <td>3.914401e+07</td>\n      <td>NaN</td>\n      <td>NaN</td>\n      <td>NaN</td>\n      <td>NaN</td>\n      <td>1.542056</td>\n      <td>5.290213</td>\n      <td>4.203104</td>\n      <td>2.966642</td>\n      <td>...</td>\n      <td>NaN</td>\n      <td>NaN</td>\n      <td>NaN</td>\n      <td>NaN</td>\n      <td>NaN</td>\n      <td>NaN</td>\n      <td>NaN</td>\n      <td>NaN</td>\n      <td>NaN</td>\n      <td>NaN</td>\n    </tr>\n    <tr>\n      <th>min</th>\n      <td>2.823600e+04</td>\n      <td>1.305000e+03</td>\n      <td>NaN</td>\n      <td>NaN</td>\n      <td>NaN</td>\n      <td>NaN</td>\n      <td>1.000000</td>\n      <td>1.000000</td>\n      <td>1.000000</td>\n      <td>1.000000</td>\n      <td>...</td>\n      <td>NaN</td>\n      <td>NaN</td>\n      <td>NaN</td>\n      <td>NaN</td>\n      <td>NaN</td>\n      <td>NaN</td>\n      <td>NaN</td>\n      <td>NaN</td>\n      <td>NaN</td>\n      <td>NaN</td>\n    </tr>\n    <tr>\n      <th>25%</th>\n      <td>8.163509e+07</td>\n      <td>2.342001e+07</td>\n      <td>NaN</td>\n      <td>NaN</td>\n      <td>NaN</td>\n      <td>NaN</td>\n      <td>1.000000</td>\n      <td>1.000000</td>\n      <td>1.000000</td>\n      <td>2.000000</td>\n      <td>...</td>\n      <td>NaN</td>\n      <td>NaN</td>\n      <td>NaN</td>\n      <td>NaN</td>\n      <td>NaN</td>\n      <td>NaN</td>\n      <td>NaN</td>\n      <td>NaN</td>\n      <td>NaN</td>\n      <td>NaN</td>\n    </tr>\n    <tr>\n      <th>50%</th>\n      <td>1.456536e+08</td>\n      <td>4.974638e+07</td>\n      <td>NaN</td>\n      <td>NaN</td>\n      <td>NaN</td>\n      <td>NaN</td>\n      <td>1.000000</td>\n      <td>1.000000</td>\n      <td>7.000000</td>\n      <td>3.500000</td>\n      <td>...</td>\n      <td>NaN</td>\n      <td>NaN</td>\n      <td>NaN</td>\n      <td>NaN</td>\n      <td>NaN</td>\n      <td>NaN</td>\n      <td>NaN</td>\n      <td>NaN</td>\n      <td>NaN</td>\n      <td>NaN</td>\n    </tr>\n    <tr>\n      <th>75%</th>\n      <td>2.192663e+08</td>\n      <td>8.725946e+07</td>\n      <td>NaN</td>\n      <td>NaN</td>\n      <td>NaN</td>\n      <td>NaN</td>\n      <td>3.000000</td>\n      <td>3.000000</td>\n      <td>7.000000</td>\n      <td>6.000000</td>\n      <td>...</td>\n      <td>NaN</td>\n      <td>NaN</td>\n      <td>NaN</td>\n      <td>NaN</td>\n      <td>NaN</td>\n      <td>NaN</td>\n      <td>NaN</td>\n      <td>NaN</td>\n      <td>NaN</td>\n      <td>NaN</td>\n    </tr>\n    <tr>\n      <th>max</th>\n      <td>4.438421e+08</td>\n      <td>1.891695e+08</td>\n      <td>NaN</td>\n      <td>NaN</td>\n      <td>NaN</td>\n      <td>NaN</td>\n      <td>8.000000</td>\n      <td>28.000000</td>\n      <td>20.000000</td>\n      <td>14.000000</td>\n      <td>...</td>\n      <td>NaN</td>\n      <td>NaN</td>\n      <td>NaN</td>\n      <td>NaN</td>\n      <td>NaN</td>\n      <td>NaN</td>\n      <td>NaN</td>\n      <td>NaN</td>\n      <td>NaN</td>\n      <td>NaN</td>\n    </tr>\n  </tbody>\n</table>\n<p>11 rows × 50 columns</p>\n</div>"
     },
     "execution_count": 519,
     "metadata": {},
     "output_type": "execute_result"
    }
   ],
   "source": [
    "# Describe\n",
    "mainData.describe(include='all')"
   ],
   "metadata": {
    "collapsed": false,
    "pycharm": {
     "name": "#%%\n"
    }
   }
  },
  {
   "cell_type": "code",
   "execution_count": 520,
   "outputs": [
    {
     "data": {
      "text/plain": "admission_type_id             7\ndischarge_disposition_id     23\nadmission_source_id          13\ntime_in_hospital             14\nnum_lab_procedures          105\nnum_procedures                7\nnum_medications              67\nnumber_outpatient            19\nnumber_emergency             11\nnumber_inpatient             10\nnumber_diagnoses             13\ndtype: int64"
     },
     "execution_count": 520,
     "metadata": {},
     "output_type": "execute_result"
    }
   ],
   "source": [
    "numericFeatures = mainData.select_dtypes(include= np.number)\n",
    "numericFeatures = numericFeatures.drop(columns=['encounter_id','patient_nbr'])\n",
    "numericFeatures.nunique()"
   ],
   "metadata": {
    "collapsed": false,
    "pycharm": {
     "name": "#%%\n"
    }
   }
  },
  {
   "cell_type": "code",
   "execution_count": 521,
   "outputs": [
    {
     "data": {
      "text/plain": "<Figure size 1080x648 with 12 Axes>",
      "image/png": "[encoded data removed]"
     },
     "metadata": {},
     "output_type": "display_data"
    }
   ],
   "source": [
    "# Distribution Plots\n",
    "\n",
    "fig, axes = plt.subplots(4,3, sharex=False, sharey=False, figsize=(15,9))\n",
    "fig.suptitle('Distribution Plots of Numeric Features')\n",
    "\n",
    "sns.distplot(numericFeatures['admission_type_id'], ax=axes[0,0], kde=True).set(title='admission_type_id')\n",
    "sns.distplot(numericFeatures['discharge_disposition_id'], ax=axes[0,1], kde=True).set(title='discharge_disposition_id')\n",
    "sns.distplot(numericFeatures['admission_source_id'], ax=axes[0,2], kde=True).set(title='admission_source_id')\n",
    "sns.distplot(numericFeatures['time_in_hospital'], ax=axes[1,0], kde=True).set(title='time_in_hospital')\n",
    "sns.distplot(numericFeatures['num_lab_procedures'], ax=axes[1,1], kde=True).set(title='num_lab_procedures')\n",
    "sns.distplot(numericFeatures['num_procedures'], ax=axes[1,2], kde=False).set(title='num_procedures')\n",
    "sns.distplot(numericFeatures['num_medications'], ax=axes[2,0], kde=True).set(title='num_medications')\n",
    "sns.distplot(numericFeatures['number_outpatient'], ax=axes[2,1], kde=True).set(title='number_outpatient')\n",
    "sns.distplot(numericFeatures['number_emergency'], ax=axes[2,2], kde=False).set(title='number_emergency')\n",
    "sns.distplot(numericFeatures['number_inpatient'], ax=axes[3,0], kde=True).set(title='number_inpatient')\n",
    "sns.distplot(numericFeatures['number_diagnoses'], ax=axes[3,1], kde=True).set(title='number_diagnoses')\n",
    "\n",
    "plt.show()"
   ],
   "metadata": {
    "collapsed": false,
    "pycharm": {
     "name": "#%%\n"
    }
   }
  },
  {
   "cell_type": "code",
   "execution_count": 522,
   "outputs": [],
   "source": [
    "# sns.pairplot(numericFeatures)"
   ],
   "metadata": {
    "collapsed": false,
    "pycharm": {
     "name": "#%%\n"
    }
   }
  },
  {
   "cell_type": "markdown",
   "source": [
    "## General Data Clean-Up\n"
   ],
   "metadata": {
    "collapsed": false
   }
  },
  {
   "cell_type": "code",
   "execution_count": 523,
   "outputs": [
    {
     "name": "stdout",
     "output_type": "stream",
     "text": [
      "Count of Variables: 50\n",
      "Count of Variables without nulls: 43\n",
      "Count of Variables with null : 7\n"
     ]
    },
    {
     "data": {
      "text/plain": "             Variable Observations Nulls  Null_Per Num_Unique    Type\n5              weight        10000  9626     96.26          8  object\n11  medical_specialty        10000  4810     48.10         52  object\n10         payer_code        10000  4341     43.41         16  object\n2                race        10000   284      2.84          5  object\n20             diag_3        10000   184      1.84        498  object\n19             diag_2        10000    35      0.35        462  object\n18             diag_1        10000     1      0.01        469  object",
      "text/html": "<div>\n<style scoped>\n    .dataframe tbody tr th:only-of-type {\n        vertical-align: middle;\n    }\n\n    .dataframe tbody tr th {\n        vertical-align: top;\n    }\n\n    .dataframe thead th {\n        text-align: right;\n    }\n</style>\n<table border=\"1\" class=\"dataframe\">\n  <thead>\n    <tr style=\"text-align: right;\">\n      <th></th>\n      <th>Variable</th>\n      <th>Observations</th>\n      <th>Nulls</th>\n      <th>Null_Per</th>\n      <th>Num_Unique</th>\n      <th>Type</th>\n    </tr>\n  </thead>\n  <tbody>\n    <tr>\n      <th>5</th>\n      <td>weight</td>\n      <td>10000</td>\n      <td>9626</td>\n      <td>96.26</td>\n      <td>8</td>\n      <td>object</td>\n    </tr>\n    <tr>\n      <th>11</th>\n      <td>medical_specialty</td>\n      <td>10000</td>\n      <td>4810</td>\n      <td>48.10</td>\n      <td>52</td>\n      <td>object</td>\n    </tr>\n    <tr>\n      <th>10</th>\n      <td>payer_code</td>\n      <td>10000</td>\n      <td>4341</td>\n      <td>43.41</td>\n      <td>16</td>\n      <td>object</td>\n    </tr>\n    <tr>\n      <th>2</th>\n      <td>race</td>\n      <td>10000</td>\n      <td>284</td>\n      <td>2.84</td>\n      <td>5</td>\n      <td>object</td>\n    </tr>\n    <tr>\n      <th>20</th>\n      <td>diag_3</td>\n      <td>10000</td>\n      <td>184</td>\n      <td>1.84</td>\n      <td>498</td>\n      <td>object</td>\n    </tr>\n    <tr>\n      <th>19</th>\n      <td>diag_2</td>\n      <td>10000</td>\n      <td>35</td>\n      <td>0.35</td>\n      <td>462</td>\n      <td>object</td>\n    </tr>\n    <tr>\n      <th>18</th>\n      <td>diag_1</td>\n      <td>10000</td>\n      <td>1</td>\n      <td>0.01</td>\n      <td>469</td>\n      <td>object</td>\n    </tr>\n  </tbody>\n</table>\n</div>"
     },
     "execution_count": 523,
     "metadata": {},
     "output_type": "execute_result"
    }
   ],
   "source": [
    "# Print Null Summary\n",
    "nullSummary = nullAnalysis(mainData)\n",
    "nullSummary"
   ],
   "metadata": {
    "collapsed": false,
    "pycharm": {
     "name": "#%%\n"
    }
   }
  },
  {
   "cell_type": "code",
   "source": [
    "# Specify Medications for Encoding\n",
    "medCols = ['metformin','repaglinide','nateglinide','chlorpropamide','glimepiride',\n",
    "            'acetohexamide','glipizide','glyburide','tolbutamide','pioglitazone',\n",
    "            'rosiglitazone','acarbose','miglitol','troglitazone','tolazamide','examide',\n",
    "            'citoglipton','insulin','glyburide.metformin','glipizide.metformin','glimepiride.pioglitazone',\n",
    "            'metformin.rosiglitazone','metformin.pioglitazone']\n",
    "\n",
    "# Set Function Params\n",
    "df_to_clean = mainData\n",
    "ordEncode_Vars = medCols\n",
    "ordEncode_order = ['No','Down','Steady','Up']\n",
    "\n",
    "cleanDF = Clean_DF_Wrapper(df_to_clean,ordEncode_Vars,ordEncode_order,medCols)\n",
    "cleanDF = Clean_ResponseVar(cleanDF)\n",
    "cleanDF.sample(5)"
   ],
   "metadata": {
    "collapsed": false,
    "pycharm": {
     "name": "#%%\n"
    }
   },
   "execution_count": 524,
   "outputs": [
    {
     "data": {
      "text/plain": "       encounter_id  patient_nbr  gender  age_10yrStart  admission_type_id  \\\n30076     271431450     40899204       0             80                  3   \n41958     210588906     61825113       1             80                  1   \n12225      15131916     14046840       1             30                  1   \n64133     252303486    104484006       0             50                  3   \n21872     108415206     24766380       0             40                  1   \n\n       discharge_disposition_id  admission_source_id  time_in_hospital  \\\n30076                        22                    1                 4   \n41958                         3                    7                 4   \n12225                         1                    7                 5   \n64133                         1                    7                 1   \n21872                         1                    7                 1   \n\n       num_lab_procedures  num_procedures  ...  med_level_direction  \\\n30076                  31               0  ...                    0   \n41958                  57               3  ...                    0   \n12225                  61               0  ...                    0   \n64133                  36               0  ...                    0   \n21872                   2               1  ...                    0   \n\n       race__AfricanAmerican  race__Asian  race__Caucasian race__Hispanic  \\\n30076                      0            0                1              0   \n41958                      0            0                1              0   \n12225                      1            0                0              0   \n64133                      1            0                0              0   \n21872                      1            0                0              0   \n\n      race__Other race__Unknown  readmitted__<30  readmitted__>30  readmitted  \n30076           0             0                0                0           0  \n41958           0             0                0                0           0  \n12225           0             0                0                0           0  \n64133           0             0                0                0           0  \n21872           0             0                0                0           0  \n\n[5 rows x 56 columns]",
      "text/html": "<div>\n<style scoped>\n    .dataframe tbody tr th:only-of-type {\n        vertical-align: middle;\n    }\n\n    .dataframe tbody tr th {\n        vertical-align: top;\n    }\n\n    .dataframe thead th {\n        text-align: right;\n    }\n</style>\n<table border=\"1\" class=\"dataframe\">\n  <thead>\n    <tr style=\"text-align: right;\">\n      <th></th>\n      <th>encounter_id</th>\n      <th>patient_nbr</th>\n      <th>gender</th>\n      <th>age_10yrStart</th>\n      <th>admission_type_id</th>\n      <th>discharge_disposition_id</th>\n      <th>admission_source_id</th>\n      <th>time_in_hospital</th>\n      <th>num_lab_procedures</th>\n      <th>num_procedures</th>\n      <th>...</th>\n      <th>med_level_direction</th>\n      <th>race__AfricanAmerican</th>\n      <th>race__Asian</th>\n      <th>race__Caucasian</th>\n      <th>race__Hispanic</th>\n      <th>race__Other</th>\n      <th>race__Unknown</th>\n      <th>readmitted__&lt;30</th>\n      <th>readmitted__&gt;30</th>\n      <th>readmitted</th>\n    </tr>\n  </thead>\n  <tbody>\n    <tr>\n      <th>30076</th>\n      <td>271431450</td>\n      <td>40899204</td>\n      <td>0</td>\n      <td>80</td>\n      <td>3</td>\n      <td>22</td>\n      <td>1</td>\n      <td>4</td>\n      <td>31</td>\n      <td>0</td>\n      <td>...</td>\n      <td>0</td>\n      <td>0</td>\n      <td>0</td>\n      <td>1</td>\n      <td>0</td>\n      <td>0</td>\n      <td>0</td>\n      <td>0</td>\n      <td>0</td>\n      <td>0</td>\n    </tr>\n    <tr>\n      <th>41958</th>\n      <td>210588906</td>\n      <td>61825113</td>\n      <td>1</td>\n      <td>80</td>\n      <td>1</td>\n      <td>3</td>\n      <td>7</td>\n      <td>4</td>\n      <td>57</td>\n      <td>3</td>\n      <td>...</td>\n      <td>0</td>\n      <td>0</td>\n      <td>0</td>\n      <td>1</td>\n      <td>0</td>\n      <td>0</td>\n      <td>0</td>\n      <td>0</td>\n      <td>0</td>\n      <td>0</td>\n    </tr>\n    <tr>\n      <th>12225</th>\n      <td>15131916</td>\n      <td>14046840</td>\n      <td>1</td>\n      <td>30</td>\n      <td>1</td>\n      <td>1</td>\n      <td>7</td>\n      <td>5</td>\n      <td>61</td>\n      <td>0</td>\n      <td>...</td>\n      <td>0</td>\n      <td>1</td>\n      <td>0</td>\n      <td>0</td>\n      <td>0</td>\n      <td>0</td>\n      <td>0</td>\n      <td>0</td>\n      <td>0</td>\n      <td>0</td>\n    </tr>\n    <tr>\n      <th>64133</th>\n      <td>252303486</td>\n      <td>104484006</td>\n      <td>0</td>\n      <td>50</td>\n      <td>3</td>\n      <td>1</td>\n      <td>7</td>\n      <td>1</td>\n      <td>36</td>\n      <td>0</td>\n      <td>...</td>\n      <td>0</td>\n      <td>1</td>\n      <td>0</td>\n      <td>0</td>\n      <td>0</td>\n      <td>0</td>\n      <td>0</td>\n      <td>0</td>\n      <td>0</td>\n      <td>0</td>\n    </tr>\n    <tr>\n      <th>21872</th>\n      <td>108415206</td>\n      <td>24766380</td>\n      <td>0</td>\n      <td>40</td>\n      <td>1</td>\n      <td>1</td>\n      <td>7</td>\n      <td>1</td>\n      <td>2</td>\n      <td>1</td>\n      <td>...</td>\n      <td>0</td>\n      <td>1</td>\n      <td>0</td>\n      <td>0</td>\n      <td>0</td>\n      <td>0</td>\n      <td>0</td>\n      <td>0</td>\n      <td>0</td>\n      <td>0</td>\n    </tr>\n  </tbody>\n</table>\n<p>5 rows × 56 columns</p>\n</div>"
     },
     "execution_count": 524,
     "metadata": {},
     "output_type": "execute_result"
    }
   ]
  },
  {
   "cell_type": "code",
   "execution_count": 525,
   "outputs": [
    {
     "name": "stdout",
     "output_type": "stream",
     "text": [
      "Count of Variables: 56\n",
      "Count of Variables without nulls: 54\n",
      "Count of Variables with null : 2\n"
     ]
    },
    {
     "data": {
      "text/plain": "   Variable Observations Nulls  Null_Per Num_Unique    Type\n16   diag_3         9836   184     1.871        498  object\n15   diag_2         9836    28     0.285        456  object",
      "text/html": "<div>\n<style scoped>\n    .dataframe tbody tr th:only-of-type {\n        vertical-align: middle;\n    }\n\n    .dataframe tbody tr th {\n        vertical-align: top;\n    }\n\n    .dataframe thead th {\n        text-align: right;\n    }\n</style>\n<table border=\"1\" class=\"dataframe\">\n  <thead>\n    <tr style=\"text-align: right;\">\n      <th></th>\n      <th>Variable</th>\n      <th>Observations</th>\n      <th>Nulls</th>\n      <th>Null_Per</th>\n      <th>Num_Unique</th>\n      <th>Type</th>\n    </tr>\n  </thead>\n  <tbody>\n    <tr>\n      <th>16</th>\n      <td>diag_3</td>\n      <td>9836</td>\n      <td>184</td>\n      <td>1.871</td>\n      <td>498</td>\n      <td>object</td>\n    </tr>\n    <tr>\n      <th>15</th>\n      <td>diag_2</td>\n      <td>9836</td>\n      <td>28</td>\n      <td>0.285</td>\n      <td>456</td>\n      <td>object</td>\n    </tr>\n  </tbody>\n</table>\n</div>"
     },
     "execution_count": 525,
     "metadata": {},
     "output_type": "execute_result"
    }
   ],
   "source": [
    "# Re-Run Null Summary\n",
    "nullSummary = nullAnalysis(cleanDF)\n",
    "nullSummary"
   ],
   "metadata": {
    "collapsed": false,
    "pycharm": {
     "name": "#%%\n"
    }
   }
  },
  {
   "cell_type": "code",
   "execution_count": 526,
   "outputs": [
    {
     "data": {
      "text/plain": "       encounter_id  patient_nbr  gender  age_10yrStart  admission_type_id  \\\n29345     276186582     40012560       0             50                  1   \n52107     250656042     85699872       0             80                  1   \n10187     108608682      7828911       0             40                  1   \n28005     292127028     38090619       0             90                  1   \n59187     116824914     95256261       0             50                  3   \n...             ...          ...     ...            ...                ...   \n28822     155960958     39134358       0             70                  1   \n31876     121916886     42075243       1             40                  3   \n58904     168080892     94763322       1             70                  3   \n53671     307263398     87574545       1             60                  1   \n20720      97222422     24260184       1             70                  5   \n\n       discharge_disposition_id  admission_source_id  time_in_hospital  \\\n29345                         1                    7                 2   \n52107                         3                    7                 8   \n10187                         1                    6                 2   \n28005                         3                    7                 5   \n59187                         1                    1                 2   \n...                         ...                  ...               ...   \n28822                         5                    7                 2   \n31876                         1                    1                12   \n58904                         1                    1                 1   \n53671                         1                    7                 4   \n20720                         6                   17                 7   \n\n       num_lab_procedures  num_procedures  ...  med_level_direction  \\\n29345                  41               4  ...                   -1   \n52107                  53               2  ...                    0   \n10187                  53               0  ...                    0   \n28005                  48               0  ...                    0   \n59187                  18               0  ...                    1   \n...                   ...             ...  ...                  ...   \n28822                  35               0  ...                    0   \n31876                  28               1  ...                    0   \n58904                  37               4  ...                    0   \n53671                   1               2  ...                   -1   \n20720                  18               0  ...                    0   \n\n       race__AfricanAmerican  race__Asian  race__Caucasian  race__Hispanic  \\\n29345                      0            0                1               0   \n52107                      0            0                1               0   \n10187                      1            0                0               0   \n28005                      0            0                0               0   \n59187                      1            0                0               0   \n...                      ...          ...              ...             ...   \n28822                      1            0                0               0   \n31876                      0            0                1               0   \n58904                      0            0                1               0   \n53671                      1            0                0               0   \n20720                      0            0                1               0   \n\n       race__Other  race__Unknown  readmitted__<30  readmitted__>30  \\\n29345            0              0                0                1   \n52107            0              0                0                1   \n10187            0              0                0                0   \n28005            0              1                1                0   \n59187            0              0                0                1   \n...            ...            ...              ...              ...   \n28822            0              0                0                0   \n31876            0              0                0                0   \n58904            0              0                1                0   \n53671            0              0                0                1   \n20720            0              0                0                0   \n\n       readmitted  \n29345           1  \n52107           1  \n10187           0  \n28005           1  \n59187           1  \n...           ...  \n28822           0  \n31876           0  \n58904           1  \n53671           1  \n20720           0  \n\n[9836 rows x 56 columns]",
      "text/html": "<div>\n<style scoped>\n    .dataframe tbody tr th:only-of-type {\n        vertical-align: middle;\n    }\n\n    .dataframe tbody tr th {\n        vertical-align: top;\n    }\n\n    .dataframe thead th {\n        text-align: right;\n    }\n</style>\n<table border=\"1\" class=\"dataframe\">\n  <thead>\n    <tr style=\"text-align: right;\">\n      <th></th>\n      <th>encounter_id</th>\n      <th>patient_nbr</th>\n      <th>gender</th>\n      <th>age_10yrStart</th>\n      <th>admission_type_id</th>\n      <th>discharge_disposition_id</th>\n      <th>admission_source_id</th>\n      <th>time_in_hospital</th>\n      <th>num_lab_procedures</th>\n      <th>num_procedures</th>\n      <th>...</th>\n      <th>med_level_direction</th>\n      <th>race__AfricanAmerican</th>\n      <th>race__Asian</th>\n      <th>race__Caucasian</th>\n      <th>race__Hispanic</th>\n      <th>race__Other</th>\n      <th>race__Unknown</th>\n      <th>readmitted__&lt;30</th>\n      <th>readmitted__&gt;30</th>\n      <th>readmitted</th>\n    </tr>\n  </thead>\n  <tbody>\n    <tr>\n      <th>29345</th>\n      <td>276186582</td>\n      <td>40012560</td>\n      <td>0</td>\n      <td>50</td>\n      <td>1</td>\n      <td>1</td>\n      <td>7</td>\n      <td>2</td>\n      <td>41</td>\n      <td>4</td>\n      <td>...</td>\n      <td>-1</td>\n      <td>0</td>\n      <td>0</td>\n      <td>1</td>\n      <td>0</td>\n      <td>0</td>\n      <td>0</td>\n      <td>0</td>\n      <td>1</td>\n      <td>1</td>\n    </tr>\n    <tr>\n      <th>52107</th>\n      <td>250656042</td>\n      <td>85699872</td>\n      <td>0</td>\n      <td>80</td>\n      <td>1</td>\n      <td>3</td>\n      <td>7</td>\n      <td>8</td>\n      <td>53</td>\n      <td>2</td>\n      <td>...</td>\n      <td>0</td>\n      <td>0</td>\n      <td>0</td>\n      <td>1</td>\n      <td>0</td>\n      <td>0</td>\n      <td>0</td>\n      <td>0</td>\n      <td>1</td>\n      <td>1</td>\n    </tr>\n    <tr>\n      <th>10187</th>\n      <td>108608682</td>\n      <td>7828911</td>\n      <td>0</td>\n      <td>40</td>\n      <td>1</td>\n      <td>1</td>\n      <td>6</td>\n      <td>2</td>\n      <td>53</td>\n      <td>0</td>\n      <td>...</td>\n      <td>0</td>\n      <td>1</td>\n      <td>0</td>\n      <td>0</td>\n      <td>0</td>\n      <td>0</td>\n      <td>0</td>\n      <td>0</td>\n      <td>0</td>\n      <td>0</td>\n    </tr>\n    <tr>\n      <th>28005</th>\n      <td>292127028</td>\n      <td>38090619</td>\n      <td>0</td>\n      <td>90</td>\n      <td>1</td>\n      <td>3</td>\n      <td>7</td>\n      <td>5</td>\n      <td>48</td>\n      <td>0</td>\n      <td>...</td>\n      <td>0</td>\n      <td>0</td>\n      <td>0</td>\n      <td>0</td>\n      <td>0</td>\n      <td>0</td>\n      <td>1</td>\n      <td>1</td>\n      <td>0</td>\n      <td>1</td>\n    </tr>\n    <tr>\n      <th>59187</th>\n      <td>116824914</td>\n      <td>95256261</td>\n      <td>0</td>\n      <td>50</td>\n      <td>3</td>\n      <td>1</td>\n      <td>1</td>\n      <td>2</td>\n      <td>18</td>\n      <td>0</td>\n      <td>...</td>\n      <td>1</td>\n      <td>1</td>\n      <td>0</td>\n      <td>0</td>\n      <td>0</td>\n      <td>0</td>\n      <td>0</td>\n      <td>0</td>\n      <td>1</td>\n      <td>1</td>\n    </tr>\n    <tr>\n      <th>...</th>\n      <td>...</td>\n      <td>...</td>\n      <td>...</td>\n      <td>...</td>\n      <td>...</td>\n      <td>...</td>\n      <td>...</td>\n      <td>...</td>\n      <td>...</td>\n      <td>...</td>\n      <td>...</td>\n      <td>...</td>\n      <td>...</td>\n      <td>...</td>\n      <td>...</td>\n      <td>...</td>\n      <td>...</td>\n      <td>...</td>\n      <td>...</td>\n      <td>...</td>\n      <td>...</td>\n    </tr>\n    <tr>\n      <th>28822</th>\n      <td>155960958</td>\n      <td>39134358</td>\n      <td>0</td>\n      <td>70</td>\n      <td>1</td>\n      <td>5</td>\n      <td>7</td>\n      <td>2</td>\n      <td>35</td>\n      <td>0</td>\n      <td>...</td>\n      <td>0</td>\n      <td>1</td>\n      <td>0</td>\n      <td>0</td>\n      <td>0</td>\n      <td>0</td>\n      <td>0</td>\n      <td>0</td>\n      <td>0</td>\n      <td>0</td>\n    </tr>\n    <tr>\n      <th>31876</th>\n      <td>121916886</td>\n      <td>42075243</td>\n      <td>1</td>\n      <td>40</td>\n      <td>3</td>\n      <td>1</td>\n      <td>1</td>\n      <td>12</td>\n      <td>28</td>\n      <td>1</td>\n      <td>...</td>\n      <td>0</td>\n      <td>0</td>\n      <td>0</td>\n      <td>1</td>\n      <td>0</td>\n      <td>0</td>\n      <td>0</td>\n      <td>0</td>\n      <td>0</td>\n      <td>0</td>\n    </tr>\n    <tr>\n      <th>58904</th>\n      <td>168080892</td>\n      <td>94763322</td>\n      <td>1</td>\n      <td>70</td>\n      <td>3</td>\n      <td>1</td>\n      <td>1</td>\n      <td>1</td>\n      <td>37</td>\n      <td>4</td>\n      <td>...</td>\n      <td>0</td>\n      <td>0</td>\n      <td>0</td>\n      <td>1</td>\n      <td>0</td>\n      <td>0</td>\n      <td>0</td>\n      <td>1</td>\n      <td>0</td>\n      <td>1</td>\n    </tr>\n    <tr>\n      <th>53671</th>\n      <td>307263398</td>\n      <td>87574545</td>\n      <td>1</td>\n      <td>60</td>\n      <td>1</td>\n      <td>1</td>\n      <td>7</td>\n      <td>4</td>\n      <td>1</td>\n      <td>2</td>\n      <td>...</td>\n      <td>-1</td>\n      <td>1</td>\n      <td>0</td>\n      <td>0</td>\n      <td>0</td>\n      <td>0</td>\n      <td>0</td>\n      <td>0</td>\n      <td>1</td>\n      <td>1</td>\n    </tr>\n    <tr>\n      <th>20720</th>\n      <td>97222422</td>\n      <td>24260184</td>\n      <td>1</td>\n      <td>70</td>\n      <td>5</td>\n      <td>6</td>\n      <td>17</td>\n      <td>7</td>\n      <td>18</td>\n      <td>0</td>\n      <td>...</td>\n      <td>0</td>\n      <td>0</td>\n      <td>0</td>\n      <td>1</td>\n      <td>0</td>\n      <td>0</td>\n      <td>0</td>\n      <td>0</td>\n      <td>0</td>\n      <td>0</td>\n    </tr>\n  </tbody>\n</table>\n<p>9836 rows × 56 columns</p>\n</div>"
     },
     "execution_count": 526,
     "metadata": {},
     "output_type": "execute_result"
    }
   ],
   "source": [
    "# Diag Encoders\n",
    "target_encoder(cleanDF,'diag_1', 'readmitted')\n",
    "target_encoder(cleanDF,'diag_2', 'readmitted')\n",
    "target_encoder(cleanDF,'diag_3', 'readmitted')\n",
    "cleanDF"
   ],
   "metadata": {
    "collapsed": false,
    "pycharm": {
     "name": "#%%\n"
    }
   }
  },
  {
   "cell_type": "markdown",
   "source": [
    "### Join Datasets -- Replace Look-Up Values With Literal Values"
   ],
   "metadata": {
    "collapsed": false
   }
  },
  {
   "cell_type": "code",
   "execution_count": 527,
   "outputs": [
    {
     "data": {
      "text/plain": "   encounter_id  patient_nbr  gender  age_10yrStart  admission_type_id  \\\n0     276186582     40012560       0             50                  1   \n1     250656042     85699872       0             80                  1   \n\n  admission_type_value  discharge_disposition_id  admission_source_id  \\\n0            Emergency                         1                    7   \n1            Emergency                         3                    7   \n\n   time_in_hospital  num_lab_procedures  ...  med_level_direction  \\\n0                 2                  41  ...                   -1   \n1                 8                  53  ...                    0   \n\n   race__AfricanAmerican  race__Asian  race__Caucasian  race__Hispanic  \\\n0                      0            0                1               0   \n1                      0            0                1               0   \n\n   race__Other  race__Unknown  readmitted__<30  readmitted__>30  readmitted  \n0            0              0                0                1           1  \n1            0              0                0                1           1  \n\n[2 rows x 57 columns]",
      "text/html": "<div>\n<style scoped>\n    .dataframe tbody tr th:only-of-type {\n        vertical-align: middle;\n    }\n\n    .dataframe tbody tr th {\n        vertical-align: top;\n    }\n\n    .dataframe thead th {\n        text-align: right;\n    }\n</style>\n<table border=\"1\" class=\"dataframe\">\n  <thead>\n    <tr style=\"text-align: right;\">\n      <th></th>\n      <th>encounter_id</th>\n      <th>patient_nbr</th>\n      <th>gender</th>\n      <th>age_10yrStart</th>\n      <th>admission_type_id</th>\n      <th>admission_type_value</th>\n      <th>discharge_disposition_id</th>\n      <th>admission_source_id</th>\n      <th>time_in_hospital</th>\n      <th>num_lab_procedures</th>\n      <th>...</th>\n      <th>med_level_direction</th>\n      <th>race__AfricanAmerican</th>\n      <th>race__Asian</th>\n      <th>race__Caucasian</th>\n      <th>race__Hispanic</th>\n      <th>race__Other</th>\n      <th>race__Unknown</th>\n      <th>readmitted__&lt;30</th>\n      <th>readmitted__&gt;30</th>\n      <th>readmitted</th>\n    </tr>\n  </thead>\n  <tbody>\n    <tr>\n      <th>0</th>\n      <td>276186582</td>\n      <td>40012560</td>\n      <td>0</td>\n      <td>50</td>\n      <td>1</td>\n      <td>Emergency</td>\n      <td>1</td>\n      <td>7</td>\n      <td>2</td>\n      <td>41</td>\n      <td>...</td>\n      <td>-1</td>\n      <td>0</td>\n      <td>0</td>\n      <td>1</td>\n      <td>0</td>\n      <td>0</td>\n      <td>0</td>\n      <td>0</td>\n      <td>1</td>\n      <td>1</td>\n    </tr>\n    <tr>\n      <th>1</th>\n      <td>250656042</td>\n      <td>85699872</td>\n      <td>0</td>\n      <td>80</td>\n      <td>1</td>\n      <td>Emergency</td>\n      <td>3</td>\n      <td>7</td>\n      <td>8</td>\n      <td>53</td>\n      <td>...</td>\n      <td>0</td>\n      <td>0</td>\n      <td>0</td>\n      <td>1</td>\n      <td>0</td>\n      <td>0</td>\n      <td>0</td>\n      <td>0</td>\n      <td>1</td>\n      <td>1</td>\n    </tr>\n  </tbody>\n</table>\n<p>2 rows × 57 columns</p>\n</div>"
     },
     "execution_count": 527,
     "metadata": {},
     "output_type": "execute_result"
    }
   ],
   "source": [
    "# Add Admission Type Values (Note: Did not drop ID)\n",
    "\n",
    "# Add Column\n",
    "cleanDF.insert(5,\"admission_type_value\", 0)\n",
    "\n",
    "# Left Join\n",
    "cleanDF = pd.merge(cleanDF,admissionTypeLookUp,on='admission_type_id')\n",
    "\n",
    "# Replace Values\n",
    "cleanDF['admission_type_value'] = cleanDF['description']\n",
    "cleanDF = cleanDF.drop(columns=['description'])\n",
    "cleanDF.head(2)"
   ],
   "metadata": {
    "collapsed": false,
    "pycharm": {
     "name": "#%%\n"
    }
   }
  },
  {
   "cell_type": "markdown",
   "source": [
    "# Run Models"
   ],
   "metadata": {
    "collapsed": false
   }
  },
  {
   "cell_type": "code",
   "execution_count": 528,
   "outputs": [],
   "source": [
    "# create copy of mainData\n",
    "tempModelingDF = cleanDF"
   ],
   "metadata": {
    "collapsed": false,
    "pycharm": {
     "name": "#%%\n"
    }
   }
  },
  {
   "cell_type": "code",
   "execution_count": 529,
   "outputs": [],
   "source": [
    "# Create DF for Capturing Model Results\n",
    "statRow = []\n",
    "summaryStatsDF = pd.DataFrame(columns = ['Model','Accuracy','Precision','Recall','F1'])"
   ],
   "metadata": {
    "collapsed": false,
    "pycharm": {
     "name": "#%%\n"
    }
   }
  },
  {
   "cell_type": "markdown",
   "source": [
    "## Prep -- Split Data\n",
    "TODO: This is the wrong place - should be earlier in the code - adding here for now to just get the models working\n",
    "and because I was confused by where to split based on needing to clean the response variable (ie should I split twice)\n",
    "\n",
    "TODO: Don't yet know how to deal with multiple response variables.  First pass will keep it simple and only predict\n",
    "if readmitted is yes/no.  Will need to add timeline response variables later"
   ],
   "metadata": {
    "collapsed": false
   }
  },
  {
   "cell_type": "code",
   "execution_count": 530,
   "outputs": [],
   "source": [
    "# Drop columns that are not needed\n",
    "varsToDrop = ['admission_type_id','admission_source_id','admission_type_value','discharge_disposition_id',] # These are variables w/o encoding or appropriate feature engineering\n",
    "\n",
    "tempModelingDF = tempModelingDF.drop(columns=varsToDrop)\n",
    "\n",
    "# Parking Lot -- Features removed from drop list\n",
    "# 'A1Cresult','max_glu_serum', 'time_in_hospital','num_lab_procedures','num_procedures','num_medications',\n",
    "# 'number_outpatient','number_emergency','number_inpatient','number_diagnoses','diabetesMed',\n",
    "# 'change', 'gender', 'age_10yrStart','diag1','diag2',diag3'\n",
    "\n",
    "# Identifiers to Drop\n",
    "tempModelingDF = tempModelingDF.drop(columns=['encounter_id','patient_nbr',])\n",
    "\n",
    "# TEMP - Additional Response Vars to Drop\n",
    "tempModelingDF = tempModelingDF.drop(columns=['readmitted__<30','readmitted__>30'])"
   ],
   "metadata": {
    "collapsed": false,
    "pycharm": {
     "name": "#%%\n"
    }
   }
  },
  {
   "cell_type": "code",
   "execution_count": 531,
   "outputs": [],
   "source": [
    "# Set or Reset Test/Train Split\n",
    "# Params\n",
    "df=tempModelingDF #TODO - Change From temp DF\n",
    "ResponseVar = 'readmitted' #TODO - Change from single response variable\n",
    "PredictorVar = df.columns.values.tolist()\n",
    "PredictorVar.remove(ResponseVar)\n",
    "\n",
    "# Function Call To prep train/test\n",
    "x_train, x_test, y_train, y_test  = testTrainSplit(df, PredictorVar, ResponseVar)"
   ],
   "metadata": {
    "collapsed": false,
    "pycharm": {
     "name": "#%%\n"
    }
   }
  },
  {
   "cell_type": "code",
   "execution_count": 532,
   "outputs": [
    {
     "name": "stdout",
     "output_type": "stream",
     "text": [
      "Complete List of Predicator Vars:\n"
     ]
    },
    {
     "data": {
      "text/plain": "['gender',\n 'age_10yrStart',\n 'time_in_hospital',\n 'num_lab_procedures',\n 'num_procedures',\n 'num_medications',\n 'number_outpatient',\n 'number_emergency',\n 'number_inpatient',\n 'diag_1',\n 'diag_2',\n 'diag_3',\n 'number_diagnoses',\n 'max_glu_serum',\n 'A1Cresult',\n 'metformin',\n 'repaglinide',\n 'nateglinide',\n 'chlorpropamide',\n 'glimepiride',\n 'acetohexamide',\n 'glipizide',\n 'glyburide',\n 'tolbutamide',\n 'pioglitazone',\n 'rosiglitazone',\n 'acarbose',\n 'miglitol',\n 'troglitazone',\n 'tolazamide',\n 'examide',\n 'citoglipton',\n 'insulin',\n 'glyburide.metformin',\n 'glipizide.metformin',\n 'glimepiride.pioglitazone',\n 'metformin.rosiglitazone',\n 'metformin.pioglitazone',\n 'change',\n 'diabetesMed',\n 'num_of_meds',\n 'med_level_direction',\n 'race__AfricanAmerican',\n 'race__Asian',\n 'race__Caucasian',\n 'race__Hispanic',\n 'race__Other',\n 'race__Unknown']"
     },
     "execution_count": 532,
     "metadata": {},
     "output_type": "execute_result"
    }
   ],
   "source": [
    "print(\"Complete List of Predicator Vars:\")\n",
    "PredictorVar"
   ],
   "metadata": {
    "collapsed": false,
    "pycharm": {
     "name": "#%%\n"
    }
   }
  },
  {
   "cell_type": "code",
   "execution_count": 551,
   "outputs": [
    {
     "name": "stdout",
     "output_type": "stream",
     "text": [
      "quick evaluation report with vanilla test/train split:\n"
     ]
    },
    {
     "data": {
      "text/plain": "                    Model  Accuracy  Precision  Recall      F1\n0  RandomForestClassifier    0.6453     0.6366  0.2687  0.3779\n1           MLPClassifier    0.5915     0.4890  0.4208  0.4523\n2    KNeighborsClassifier    0.5925     0.4812  0.2104  0.2928",
      "text/html": "<div>\n<style scoped>\n    .dataframe tbody tr th:only-of-type {\n        vertical-align: middle;\n    }\n\n    .dataframe tbody tr th {\n        vertical-align: top;\n    }\n\n    .dataframe thead th {\n        text-align: right;\n    }\n</style>\n<table border=\"1\" class=\"dataframe\">\n  <thead>\n    <tr style=\"text-align: right;\">\n      <th></th>\n      <th>Model</th>\n      <th>Accuracy</th>\n      <th>Precision</th>\n      <th>Recall</th>\n      <th>F1</th>\n    </tr>\n  </thead>\n  <tbody>\n    <tr>\n      <th>0</th>\n      <td>RandomForestClassifier</td>\n      <td>0.6453</td>\n      <td>0.6366</td>\n      <td>0.2687</td>\n      <td>0.3779</td>\n    </tr>\n    <tr>\n      <th>1</th>\n      <td>MLPClassifier</td>\n      <td>0.5915</td>\n      <td>0.4890</td>\n      <td>0.4208</td>\n      <td>0.4523</td>\n    </tr>\n    <tr>\n      <th>2</th>\n      <td>KNeighborsClassifier</td>\n      <td>0.5925</td>\n      <td>0.4812</td>\n      <td>0.2104</td>\n      <td>0.2928</td>\n    </tr>\n  </tbody>\n</table>\n</div>"
     },
     "execution_count": 551,
     "metadata": {},
     "output_type": "execute_result"
    }
   ],
   "source": [
    "# Initial Quick Eval\n",
    "\n",
    "# Create DF for Capturing Model Results\n",
    "statRow = []\n",
    "qe_summaryDF = pd.DataFrame(columns = ['Model','Accuracy','Precision','Recall','F1'])\n",
    "\n",
    "# Set models\n",
    "rf_qe = RandomForestClassifier(n_estimators=500, max_leaf_nodes=32,n_jobs=-1)\n",
    "nn_qe = MLPClassifier(hidden_layer_sizes=(256,128,64,32),activation=\"relu\",random_state=1)\n",
    "knn_qe= KNeighborsClassifier(n_neighbors=2)\n",
    "\n",
    "# Models List\n",
    "models = [rf_qe,nn_qe,knn_qe]\n",
    "\n",
    "## Set Params\n",
    "qe_x_train = x_train\n",
    "qe_x_test = x_test\n",
    "qe_y_train = y_train\n",
    "qe_y_test = y_test\n",
    "\n",
    "## Call Function\n",
    "qe_summaryDF = quickModelComparison(models,qe_x_train, qe_x_test, qe_y_train, qe_y_test,qe_summaryDF )\n",
    "print(\"quick evaluation report with vanilla test/train split:\")\n",
    "qe_summaryDF"
   ],
   "metadata": {
    "collapsed": false,
    "pycharm": {
     "name": "#%%\n"
    }
   }
  },
  {
   "cell_type": "markdown",
   "source": [
    "## Prep -- Run PCA on Cont. Numeric Features"
   ],
   "metadata": {
    "collapsed": false
   }
  },
  {
   "cell_type": "code",
   "execution_count": null,
   "outputs": [],
   "source": [
    "# Need to reset indexes and drop old index column to work w/ PCA\n",
    "x_train_pca = x_train.reset_index().drop(columns=['index'])\n",
    "y_train_pca = y_train.reset_index().drop(columns=['index'])\n",
    "x_test_pca = x_test.reset_index().drop(columns=['index'])\n",
    "y_test_pca = y_test.reset_index().drop(columns=['index'])"
   ],
   "metadata": {
    "collapsed": false,
    "pycharm": {
     "name": "#%%\n"
    }
   }
  },
  {
   "cell_type": "code",
   "execution_count": null,
   "outputs": [],
   "source": [
    "# PCA Pre-Run on Complete Dataframe to Identify right Hyperparams\n",
    "df = tempModelingDF\n",
    "PCA_relevant_features = ['age_10yrStart','time_in_hospital','num_lab_procedures',\n",
    "                    'num_medications','number_outpatient','number_emergency','number_inpatient',\n",
    "                    'number_diagnoses','num_procedures','num_of_meds']\n",
    "# parking lot: (empty)\n",
    "\n",
    "PCA_ResponseVar = 'readmitted'\n",
    "\n",
    "PCA_PreProcess_Elbow(df,PCA_relevant_features,PCA_ResponseVar)\n",
    "plt.show()"
   ],
   "metadata": {
    "collapsed": false,
    "pycharm": {
     "name": "#%%\n"
    }
   }
  },
  {
   "cell_type": "code",
   "execution_count": null,
   "outputs": [],
   "source": [
    "# Call PCA Function for Test/Train Sets.  Also returns new Predictor Var list for use in later models\n",
    "\n",
    "features = PCA_relevant_features\n",
    "PCs = 4\n",
    "\n",
    "x_train_pca, PredictorVar = PCA_Actual(x_train_pca,features,PCs) # set, features for PCA, number of P.Cs\n",
    "x_test_pca, PredictorVar = PCA_Actual(x_test_pca,features,PCs) # set, features for PCA, number of P.Cs"
   ],
   "metadata": {
    "collapsed": false,
    "pycharm": {
     "name": "#%%\n"
    }
   }
  },
  {
   "cell_type": "code",
   "execution_count": 552,
   "outputs": [
    {
     "name": "stdout",
     "output_type": "stream",
     "text": [
      "quick evaluation report with test/train split with PCA:\n"
     ]
    },
    {
     "data": {
      "text/plain": "                    Model  Accuracy  Precision  Recall      F1\n0  RandomForestClassifier    0.6217     0.6288  0.1736  0.2721\n1           MLPClassifier    0.5731     0.4736  0.4332  0.4525\n2    KNeighborsClassifier    0.5905     0.4936  0.2147  0.2993",
      "text/html": "<div>\n<style scoped>\n    .dataframe tbody tr th:only-of-type {\n        vertical-align: middle;\n    }\n\n    .dataframe tbody tr th {\n        vertical-align: top;\n    }\n\n    .dataframe thead th {\n        text-align: right;\n    }\n</style>\n<table border=\"1\" class=\"dataframe\">\n  <thead>\n    <tr style=\"text-align: right;\">\n      <th></th>\n      <th>Model</th>\n      <th>Accuracy</th>\n      <th>Precision</th>\n      <th>Recall</th>\n      <th>F1</th>\n    </tr>\n  </thead>\n  <tbody>\n    <tr>\n      <th>0</th>\n      <td>RandomForestClassifier</td>\n      <td>0.6217</td>\n      <td>0.6288</td>\n      <td>0.1736</td>\n      <td>0.2721</td>\n    </tr>\n    <tr>\n      <th>1</th>\n      <td>MLPClassifier</td>\n      <td>0.5731</td>\n      <td>0.4736</td>\n      <td>0.4332</td>\n      <td>0.4525</td>\n    </tr>\n    <tr>\n      <th>2</th>\n      <td>KNeighborsClassifier</td>\n      <td>0.5905</td>\n      <td>0.4936</td>\n      <td>0.2147</td>\n      <td>0.2993</td>\n    </tr>\n  </tbody>\n</table>\n</div>"
     },
     "execution_count": 552,
     "metadata": {},
     "output_type": "execute_result"
    }
   ],
   "source": [
    "# Initial Quick Eval\n",
    "\n",
    "# Create DF for Capturing Model Results\n",
    "statRow = []\n",
    "qe_summaryDF_wPCA = pd.DataFrame(columns = ['Model','Accuracy','Precision','Recall','F1'])\n",
    "\n",
    "# Set models\n",
    "rf_qe = RandomForestClassifier(n_estimators=500, max_leaf_nodes=32,n_jobs=-1)\n",
    "nn_qe = MLPClassifier(hidden_layer_sizes=(256,128,64,32),activation=\"relu\",random_state=1)\n",
    "knn_qe= KNeighborsClassifier(n_neighbors=2)\n",
    "\n",
    "# Models List\n",
    "models = [rf_qe,nn_qe,knn_qe]\n",
    "\n",
    "## Set Params\n",
    "qe_x_train = x_train_pca\n",
    "qe_x_test = x_test_pca\n",
    "qe_y_train = y_train_pca\n",
    "qe_y_test = y_test_pca\n",
    "\n",
    "## Call Function\n",
    "qe_summaryDF_wPCA = quickModelComparison(models,qe_x_train, qe_x_test, qe_y_train, qe_y_test,qe_summaryDF_wPCA )\n",
    "print(\"quick evaluation report with test/train split with PCA:\")\n",
    "qe_summaryDF_wPCA"
   ],
   "metadata": {
    "collapsed": false,
    "pycharm": {
     "name": "#%%\n"
    }
   }
  },
  {
   "cell_type": "markdown",
   "source": [
    "## Random Forest"
   ],
   "metadata": {
    "collapsed": false
   }
  },
  {
   "cell_type": "code",
   "execution_count": null,
   "outputs": [],
   "source": [
    "print(\"starting RF\")\n",
    "# Random Forest\n",
    "## Set and Fit Model\n",
    "rndClf = RandomForestClassifier(n_estimators=500, max_leaf_nodes=32,n_jobs=-1)\n",
    "rndClf.fit(x_train_pca,y_train_pca)\n",
    "\n",
    "## Make Predictions\n",
    "y_pred_rf = rndClf.predict(x_test_pca)\n",
    "print(\"done RF\")"
   ],
   "metadata": {
    "collapsed": false,
    "pycharm": {
     "name": "#%%\n"
    }
   }
  },
  {
   "cell_type": "code",
   "execution_count": null,
   "outputs": [],
   "source": [
    "print(\"start plot\")\n",
    "# Random Forest -- Plot CM\n",
    "regObj = rndClf # update mode\n",
    "cm_y_test = y_test_pca\n",
    "cm_y_pred = y_pred_rf # Update yPred\n",
    "cm_x_test = x_test_pca\n",
    "\n",
    "cm, score = createConfMatrix(regObj,cm_y_test, cm_y_pred, cm_x_test)\n",
    "\n",
    "# plot result\n",
    "plt.figure(figsize=(9,9))\n",
    "fig= sns.heatmap(cm, annot=True, fmt=\".3f\", linewidths=.5, square = True, cmap = 'Reds');\n",
    "all_sample_title = \"Accuracy Score: \" + score.astype('str')\n",
    "plt.title(all_sample_title, size = 15);\n"
   ],
   "metadata": {
    "collapsed": false,
    "pycharm": {
     "name": "#%%\n"
    }
   }
  },
  {
   "cell_type": "code",
   "execution_count": null,
   "outputs": [],
   "source": [
    "# Random Forest -- Precision/Recall Scores\n",
    "\n",
    "## Set Params\n",
    "model_name = \"Random Forest\"\n",
    "scores_y_test = y_test_pca\n",
    "scores_y_pred = y_pred_rf # Update yPred\n",
    "\n",
    "## Call Function\n",
    "summaryDF = summaryStats(model_name,scores_y_test, scores_y_pred, summaryStatsDF)\n",
    "summaryDF"
   ],
   "metadata": {
    "collapsed": false,
    "pycharm": {
     "name": "#%%\n"
    }
   }
  },
  {
   "cell_type": "code",
   "execution_count": null,
   "outputs": [],
   "source": [
    "# ROC Curve/ AUC Score\n",
    "print(\"Start ROC Plot\")\n",
    "## Set Params\n",
    "model = rndClf\n",
    "roc_x_test = x_test_pca\n",
    "roc_y_test = y_test_pca # Update yPred\n",
    "\n",
    "## Call Function\n",
    "ROC_Curve_Plot(model,roc_x_test, roc_y_test)\n",
    "plt.show()"
   ],
   "metadata": {
    "collapsed": false,
    "pycharm": {
     "name": "#%%\n"
    }
   }
  },
  {
   "cell_type": "code",
   "execution_count": null,
   "outputs": [],
   "source": [
    "# Random Forest -- Feature Importance -- Plot Most Important Features\n",
    "print(\"Start Feature Importance\")\n",
    "feature_importances, fig = FeatureImportance(rndClf)\n",
    "fig.show()"
   ],
   "metadata": {
    "collapsed": false,
    "pycharm": {
     "name": "#%%\n"
    }
   }
  },
  {
   "cell_type": "markdown",
   "source": [
    "## Gradient Boosting"
   ],
   "metadata": {
    "collapsed": false
   }
  },
  {
   "cell_type": "markdown",
   "source": [
    "## Neural Network"
   ],
   "metadata": {
    "collapsed": false
   }
  },
  {
   "cell_type": "code",
   "execution_count": null,
   "outputs": [],
   "source": [
    "# Create Copies of x test/train since I will scale them for N.N\n",
    "x_train_pca_nn = x_train_pca\n",
    "x_test_pca_nn = x_test_pca\n",
    "print('done w/ setting test/train')"
   ],
   "metadata": {
    "collapsed": false,
    "pycharm": {
     "name": "#%%\n"
    }
   }
  },
  {
   "cell_type": "code",
   "execution_count": null,
   "outputs": [],
   "source": [
    "sc_X = StandardScaler()\n",
    "x_train_nn = sc_X.fit_transform(x_train_pca_nn)\n",
    "x_test_nn = sc_X.transform(x_test_pca_nn)\n",
    "print('done w/ scaling test/train')"
   ],
   "metadata": {
    "collapsed": false,
    "pycharm": {
     "name": "#%%\n"
    }
   }
  },
  {
   "cell_type": "code",
   "execution_count": null,
   "outputs": [],
   "source": [
    "print(\"starting N.N. Classifier\")\n",
    "nn = MLPClassifier(hidden_layer_sizes=(256,128,64,32),\n",
    "                   activation=\"relu\",random_state=1).fit(x_train_pca_nn, y_train_pca)\n",
    "y_pred_nn = nn.predict(x_test_nn)\n",
    "print(nn.score(x_test_nn, y_test))"
   ],
   "metadata": {
    "collapsed": false,
    "pycharm": {
     "name": "#%%\n"
    }
   }
  },
  {
   "cell_type": "code",
   "execution_count": null,
   "outputs": [],
   "source": [
    "#  N.N -- CM\n",
    "\n",
    "print(\"start plot\")\n",
    "# Random Forest -- Plot CM\n",
    "model = nn # update mode\n",
    "cm_y_test = y_test_pca\n",
    "cm_y_pred = y_pred_nn # Update yPred\n",
    "cm_x_test = x_test_pca_nn\n",
    "\n",
    "cm, score = createConfMatrix(model,cm_y_test, cm_y_pred, cm_x_test)\n",
    "\n",
    "# plot result\n",
    "plt.figure(figsize=(9,9))\n",
    "fig= sns.heatmap(cm, annot=True, fmt=\".3f\", linewidths=.5, square = True, cmap = 'Reds');\n",
    "all_sample_title = \"Accuracy Score: \" + score.astype('str')\n",
    "plt.title(all_sample_title, size = 15);"
   ],
   "metadata": {
    "collapsed": false,
    "pycharm": {
     "name": "#%%\n"
    }
   }
  },
  {
   "cell_type": "code",
   "execution_count": null,
   "outputs": [],
   "source": [
    "# N.N -- Precision/Recall Scores\n",
    "## Set Params\n",
    "model_name = \"Neural Network\"\n",
    "scores_y_test = y_test_pca\n",
    "scores_y_pred = y_pred_nn # Update yPred\n",
    "\n",
    "## Call Function\n",
    "summaryDF = summaryStats(model_name,scores_y_test, scores_y_pred, summaryStatsDF)\n",
    "summaryDF"
   ],
   "metadata": {
    "collapsed": false,
    "pycharm": {
     "name": "#%%\n"
    }
   }
  },
  {
   "cell_type": "code",
   "execution_count": null,
   "outputs": [],
   "source": [
    "# ROC Curve/ AUC Score\n",
    "print(\"N.N ROC Plot\")\n",
    "## Set Params\n",
    "model = nn\n",
    "roc_x_test = x_test_pca_nn\n",
    "roc_y_test = y_test_pca # Update yPred\n",
    "\n",
    "## Call Function\n",
    "ROC_Curve_Plot(model,roc_x_test, roc_y_test)\n",
    "plt.show()"
   ],
   "metadata": {
    "collapsed": false,
    "pycharm": {
     "name": "#%%\n"
    }
   }
  },
  {
   "cell_type": "code",
   "execution_count": null,
   "outputs": [],
   "source": [
    "print(\"N.N. done\")\n"
   ],
   "metadata": {
    "collapsed": false,
    "pycharm": {
     "name": "#%%\n"
    }
   }
  },
  {
   "cell_type": "markdown",
   "source": [
    "### KNN"
   ],
   "metadata": {
    "collapsed": false
   }
  },
  {
   "cell_type": "code",
   "execution_count": null,
   "outputs": [],
   "source": [
    "print(\"starting KNN\")\n",
    "# KNN -- Find Best K-Value\n",
    "row =[]\n",
    "knn_bestK = pd.DataFrame(columns = [\"k\",\"testScore\",\"MSE\",\"RMSE\"])\n",
    "\n",
    "for k in range(1,11):\n",
    "    knn = KNeighborsClassifier(n_neighbors=k) # Update Regression object\n",
    "    knn.fit(x_train_pca, y_train_pca) ## Fit Data\n",
    "    knn_best_yPred = knn.predict(x_test_pca)\n",
    "    MSE = round(mean_squared_error(y_test_pca,knn_best_yPred),4)\n",
    "    RMSE = round(np.sqrt(MSE))\n",
    "    TestScore = knn.score(x_test_pca, y_test_pca)\n",
    "    row = [k,TestScore,MSE,RMSE]\n",
    "    df_length = len(knn_bestK)\n",
    "    knn_bestK.loc[df_length] = row\n",
    "knn_bestK"
   ],
   "metadata": {
    "collapsed": false,
    "pycharm": {
     "name": "#%%\n"
    }
   }
  },
  {
   "cell_type": "code",
   "execution_count": null,
   "outputs": [],
   "source": [
    "sns.set_style(\"whitegrid\")\n",
    "fig, (ax1,ax2) = plt.subplots(ncols=2,sharex=True, sharey=False, figsize=(15,9))\n",
    "\n",
    "sns.lineplot(\n",
    "    data=knn_bestK, ax=ax1,\n",
    "    x=\"k\", y=\"testScore\",\n",
    "    dashes=False)\n",
    "\n",
    "sns.lineplot(\n",
    "    data=knn_bestK, ax=ax2,\n",
    "    x=\"k\", y=\"MSE\",\n",
    "    dashes=False)\n",
    "\n",
    "plt.show()"
   ],
   "metadata": {
    "collapsed": false,
    "pycharm": {
     "name": "#%%\n"
    }
   }
  },
  {
   "cell_type": "code",
   "execution_count": null,
   "outputs": [],
   "source": [
    "print(\"Starting KNN Prediction\")\n",
    "# KNN -- Create Regression Object. Fit Data, Make predictions\n",
    "knn = KNeighborsClassifier(n_neighbors=2) # Update Regression object\n",
    "knn.fit(x_train_pca, y_train_pca) ## Fit Data\n",
    "y_pred_knn = knn.predict(x_test_pca)\n",
    "print(\"Done w/ KNN Prediction\")"
   ],
   "metadata": {
    "collapsed": false,
    "pycharm": {
     "name": "#%%\n"
    }
   }
  },
  {
   "cell_type": "code",
   "execution_count": null,
   "outputs": [],
   "source": [
    "# KNN -- CM\n",
    "\n",
    "print(\"start plot\")\n",
    "# Random Forest -- Plot CM\n",
    "model = knn # update mode\n",
    "cm_y_test = y_test_pca\n",
    "cm_y_pred = y_pred_knn # Update yPred\n",
    "cm_x_test = x_test_pca\n",
    "\n",
    "cm, score = createConfMatrix(model,cm_y_test, cm_y_pred, cm_x_test)\n",
    "\n",
    "# plot result\n",
    "plt.figure(figsize=(9,9))\n",
    "fig= sns.heatmap(cm, annot=True, fmt=\".3f\", linewidths=.5, square = True, cmap = 'Reds');\n",
    "all_sample_title = \"Accuracy Score: \" + score.astype('str')\n",
    "plt.title(all_sample_title, size = 15);"
   ],
   "metadata": {
    "collapsed": false,
    "pycharm": {
     "name": "#%%\n"
    }
   }
  },
  {
   "cell_type": "code",
   "execution_count": null,
   "outputs": [],
   "source": [
    "# KNN -- Precision/Recall Scores\n",
    "## Set Params\n",
    "model_name = \"K Nearest Neighbors\"\n",
    "scores_y_test = y_test_pca\n",
    "scores_y_pred = y_pred_knn # Update yPred\n",
    "\n",
    "## Call Function\n",
    "summaryDF = summaryStats(model_name,scores_y_test, scores_y_pred, summaryStatsDF)\n",
    "summaryDF"
   ],
   "metadata": {
    "collapsed": false,
    "pycharm": {
     "name": "#%%\n"
    }
   }
  },
  {
   "cell_type": "markdown",
   "source": [
    "## K-Means Clustering"
   ],
   "metadata": {
    "collapsed": false
   }
  },
  {
   "cell_type": "code",
   "execution_count": null,
   "outputs": [],
   "source": [
    "# Make a copy of the DF\n",
    "k_means_df = tempModelingDF\n",
    "k_means_df = k_means_df.drop(columns=['readmitted'])\n"
   ],
   "metadata": {
    "collapsed": false,
    "pycharm": {
     "name": "#%%\n"
    }
   }
  },
  {
   "cell_type": "code",
   "execution_count": null,
   "outputs": [],
   "source": [
    "# Call Elbow Plot Function\n",
    "KMeansElbowPlot(k_means_df)\n",
    "plt.show()"
   ],
   "metadata": {
    "collapsed": false,
    "pycharm": {
     "name": "#%%\n"
    }
   }
  },
  {
   "cell_type": "code",
   "execution_count": null,
   "outputs": [],
   "source": [
    "# K-Means - set number of clusters based on elbow\n",
    "km = KMeans(n_clusters=4)\n",
    "km"
   ],
   "metadata": {
    "collapsed": false,
    "pycharm": {
     "name": "#%%\n"
    }
   }
  },
  {
   "cell_type": "code",
   "execution_count": null,
   "outputs": [],
   "source": [
    "# Scale Data using min max scaler\n",
    "\n",
    "scaler = MinMaxScaler()\n",
    "colNames = k_means_df.columns.values.tolist()\n",
    "\n",
    "for column in k_means_df[colNames]:\n",
    "    scaler.fit(k_means_df[[column]])\n",
    "    k_means_df[column] = scaler.transform(k_means_df[[column]])\n",
    "\n",
    "k_means_df.head()"
   ],
   "metadata": {
    "collapsed": false,
    "pycharm": {
     "name": "#%%\n"
    }
   }
  },
  {
   "cell_type": "code",
   "execution_count": null,
   "outputs": [],
   "source": [
    "# Re-Train Dataset using Scaled Data\n",
    "y_predicted = km.fit_predict(k_means_df[colNames])\n",
    "k_means_df['Cluster'] = y_predicted\n",
    "k_means_df['Cluster'].value_counts(dropna=False)"
   ],
   "metadata": {
    "collapsed": false,
    "pycharm": {
     "name": "#%%\n"
    }
   }
  },
  {
   "cell_type": "code",
   "execution_count": null,
   "outputs": [],
   "source": [
    "# Show Centroid Clusters\n",
    "clusters = km.cluster_centers_\n",
    "clusters"
   ],
   "metadata": {
    "collapsed": false,
    "pycharm": {
     "name": "#%%\n"
    }
   }
  },
  {
   "cell_type": "code",
   "execution_count": null,
   "outputs": [],
   "source": [
    "#Merge clusters (\"Temp\") back with the preserved original DF\n",
    "tempModelingDF = pd.merge(tempModelingDF, k_means_df[['Cluster']], left_index=True, right_index=True)\n",
    "tempModelingDF.head()"
   ],
   "metadata": {
    "collapsed": false,
    "pycharm": {
     "name": "#%%\n"
    }
   }
  },
  {
   "cell_type": "code",
   "execution_count": null,
   "outputs": [],
   "source": [
    "# TODO -- Need to refactor, useless right now.\n",
    "\n",
    "# Replot on scatterplot using scaled data -- Include Centroid Clusters\n",
    "# Set each cluster as a dataframe\n",
    "cluster0 = tempModelingDF[tempModelingDF['Cluster'] == 0]\n",
    "cluster1 = tempModelingDF[tempModelingDF['Cluster'] == 1]\n",
    "cluster2 = tempModelingDF[tempModelingDF['Cluster'] == 2]\n",
    "cluster3 = tempModelingDF[tempModelingDF['Cluster'] == 3]\n",
    "\n",
    "fig_dims = (15, 9)\n",
    "fig, ax = plt.subplots(figsize=fig_dims)\n",
    "\n",
    "plt.scatter(tempModelingDF['readmitted'],tempModelingDF['Cluster'], color='blue',alpha=0.2)\n",
    "#plt.scatter(cluster1['readmitted'],cluster1['Cluster'], color='green',alpha=0.2)\n",
    "#plt.scatter(cluster2['readmitted'],cluster2['Cluster'], color='yellow',alpha=0.2)\n",
    "#plt.scatter(cluster3['readmitted'],cluster2['Cluster'], color='orange',alpha=0.2)\n",
    "#plt.scatter(km.cluster_centers_[:,0],km.cluster_centers_[:,1],color='red',marker='*', label='centroid')\n",
    "\n",
    "plt.xlabel('PhoneCoTenure')\n",
    "plt.ylabel('AvgCorePurchases')\n",
    "plt.legend()"
   ],
   "metadata": {
    "collapsed": false,
    "pycharm": {
     "name": "#%%\n"
    }
   }
  },
  {
   "cell_type": "markdown",
   "source": [
    "#### Summary -- Describe Clusters\n",
    "\n",
    "* Some ideas: https://www.bigendiandata.com/2017-04-18-Jupyter_Customer360/"
   ],
   "metadata": {
    "collapsed": false
   }
  },
  {
   "cell_type": "markdown",
   "source": [
    "# Experimentation/ Scratchpad"
   ],
   "metadata": {
    "collapsed": false
   }
  },
  {
   "cell_type": "code",
   "execution_count": null,
   "outputs": [],
   "source": [
    "expData.sample(10)"
   ],
   "metadata": {
    "collapsed": false,
    "pycharm": {
     "name": "#%%\n"
    }
   }
  },
  {
   "cell_type": "code",
   "execution_count": null,
   "outputs": [],
   "source": [
    "#TODO - 1) Remove Response Vars from check 2) pull higher up probably in EDA\n",
    "\n",
    "responseVar = 'readmitted'\n",
    "corr = round(tempModelingDF.corr(),4)\n",
    "corr = abs(corr[responseVar]).sort_values(ascending=False)\n",
    "\n",
    "#Selecting highly correlated features\n",
    "relevant_features = corr[corr>=0.04] # Look for Features w/ greater 0.05 cor\n",
    "relevant_features"
   ],
   "metadata": {
    "collapsed": false,
    "pycharm": {
     "name": "#%%\n"
    }
   }
  },
  {
   "cell_type": "code",
   "execution_count": null,
   "outputs": [],
   "source": [
    "#TEMP - Reduce to corrlated features.  If use this, then need to implement in a way that isn't manually keying in.\n",
    "relevant_features_df = tempModelingDF[['readmitted','number_inpatient','number_emergency',\n",
    "                                                      'age_10yrStart','number_outpatient','time_in_hospital',\n",
    "                                                      'num_lab_procedures']]\n",
    "relevant_features_df\n"
   ],
   "metadata": {
    "collapsed": false,
    "pycharm": {
     "name": "#%%\n"
    }
   }
  },
  {
   "cell_type": "code",
   "execution_count": null,
   "outputs": [],
   "source": [
    "mainData['gender'].value_counts(dropna=False)"
   ],
   "metadata": {
    "collapsed": false,
    "pycharm": {
     "name": "#%%\n"
    }
   }
  },
  {
   "cell_type": "code",
   "execution_count": null,
   "outputs": [],
   "source": [
    "expVars = ['num_of_meds','med_level_direction','metformin','repaglinide','nateglinide','chlorpropamide','glimepiride',\n",
    "            'acetohexamide','glipizide','glyburide','tolbutamide','pioglitazone',\n",
    "            'rosiglitazone','acarbose','miglitol','troglitazone','tolazamide','examide',\n",
    "            'citoglipton','insulin','glyburide.metformin','glipizide.metformin','glimepiride.pioglitazone',\n",
    "            'metformin.rosiglitazone','metformin.pioglitazone','readmitted']\n",
    "\n",
    "expSummaryVars = ['num_of_meds','med_level_direction','readmitted']\n",
    "\n",
    "tempCor = mainData[expSummaryVars]\n",
    "tempCor.sample(5)"
   ],
   "metadata": {
    "collapsed": false,
    "pycharm": {
     "name": "#%%\n"
    }
   }
  },
  {
   "cell_type": "code",
   "execution_count": null,
   "outputs": [],
   "source": [
    "#Multiple Regression -- Check Correlations in HeatMap\n",
    "plt.figure(figsize=(12,10))\n",
    "cor = round(tempCor.corr(),3)\n",
    "sns.heatmap(cor, annot=True, cmap=plt.cm.Reds)"
   ],
   "metadata": {
    "collapsed": false,
    "pycharm": {
     "name": "#%%\n"
    }
   }
  },
  {
   "cell_type": "code",
   "execution_count": null,
   "outputs": [],
   "source": [
    "#Multiple Regressions -- Correlation with output variable\n",
    "responseVar = 'readmitted'\n",
    "cor_target = abs(cor[responseVar])\n",
    "#Selecting highly correlated features\n",
    "#relevant_features = cor_target[cor_target>=0.01] # Look for Features w/ greater 0.05 cor\n",
    "#relevant_features\n",
    "cor_target"
   ],
   "metadata": {
    "collapsed": false,
    "pycharm": {
     "name": "#%%\n"
    }
   }
  },
  {
   "cell_type": "code",
   "execution_count": null,
   "outputs": [],
   "source": [
    "mainData.shape"
   ],
   "metadata": {
    "collapsed": false,
    "pycharm": {
     "name": "#%%\n"
    }
   }
  },
  {
   "cell_type": "code",
   "execution_count": null,
   "outputs": [],
   "source": [
    "mainData['max_glu_serum'].value_counts(dropna=False)"
   ],
   "metadata": {
    "collapsed": false,
    "pycharm": {
     "name": "#%%\n"
    }
   }
  }
 ],
 "metadata": {
  "kernelspec": {
   "name": "pycharm-b5a5c62f",
   "language": "python",
   "display_name": "PyCharm (ML_Course)"
  },
  "language_info": {
   "codemirror_mode": {
    "name": "ipython",
    "version": 2
   },
   "file_extension": ".py",
   "mimetype": "text/x-python",
   "name": "python",
   "nbconvert_exporter": "python",
   "pygments_lexer": "ipython2",
   "version": "2.7.6"
  }
 },
 "nbformat": 4,
 "nbformat_minor": 0
}