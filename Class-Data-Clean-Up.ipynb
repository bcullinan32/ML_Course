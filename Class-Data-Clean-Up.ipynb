{
 "cells": [
  {
   "cell_type": "markdown",
   "metadata": {
    "collapsed": true,
    "pycharm": {
     "name": "#%% md\n"
    }
   },
   "source": [
    "# This Notebook is for EDA and Clean-up of the provided data set for the Machine Learning course"
   ]
  },
  {
   "cell_type": "markdown",
   "source": [
    "## Set Up"
   ],
   "metadata": {
    "collapsed": false
   }
  },
  {
   "cell_type": "code",
   "execution_count": 3,
   "outputs": [],
   "source": [
    "import pandas as pd\n",
    "import numpy as np\n",
    "import os"
   ],
   "metadata": {
    "collapsed": false,
    "pycharm": {
     "name": "#%%\n"
    }
   }
  },
  {
   "cell_type": "code",
   "execution_count": 7,
   "outputs": [
    {
     "data": {
      "text/plain": "   encounter_id  patient_nbr             race  gender      age weight  \\\n0      24437208          135        Caucasian  Female  [50-60)    NaN   \n1      29758806          378        Caucasian  Female  [50-60)    NaN   \n2     189899286          729        Caucasian  Female  [80-90)    NaN   \n3      64331490          774        Caucasian  Female  [80-90)    NaN   \n4      14824206          927  AfricanAmerican  Female  [30-40)    NaN   \n\n   admission_type_id  discharge_disposition_id  admission_source_id  \\\n0                  2                         1                    1   \n1                  3                         1                    1   \n2                  1                         3                    7   \n3                  1                         1                    7   \n4                  1                         1                    7   \n\n   time_in_hospital  ... citoglipton insulin  glyburide.metformin  \\\n0                 8  ...          No  Steady                   No   \n1                 2  ...          No      No                   No   \n2                 4  ...          No      No                   No   \n3                 3  ...          No      No                   No   \n4                 5  ...          No      No                   No   \n\n   glipizide.metformin  glimepiride.pioglitazone  metformin.rosiglitazone  \\\n0                   No                        No                       No   \n1                   No                        No                       No   \n2                   No                        No                       No   \n3                   No                        No                       No   \n4                   No                        No                       No   \n\n   metformin.pioglitazone  change diabetesMed readmitted  \n0                      No      Ch         Yes        <30  \n1                      No      No          No         NO  \n2                      No      No         Yes         NO  \n3                      No      Ch         Yes         NO  \n4                      No      No         Yes         NO  \n\n[5 rows x 50 columns]",
      "text/html": "<div>\n<style scoped>\n    .dataframe tbody tr th:only-of-type {\n        vertical-align: middle;\n    }\n\n    .dataframe tbody tr th {\n        vertical-align: top;\n    }\n\n    .dataframe thead th {\n        text-align: right;\n    }\n</style>\n<table border=\"1\" class=\"dataframe\">\n  <thead>\n    <tr style=\"text-align: right;\">\n      <th></th>\n      <th>encounter_id</th>\n      <th>patient_nbr</th>\n      <th>race</th>\n      <th>gender</th>\n      <th>age</th>\n      <th>weight</th>\n      <th>admission_type_id</th>\n      <th>discharge_disposition_id</th>\n      <th>admission_source_id</th>\n      <th>time_in_hospital</th>\n      <th>...</th>\n      <th>citoglipton</th>\n      <th>insulin</th>\n      <th>glyburide.metformin</th>\n      <th>glipizide.metformin</th>\n      <th>glimepiride.pioglitazone</th>\n      <th>metformin.rosiglitazone</th>\n      <th>metformin.pioglitazone</th>\n      <th>change</th>\n      <th>diabetesMed</th>\n      <th>readmitted</th>\n    </tr>\n  </thead>\n  <tbody>\n    <tr>\n      <th>0</th>\n      <td>24437208</td>\n      <td>135</td>\n      <td>Caucasian</td>\n      <td>Female</td>\n      <td>[50-60)</td>\n      <td>NaN</td>\n      <td>2</td>\n      <td>1</td>\n      <td>1</td>\n      <td>8</td>\n      <td>...</td>\n      <td>No</td>\n      <td>Steady</td>\n      <td>No</td>\n      <td>No</td>\n      <td>No</td>\n      <td>No</td>\n      <td>No</td>\n      <td>Ch</td>\n      <td>Yes</td>\n      <td>&lt;30</td>\n    </tr>\n    <tr>\n      <th>1</th>\n      <td>29758806</td>\n      <td>378</td>\n      <td>Caucasian</td>\n      <td>Female</td>\n      <td>[50-60)</td>\n      <td>NaN</td>\n      <td>3</td>\n      <td>1</td>\n      <td>1</td>\n      <td>2</td>\n      <td>...</td>\n      <td>No</td>\n      <td>No</td>\n      <td>No</td>\n      <td>No</td>\n      <td>No</td>\n      <td>No</td>\n      <td>No</td>\n      <td>No</td>\n      <td>No</td>\n      <td>NO</td>\n    </tr>\n    <tr>\n      <th>2</th>\n      <td>189899286</td>\n      <td>729</td>\n      <td>Caucasian</td>\n      <td>Female</td>\n      <td>[80-90)</td>\n      <td>NaN</td>\n      <td>1</td>\n      <td>3</td>\n      <td>7</td>\n      <td>4</td>\n      <td>...</td>\n      <td>No</td>\n      <td>No</td>\n      <td>No</td>\n      <td>No</td>\n      <td>No</td>\n      <td>No</td>\n      <td>No</td>\n      <td>No</td>\n      <td>Yes</td>\n      <td>NO</td>\n    </tr>\n    <tr>\n      <th>3</th>\n      <td>64331490</td>\n      <td>774</td>\n      <td>Caucasian</td>\n      <td>Female</td>\n      <td>[80-90)</td>\n      <td>NaN</td>\n      <td>1</td>\n      <td>1</td>\n      <td>7</td>\n      <td>3</td>\n      <td>...</td>\n      <td>No</td>\n      <td>No</td>\n      <td>No</td>\n      <td>No</td>\n      <td>No</td>\n      <td>No</td>\n      <td>No</td>\n      <td>Ch</td>\n      <td>Yes</td>\n      <td>NO</td>\n    </tr>\n    <tr>\n      <th>4</th>\n      <td>14824206</td>\n      <td>927</td>\n      <td>AfricanAmerican</td>\n      <td>Female</td>\n      <td>[30-40)</td>\n      <td>NaN</td>\n      <td>1</td>\n      <td>1</td>\n      <td>7</td>\n      <td>5</td>\n      <td>...</td>\n      <td>No</td>\n      <td>No</td>\n      <td>No</td>\n      <td>No</td>\n      <td>No</td>\n      <td>No</td>\n      <td>No</td>\n      <td>No</td>\n      <td>Yes</td>\n      <td>NO</td>\n    </tr>\n  </tbody>\n</table>\n<p>5 rows × 50 columns</p>\n</div>"
     },
     "execution_count": 7,
     "metadata": {},
     "output_type": "execute_result"
    }
   ],
   "source": [
    "# Get Main Data\n",
    "path = os.getcwd()\n",
    "path = path +'\\\\medical_data\\\\'\n",
    "file = 'data.csv'\n",
    "\n",
    "mainData = pd.read_csv(path+file)\n",
    "mainData.head()"
   ],
   "metadata": {
    "collapsed": false,
    "pycharm": {
     "name": "#%%\n"
    }
   }
  },
  {
   "cell_type": "markdown",
   "source": [
    "## EDA\n"
   ],
   "metadata": {
    "collapsed": false
   }
  },
  {
   "cell_type": "code",
   "execution_count": 9,
   "outputs": [
    {
     "data": {
      "text/plain": "(71518, 50)"
     },
     "execution_count": 9,
     "metadata": {},
     "output_type": "execute_result"
    }
   ],
   "source": [
    "# Data Shape\n",
    "mainData.shape"
   ],
   "metadata": {
    "collapsed": false,
    "pycharm": {
     "name": "#%%\n"
    }
   }
  },
  {
   "cell_type": "code",
   "execution_count": 8,
   "outputs": [
    {
     "data": {
      "text/plain": "encounter_id                    0\npatient_nbr                     0\nrace                         1948\ngender                          0\nage                             0\nweight                      68665\nadmission_type_id               0\ndischarge_disposition_id        0\nadmission_source_id             0\ntime_in_hospital                0\npayer_code                  31043\nmedical_specialty           34477\nnum_lab_procedures              0\nnum_procedures                  0\nnum_medications                 0\nnumber_outpatient               0\nnumber_emergency                0\nnumber_inpatient                0\ndiag_1                         11\ndiag_2                        294\ndiag_3                       1225\nnumber_diagnoses                0\nmax_glu_serum                   0\nA1Cresult                       0\nmetformin                       0\nrepaglinide                     0\nnateglinide                     0\nchlorpropamide                  0\nglimepiride                     0\nacetohexamide                   0\nglipizide                       0\nglyburide                       0\ntolbutamide                     0\npioglitazone                    0\nrosiglitazone                   0\nacarbose                        0\nmiglitol                        0\ntroglitazone                    0\ntolazamide                      0\nexamide                         0\ncitoglipton                     0\ninsulin                         0\nglyburide.metformin             0\nglipizide.metformin             0\nglimepiride.pioglitazone        0\nmetformin.rosiglitazone         0\nmetformin.pioglitazone          0\nchange                          0\ndiabetesMed                     0\nreadmitted                      0\ndtype: int64"
     },
     "execution_count": 8,
     "metadata": {},
     "output_type": "execute_result"
    }
   ],
   "source": [
    "# Check Nulls\n",
    "mainData.isna().sum()"
   ],
   "metadata": {
    "collapsed": false,
    "pycharm": {
     "name": "#%%\n"
    }
   }
  },
  {
   "cell_type": "code",
   "execution_count": 11,
   "outputs": [
    {
     "data": {
      "text/plain": "encounter_id                 int64\npatient_nbr                  int64\nrace                        object\ngender                      object\nage                         object\nweight                      object\nadmission_type_id            int64\ndischarge_disposition_id     int64\nadmission_source_id          int64\ntime_in_hospital             int64\npayer_code                  object\nmedical_specialty           object\nnum_lab_procedures           int64\nnum_procedures               int64\nnum_medications              int64\nnumber_outpatient            int64\nnumber_emergency             int64\nnumber_inpatient             int64\ndiag_1                      object\ndiag_2                      object\ndiag_3                      object\nnumber_diagnoses             int64\nmax_glu_serum               object\nA1Cresult                   object\nmetformin                   object\nrepaglinide                 object\nnateglinide                 object\nchlorpropamide              object\nglimepiride                 object\nacetohexamide               object\nglipizide                   object\nglyburide                   object\ntolbutamide                 object\npioglitazone                object\nrosiglitazone               object\nacarbose                    object\nmiglitol                    object\ntroglitazone                object\ntolazamide                  object\nexamide                     object\ncitoglipton                 object\ninsulin                     object\nglyburide.metformin         object\nglipizide.metformin         object\nglimepiride.pioglitazone    object\nmetformin.rosiglitazone     object\nmetformin.pioglitazone      object\nchange                      object\ndiabetesMed                 object\nreadmitted                  object\ndtype: object"
     },
     "execution_count": 11,
     "metadata": {},
     "output_type": "execute_result"
    }
   ],
   "source": [
    "# Check data types\n",
    "mainData.dtypes"
   ],
   "metadata": {
    "collapsed": false,
    "pycharm": {
     "name": "#%%\n"
    }
   }
  },
  {
   "cell_type": "code",
   "execution_count": 10,
   "outputs": [
    {
     "data": {
      "text/plain": "        encounter_id   patient_nbr       race  gender      age    weight  \\\ncount   7.151800e+04  7.151800e+04      69570   71518    71518      2853   \nunique           NaN           NaN          5       3       10         9   \ntop              NaN           NaN  Caucasian  Female  [70-80)  [75-100)   \nfreq             NaN           NaN      53491   38025    18210      1195   \nmean    1.568156e+08  5.505160e+07        NaN     NaN      NaN       NaN   \nstd     1.003769e+08  3.947573e+07        NaN     NaN      NaN       NaN   \nmin     1.252200e+04  1.350000e+02        NaN     NaN      NaN       NaN   \n25%     8.145807e+07  2.337577e+07        NaN     NaN      NaN       NaN   \n50%     1.440574e+08  4.816680e+07        NaN     NaN      NaN       NaN   \n75%     2.155513e+08  8.752222e+07        NaN     NaN      NaN       NaN   \nmax     4.438672e+08  1.895026e+08        NaN     NaN      NaN       NaN   \n\n        admission_type_id  discharge_disposition_id  admission_source_id  \\\ncount        71518.000000              71518.000000         71518.000000   \nunique                NaN                       NaN                  NaN   \ntop                   NaN                       NaN                  NaN   \nfreq                  NaN                       NaN                  NaN   \nmean             2.100254                  3.593235             5.657457   \nstd              1.508301                  5.269771             4.162580   \nmin              1.000000                  1.000000             1.000000   \n25%              1.000000                  1.000000             1.000000   \n50%              1.000000                  1.000000             7.000000   \n75%              3.000000                  3.000000             7.000000   \nmax              8.000000                 28.000000            25.000000   \n\n        time_in_hospital  ... citoglipton insulin  glyburide.metformin  \\\ncount        71518.00000  ...       71518   71518                71518   \nunique               NaN  ...           1       4                    4   \ntop                  NaN  ...          No      No                   No   \nfreq                 NaN  ...       71518   34921                71016   \nmean             4.28913  ...         NaN     NaN                  NaN   \nstd              2.94921  ...         NaN     NaN                  NaN   \nmin              1.00000  ...         NaN     NaN                  NaN   \n25%              2.00000  ...         NaN     NaN                  NaN   \n50%              3.00000  ...         NaN     NaN                  NaN   \n75%              6.00000  ...         NaN     NaN                  NaN   \nmax             14.00000  ...         NaN     NaN                  NaN   \n\n        glipizide.metformin  glimepiride.pioglitazone  \\\ncount                 71518                     71518   \nunique                    2                         1   \ntop                      No                        No   \nfreq                  71511                     71518   \nmean                    NaN                       NaN   \nstd                     NaN                       NaN   \nmin                     NaN                       NaN   \n25%                     NaN                       NaN   \n50%                     NaN                       NaN   \n75%                     NaN                       NaN   \nmax                     NaN                       NaN   \n\n        metformin.rosiglitazone  metformin.pioglitazone  change diabetesMed  \\\ncount                     71518                   71518   71518       71518   \nunique                        2                       2       2           2   \ntop                          No                      No      No         Yes   \nfreq                      71516                   71517   39494       54319   \nmean                        NaN                     NaN     NaN         NaN   \nstd                         NaN                     NaN     NaN         NaN   \nmin                         NaN                     NaN     NaN         NaN   \n25%                         NaN                     NaN     NaN         NaN   \n50%                         NaN                     NaN     NaN         NaN   \n75%                         NaN                     NaN     NaN         NaN   \nmax                         NaN                     NaN     NaN         NaN   \n\n       readmitted  \ncount       71518  \nunique          3  \ntop            NO  \nfreq        42985  \nmean          NaN  \nstd           NaN  \nmin           NaN  \n25%           NaN  \n50%           NaN  \n75%           NaN  \nmax           NaN  \n\n[11 rows x 50 columns]",
      "text/html": "<div>\n<style scoped>\n    .dataframe tbody tr th:only-of-type {\n        vertical-align: middle;\n    }\n\n    .dataframe tbody tr th {\n        vertical-align: top;\n    }\n\n    .dataframe thead th {\n        text-align: right;\n    }\n</style>\n<table border=\"1\" class=\"dataframe\">\n  <thead>\n    <tr style=\"text-align: right;\">\n      <th></th>\n      <th>encounter_id</th>\n      <th>patient_nbr</th>\n      <th>race</th>\n      <th>gender</th>\n      <th>age</th>\n      <th>weight</th>\n      <th>admission_type_id</th>\n      <th>discharge_disposition_id</th>\n      <th>admission_source_id</th>\n      <th>time_in_hospital</th>\n      <th>...</th>\n      <th>citoglipton</th>\n      <th>insulin</th>\n      <th>glyburide.metformin</th>\n      <th>glipizide.metformin</th>\n      <th>glimepiride.pioglitazone</th>\n      <th>metformin.rosiglitazone</th>\n      <th>metformin.pioglitazone</th>\n      <th>change</th>\n      <th>diabetesMed</th>\n      <th>readmitted</th>\n    </tr>\n  </thead>\n  <tbody>\n    <tr>\n      <th>count</th>\n      <td>7.151800e+04</td>\n      <td>7.151800e+04</td>\n      <td>69570</td>\n      <td>71518</td>\n      <td>71518</td>\n      <td>2853</td>\n      <td>71518.000000</td>\n      <td>71518.000000</td>\n      <td>71518.000000</td>\n      <td>71518.00000</td>\n      <td>...</td>\n      <td>71518</td>\n      <td>71518</td>\n      <td>71518</td>\n      <td>71518</td>\n      <td>71518</td>\n      <td>71518</td>\n      <td>71518</td>\n      <td>71518</td>\n      <td>71518</td>\n      <td>71518</td>\n    </tr>\n    <tr>\n      <th>unique</th>\n      <td>NaN</td>\n      <td>NaN</td>\n      <td>5</td>\n      <td>3</td>\n      <td>10</td>\n      <td>9</td>\n      <td>NaN</td>\n      <td>NaN</td>\n      <td>NaN</td>\n      <td>NaN</td>\n      <td>...</td>\n      <td>1</td>\n      <td>4</td>\n      <td>4</td>\n      <td>2</td>\n      <td>1</td>\n      <td>2</td>\n      <td>2</td>\n      <td>2</td>\n      <td>2</td>\n      <td>3</td>\n    </tr>\n    <tr>\n      <th>top</th>\n      <td>NaN</td>\n      <td>NaN</td>\n      <td>Caucasian</td>\n      <td>Female</td>\n      <td>[70-80)</td>\n      <td>[75-100)</td>\n      <td>NaN</td>\n      <td>NaN</td>\n      <td>NaN</td>\n      <td>NaN</td>\n      <td>...</td>\n      <td>No</td>\n      <td>No</td>\n      <td>No</td>\n      <td>No</td>\n      <td>No</td>\n      <td>No</td>\n      <td>No</td>\n      <td>No</td>\n      <td>Yes</td>\n      <td>NO</td>\n    </tr>\n    <tr>\n      <th>freq</th>\n      <td>NaN</td>\n      <td>NaN</td>\n      <td>53491</td>\n      <td>38025</td>\n      <td>18210</td>\n      <td>1195</td>\n      <td>NaN</td>\n      <td>NaN</td>\n      <td>NaN</td>\n      <td>NaN</td>\n      <td>...</td>\n      <td>71518</td>\n      <td>34921</td>\n      <td>71016</td>\n      <td>71511</td>\n      <td>71518</td>\n      <td>71516</td>\n      <td>71517</td>\n      <td>39494</td>\n      <td>54319</td>\n      <td>42985</td>\n    </tr>\n    <tr>\n      <th>mean</th>\n      <td>1.568156e+08</td>\n      <td>5.505160e+07</td>\n      <td>NaN</td>\n      <td>NaN</td>\n      <td>NaN</td>\n      <td>NaN</td>\n      <td>2.100254</td>\n      <td>3.593235</td>\n      <td>5.657457</td>\n      <td>4.28913</td>\n      <td>...</td>\n      <td>NaN</td>\n      <td>NaN</td>\n      <td>NaN</td>\n      <td>NaN</td>\n      <td>NaN</td>\n      <td>NaN</td>\n      <td>NaN</td>\n      <td>NaN</td>\n      <td>NaN</td>\n      <td>NaN</td>\n    </tr>\n    <tr>\n      <th>std</th>\n      <td>1.003769e+08</td>\n      <td>3.947573e+07</td>\n      <td>NaN</td>\n      <td>NaN</td>\n      <td>NaN</td>\n      <td>NaN</td>\n      <td>1.508301</td>\n      <td>5.269771</td>\n      <td>4.162580</td>\n      <td>2.94921</td>\n      <td>...</td>\n      <td>NaN</td>\n      <td>NaN</td>\n      <td>NaN</td>\n      <td>NaN</td>\n      <td>NaN</td>\n      <td>NaN</td>\n      <td>NaN</td>\n      <td>NaN</td>\n      <td>NaN</td>\n      <td>NaN</td>\n    </tr>\n    <tr>\n      <th>min</th>\n      <td>1.252200e+04</td>\n      <td>1.350000e+02</td>\n      <td>NaN</td>\n      <td>NaN</td>\n      <td>NaN</td>\n      <td>NaN</td>\n      <td>1.000000</td>\n      <td>1.000000</td>\n      <td>1.000000</td>\n      <td>1.00000</td>\n      <td>...</td>\n      <td>NaN</td>\n      <td>NaN</td>\n      <td>NaN</td>\n      <td>NaN</td>\n      <td>NaN</td>\n      <td>NaN</td>\n      <td>NaN</td>\n      <td>NaN</td>\n      <td>NaN</td>\n      <td>NaN</td>\n    </tr>\n    <tr>\n      <th>25%</th>\n      <td>8.145807e+07</td>\n      <td>2.337577e+07</td>\n      <td>NaN</td>\n      <td>NaN</td>\n      <td>NaN</td>\n      <td>NaN</td>\n      <td>1.000000</td>\n      <td>1.000000</td>\n      <td>1.000000</td>\n      <td>2.00000</td>\n      <td>...</td>\n      <td>NaN</td>\n      <td>NaN</td>\n      <td>NaN</td>\n      <td>NaN</td>\n      <td>NaN</td>\n      <td>NaN</td>\n      <td>NaN</td>\n      <td>NaN</td>\n      <td>NaN</td>\n      <td>NaN</td>\n    </tr>\n    <tr>\n      <th>50%</th>\n      <td>1.440574e+08</td>\n      <td>4.816680e+07</td>\n      <td>NaN</td>\n      <td>NaN</td>\n      <td>NaN</td>\n      <td>NaN</td>\n      <td>1.000000</td>\n      <td>1.000000</td>\n      <td>7.000000</td>\n      <td>3.00000</td>\n      <td>...</td>\n      <td>NaN</td>\n      <td>NaN</td>\n      <td>NaN</td>\n      <td>NaN</td>\n      <td>NaN</td>\n      <td>NaN</td>\n      <td>NaN</td>\n      <td>NaN</td>\n      <td>NaN</td>\n      <td>NaN</td>\n    </tr>\n    <tr>\n      <th>75%</th>\n      <td>2.155513e+08</td>\n      <td>8.752222e+07</td>\n      <td>NaN</td>\n      <td>NaN</td>\n      <td>NaN</td>\n      <td>NaN</td>\n      <td>3.000000</td>\n      <td>3.000000</td>\n      <td>7.000000</td>\n      <td>6.00000</td>\n      <td>...</td>\n      <td>NaN</td>\n      <td>NaN</td>\n      <td>NaN</td>\n      <td>NaN</td>\n      <td>NaN</td>\n      <td>NaN</td>\n      <td>NaN</td>\n      <td>NaN</td>\n      <td>NaN</td>\n      <td>NaN</td>\n    </tr>\n    <tr>\n      <th>max</th>\n      <td>4.438672e+08</td>\n      <td>1.895026e+08</td>\n      <td>NaN</td>\n      <td>NaN</td>\n      <td>NaN</td>\n      <td>NaN</td>\n      <td>8.000000</td>\n      <td>28.000000</td>\n      <td>25.000000</td>\n      <td>14.00000</td>\n      <td>...</td>\n      <td>NaN</td>\n      <td>NaN</td>\n      <td>NaN</td>\n      <td>NaN</td>\n      <td>NaN</td>\n      <td>NaN</td>\n      <td>NaN</td>\n      <td>NaN</td>\n      <td>NaN</td>\n      <td>NaN</td>\n    </tr>\n  </tbody>\n</table>\n<p>11 rows × 50 columns</p>\n</div>"
     },
     "execution_count": 10,
     "metadata": {},
     "output_type": "execute_result"
    }
   ],
   "source": [
    "# describe\n",
    "\n",
    "mainData.describe(include='all')\n"
   ],
   "metadata": {
    "collapsed": false,
    "pycharm": {
     "name": "#%%\n"
    }
   }
  }
 ],
 "metadata": {
  "kernelspec": {
   "display_name": "Python 3",
   "language": "python",
   "name": "python3"
  },
  "language_info": {
   "codemirror_mode": {
    "name": "ipython",
    "version": 2
   },
   "file_extension": ".py",
   "mimetype": "text/x-python",
   "name": "python",
   "nbconvert_exporter": "python",
   "pygments_lexer": "ipython2",
   "version": "2.7.6"
  }
 },
 "nbformat": 4,
 "nbformat_minor": 0
}