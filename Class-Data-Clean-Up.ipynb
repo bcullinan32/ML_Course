{
 "cells": [
  {
   "cell_type": "markdown",
   "metadata": {
    "collapsed": true,
    "pycharm": {
     "name": "#%% md\n"
    }
   },
   "source": [
    "# This Notebook is for EDA and Clean-up of the provided data set for the Machine Learning course\n",
    "## TODO List (in addition to in-line):\n",
    "- Encode additional variables for use\n",
    "- Determine how to encode diags -- Don't know what to do yet\n",
    "- Try scaling features\n",
    "- Implement gradient boosting\n",
    "- Implement N.N"
   ]
  },
  {
   "cell_type": "markdown",
   "source": [
    "## Set Up"
   ],
   "metadata": {
    "collapsed": false
   }
  },
  {
   "cell_type": "code",
   "execution_count": 120,
   "outputs": [],
   "source": [
    "# Standard Libraries\n",
    "import pandas as pd\n",
    "import numpy as np\n",
    "import os\n",
    "import warnings\n",
    "\n",
    "# Plotting Libraries\n",
    "import matplotlib.pyplot as plt\n",
    "import seaborn as sns\n",
    "\n",
    "# SkLearn  Data Prep\n",
    "from sklearn.preprocessing import OneHotEncoder\n",
    "from sklearn.preprocessing import OrdinalEncoder\n",
    "from sklearn.preprocessing import LabelEncoder\n",
    "from sklearn.compose import ColumnTransformer\n",
    "from sklearn.pipeline import Pipeline\n",
    "from sklearn.model_selection import train_test_split\n",
    "from sklearn.preprocessing import scale\n",
    "from sklearn.preprocessing import MinMaxScaler\n",
    "\n",
    "\n",
    "# SkLearn Measurement Libraries\n",
    "from sklearn.metrics import confusion_matrix\n",
    "from sklearn.metrics import precision_score, recall_score\n",
    "from sklearn.metrics import  precision_recall_curve\n",
    "from sklearn.metrics import f1_score\n",
    "from sklearn.metrics import roc_curve, auc\n",
    "from sklearn.metrics import roc_auc_score\n",
    "from sklearn.metrics import r2_score\n",
    "from sklearn.metrics import accuracy_score\n",
    "\n",
    "# SkLearn Models\n",
    "from sklearn.ensemble import RandomForestClassifier\n",
    "from sklearn.decomposition import PCA\n",
    "from sklearn.linear_model import LinearRegression\n",
    "from sklearn import model_selection\n",
    "from sklearn.cluster import KMeans\n",
    "from sklearn.datasets import make_blobs\n",
    "\n",
    "# set Theme\n",
    "plt.style.use('seaborn')\n",
    "sns.set_theme(style=\"whitegrid\")\n",
    "warnings.filterwarnings('ignore')"
   ],
   "metadata": {
    "collapsed": false,
    "pycharm": {
     "name": "#%%\n"
    }
   }
  },
  {
   "cell_type": "code",
   "execution_count": 121,
   "outputs": [
    {
     "data": {
      "text/plain": "   encounter_id  patient_nbr             race  gender      age weight  \\\n0      24437208          135        Caucasian  Female  [50-60)    NaN   \n1      29758806          378        Caucasian  Female  [50-60)    NaN   \n2     189899286          729        Caucasian  Female  [80-90)    NaN   \n3      64331490          774        Caucasian  Female  [80-90)    NaN   \n4      14824206          927  AfricanAmerican  Female  [30-40)    NaN   \n\n   admission_type_id  discharge_disposition_id  admission_source_id  \\\n0                  2                         1                    1   \n1                  3                         1                    1   \n2                  1                         3                    7   \n3                  1                         1                    7   \n4                  1                         1                    7   \n\n   time_in_hospital  ... citoglipton insulin  glyburide.metformin  \\\n0                 8  ...          No  Steady                   No   \n1                 2  ...          No      No                   No   \n2                 4  ...          No      No                   No   \n3                 3  ...          No      No                   No   \n4                 5  ...          No      No                   No   \n\n   glipizide.metformin  glimepiride.pioglitazone  metformin.rosiglitazone  \\\n0                   No                        No                       No   \n1                   No                        No                       No   \n2                   No                        No                       No   \n3                   No                        No                       No   \n4                   No                        No                       No   \n\n   metformin.pioglitazone  change diabetesMed readmitted  \n0                      No      Ch         Yes        <30  \n1                      No      No          No         NO  \n2                      No      No         Yes         NO  \n3                      No      Ch         Yes         NO  \n4                      No      No         Yes         NO  \n\n[5 rows x 50 columns]",
      "text/html": "<div>\n<style scoped>\n    .dataframe tbody tr th:only-of-type {\n        vertical-align: middle;\n    }\n\n    .dataframe tbody tr th {\n        vertical-align: top;\n    }\n\n    .dataframe thead th {\n        text-align: right;\n    }\n</style>\n<table border=\"1\" class=\"dataframe\">\n  <thead>\n    <tr style=\"text-align: right;\">\n      <th></th>\n      <th>encounter_id</th>\n      <th>patient_nbr</th>\n      <th>race</th>\n      <th>gender</th>\n      <th>age</th>\n      <th>weight</th>\n      <th>admission_type_id</th>\n      <th>discharge_disposition_id</th>\n      <th>admission_source_id</th>\n      <th>time_in_hospital</th>\n      <th>...</th>\n      <th>citoglipton</th>\n      <th>insulin</th>\n      <th>glyburide.metformin</th>\n      <th>glipizide.metformin</th>\n      <th>glimepiride.pioglitazone</th>\n      <th>metformin.rosiglitazone</th>\n      <th>metformin.pioglitazone</th>\n      <th>change</th>\n      <th>diabetesMed</th>\n      <th>readmitted</th>\n    </tr>\n  </thead>\n  <tbody>\n    <tr>\n      <th>0</th>\n      <td>24437208</td>\n      <td>135</td>\n      <td>Caucasian</td>\n      <td>Female</td>\n      <td>[50-60)</td>\n      <td>NaN</td>\n      <td>2</td>\n      <td>1</td>\n      <td>1</td>\n      <td>8</td>\n      <td>...</td>\n      <td>No</td>\n      <td>Steady</td>\n      <td>No</td>\n      <td>No</td>\n      <td>No</td>\n      <td>No</td>\n      <td>No</td>\n      <td>Ch</td>\n      <td>Yes</td>\n      <td>&lt;30</td>\n    </tr>\n    <tr>\n      <th>1</th>\n      <td>29758806</td>\n      <td>378</td>\n      <td>Caucasian</td>\n      <td>Female</td>\n      <td>[50-60)</td>\n      <td>NaN</td>\n      <td>3</td>\n      <td>1</td>\n      <td>1</td>\n      <td>2</td>\n      <td>...</td>\n      <td>No</td>\n      <td>No</td>\n      <td>No</td>\n      <td>No</td>\n      <td>No</td>\n      <td>No</td>\n      <td>No</td>\n      <td>No</td>\n      <td>No</td>\n      <td>NO</td>\n    </tr>\n    <tr>\n      <th>2</th>\n      <td>189899286</td>\n      <td>729</td>\n      <td>Caucasian</td>\n      <td>Female</td>\n      <td>[80-90)</td>\n      <td>NaN</td>\n      <td>1</td>\n      <td>3</td>\n      <td>7</td>\n      <td>4</td>\n      <td>...</td>\n      <td>No</td>\n      <td>No</td>\n      <td>No</td>\n      <td>No</td>\n      <td>No</td>\n      <td>No</td>\n      <td>No</td>\n      <td>No</td>\n      <td>Yes</td>\n      <td>NO</td>\n    </tr>\n    <tr>\n      <th>3</th>\n      <td>64331490</td>\n      <td>774</td>\n      <td>Caucasian</td>\n      <td>Female</td>\n      <td>[80-90)</td>\n      <td>NaN</td>\n      <td>1</td>\n      <td>1</td>\n      <td>7</td>\n      <td>3</td>\n      <td>...</td>\n      <td>No</td>\n      <td>No</td>\n      <td>No</td>\n      <td>No</td>\n      <td>No</td>\n      <td>No</td>\n      <td>No</td>\n      <td>Ch</td>\n      <td>Yes</td>\n      <td>NO</td>\n    </tr>\n    <tr>\n      <th>4</th>\n      <td>14824206</td>\n      <td>927</td>\n      <td>AfricanAmerican</td>\n      <td>Female</td>\n      <td>[30-40)</td>\n      <td>NaN</td>\n      <td>1</td>\n      <td>1</td>\n      <td>7</td>\n      <td>5</td>\n      <td>...</td>\n      <td>No</td>\n      <td>No</td>\n      <td>No</td>\n      <td>No</td>\n      <td>No</td>\n      <td>No</td>\n      <td>No</td>\n      <td>No</td>\n      <td>Yes</td>\n      <td>NO</td>\n    </tr>\n  </tbody>\n</table>\n<p>5 rows × 50 columns</p>\n</div>"
     },
     "execution_count": 121,
     "metadata": {},
     "output_type": "execute_result"
    }
   ],
   "source": [
    "# Get Main Data\n",
    "path = os.getcwd()\n",
    "path = path +'\\\\medical_data\\\\'\n",
    "file = 'data.csv'\n",
    "\n",
    "mainData = pd.read_csv(path+file)\n",
    "mainData.head()"
   ],
   "metadata": {
    "collapsed": false,
    "pycharm": {
     "name": "#%%\n"
    }
   }
  },
  {
   "cell_type": "code",
   "execution_count": 122,
   "outputs": [
    {
     "data": {
      "text/plain": "   admission_type_id    description\n0                  1      Emergency\n1                  2         Urgent\n2                  3       Elective\n3                  4        Newborn\n4                  5  Not Available\n5                  6            NaN\n6                  7  Trauma Center\n7                  8     Not Mapped",
      "text/html": "<div>\n<style scoped>\n    .dataframe tbody tr th:only-of-type {\n        vertical-align: middle;\n    }\n\n    .dataframe tbody tr th {\n        vertical-align: top;\n    }\n\n    .dataframe thead th {\n        text-align: right;\n    }\n</style>\n<table border=\"1\" class=\"dataframe\">\n  <thead>\n    <tr style=\"text-align: right;\">\n      <th></th>\n      <th>admission_type_id</th>\n      <th>description</th>\n    </tr>\n  </thead>\n  <tbody>\n    <tr>\n      <th>0</th>\n      <td>1</td>\n      <td>Emergency</td>\n    </tr>\n    <tr>\n      <th>1</th>\n      <td>2</td>\n      <td>Urgent</td>\n    </tr>\n    <tr>\n      <th>2</th>\n      <td>3</td>\n      <td>Elective</td>\n    </tr>\n    <tr>\n      <th>3</th>\n      <td>4</td>\n      <td>Newborn</td>\n    </tr>\n    <tr>\n      <th>4</th>\n      <td>5</td>\n      <td>Not Available</td>\n    </tr>\n    <tr>\n      <th>5</th>\n      <td>6</td>\n      <td>NaN</td>\n    </tr>\n    <tr>\n      <th>6</th>\n      <td>7</td>\n      <td>Trauma Center</td>\n    </tr>\n    <tr>\n      <th>7</th>\n      <td>8</td>\n      <td>Not Mapped</td>\n    </tr>\n  </tbody>\n</table>\n</div>"
     },
     "execution_count": 122,
     "metadata": {},
     "output_type": "execute_result"
    }
   ],
   "source": [
    "# Get Admission Type Look-Up\n",
    "file = 'id_lookup.csv'\n",
    "admissionTypeLookUp = pd.read_csv(path+file)\n",
    "admissionTypeLookUp = admissionTypeLookUp.iloc[:8]\n",
    "admissionTypeLookUp['admission_type_id'] = admissionTypeLookUp['admission_type_id'].astype(int)\n",
    "admissionTypeLookUp"
   ],
   "metadata": {
    "collapsed": false,
    "pycharm": {
     "name": "#%%\n"
    }
   }
  },
  {
   "cell_type": "code",
   "execution_count": 123,
   "outputs": [],
   "source": [
    "# Set Aside Copy of DF for Experiments\n",
    "expData = mainData"
   ],
   "metadata": {
    "collapsed": false,
    "pycharm": {
     "name": "#%%\n"
    }
   }
  },
  {
   "cell_type": "markdown",
   "source": [
    "## Re-Usable Functions"
   ],
   "metadata": {
    "collapsed": false
   }
  },
  {
   "cell_type": "code",
   "execution_count": 124,
   "outputs": [],
   "source": [
    "# Takes a DF and Producecs a Report of Null Values\n",
    "def nullAnalysis(df):\n",
    "    row = []\n",
    "    null_summaryDF = pd.DataFrame(columns = [\"Variable\",\"Observations\",\"Nulls\",\"Null_Per\",\"Num_Unique\",\"Type\"])\n",
    "    for column in df:\n",
    "        var = column\n",
    "        countOfObs = len(df[var])\n",
    "        countOfNull = df[var].isnull().sum()\n",
    "        perOfNull = round((100 * countOfNull) / countOfObs,3)\n",
    "        numUnique = df[var].nunique()\n",
    "        type  = df[var].dtypes\n",
    "        # Append to Summary DF\n",
    "        row = [var, countOfObs,countOfNull,perOfNull,numUnique,type]\n",
    "        df_length = len(null_summaryDF)\n",
    "        null_summaryDF.loc[df_length] = row\n",
    "    # Get Summary Stats\n",
    "    countofVars = len(null_summaryDF)\n",
    "    countofNotNull = (null_summaryDF['Nulls'] == 0).sum()\n",
    "    countofNull = (null_summaryDF['Nulls'] != 0).sum()\n",
    "    print(f\"Count of Variables:\",countofVars)\n",
    "    print(f\"Count of Variables without nulls:\",countofNotNull)\n",
    "    print(f\"Count of Variables with null :\",countofNull)\n",
    "    # Format Summary\n",
    "    summaryDF = null_summaryDF[null_summaryDF['Nulls'] != 0].sort_values(by=['Nulls'],ascending=False)\n",
    "    return summaryDF"
   ],
   "metadata": {
    "collapsed": false,
    "pycharm": {
     "name": "#%%\n"
    }
   }
  },
  {
   "cell_type": "code",
   "execution_count": 125,
   "outputs": [],
   "source": [
    "# Takes a DF, list of variable,and an order and returns a DF w/ ordinal encoding\n",
    "def OrdinalEncoderFunc (df,listOfVars,order):\n",
    "    df=df\n",
    "    order=order\n",
    "    enc = OrdinalEncoder(categories=[order])\n",
    "    for col in listOfVars:\n",
    "        col=col\n",
    "        df[col] = enc.fit_transform(df[[col]])\n",
    "    return df"
   ],
   "metadata": {
    "collapsed": false,
    "pycharm": {
     "name": "#%%\n"
    }
   }
  },
  {
   "cell_type": "code",
   "execution_count": 126,
   "outputs": [],
   "source": [
    "# Custom Clean-Up Function For This Dataset -- 1\n",
    "def EncodeResponse (df):\n",
    "    df=df\n",
    "    # Execute Encoding\n",
    "    dummyTemp = pd.get_dummies(df['readmitted'],prefix='readmitted_')\n",
    "    df = df.join(dummyTemp)\n",
    "    # Customize/ Clean-Up\n",
    "    ## Make 'readmitted' more logical so it is 0 when no and 1 when yes\n",
    "    df = df.drop(columns=['readmitted']) # Drop Old Readmitted Column\n",
    "    df = df.rename(columns={'readmitted__NO': 'readmitted'}) # Rename encoded column\n",
    "    df = df.dropna(subset=['readmitted']) # drop puzzling 1 nan value\n",
    "    df['readmitted'] = df['readmitted'].map({0:1, 1:0}) # reverse encoding to make logical\n",
    "    return df\n"
   ],
   "metadata": {
    "collapsed": false,
    "pycharm": {
     "name": "#%%\n"
    }
   }
  },
  {
   "cell_type": "code",
   "execution_count": 127,
   "outputs": [],
   "source": [
    "# Custom Clean-Up Function For This Dataset -- 2\n",
    "# TODO: Clean-up for demographic Vars (age, gender, race)\n",
    "\n",
    "def AdditionalClean (df):\n",
    "    df=df\n",
    "    #1 - Null Clean-Up2 -- Fillna's for variables with nulls that have value to keep\n",
    "    df['race'] = df['race'].fillna('Unknown')\n",
    "    #2 - Race to Dummy Vars\n",
    "    dummyTemp = pd.get_dummies(df['race'],prefix='race_')\n",
    "    df = df.join(dummyTemp)\n",
    "    df = df.drop(columns=['race'])\n",
    "    #2 - Encode Gender\n",
    "    number = LabelEncoder()\n",
    "    df['gender'] = number.fit_transform(df['gender']) # F -> 1, M -> 0, Unknown -> 2\n",
    "    #3 - Encode diabetesMed\n",
    "    df['diabetesMed'] = number.fit_transform(df['diabetesMed']) # Yes -> 1, No -> 0\n",
    "    #4 Custom Encode 1 -  A1Cresult\n",
    "    mapping_a1 = {'None':0,'Norm':0,'>7':1,'>8':2}\n",
    "    df['A1Cresult'] = df['A1Cresult'].map(mapping_a1)\n",
    "    #5 Custom Encode 2 -  max_glu_serum\n",
    "    mapping_glu = {'None':0,'Norm':0,'>200':1,'>300':2}\n",
    "    df['max_glu_serum'] = df['max_glu_serum'].map(mapping_glu)\n",
    "    #6 Custom Encode 3 - change\n",
    "    mapping_change = {'No':0,'Ch':1,}\n",
    "    df['change'] = df['change'].map(mapping_change)\n",
    "    #7 - Convert Age Buckets to Single Numeric\n",
    "    df['age'] = df['age'].str[1:3]\n",
    "    df['age'] = df['age'].str.rstrip('-')\n",
    "    df['age'] = df['age'].astype('int')\n",
    "    df = df.rename(columns={'age': 'age_10yrStart'})\n",
    "    return df"
   ],
   "metadata": {
    "collapsed": false,
    "pycharm": {
     "name": "#%%\n"
    }
   }
  },
  {
   "cell_type": "code",
   "execution_count": 128,
   "outputs": [
    {
     "data": {
      "text/plain": "No    39494\nCh    32024\nName: change, dtype: int64"
     },
     "execution_count": 128,
     "metadata": {},
     "output_type": "execute_result"
    }
   ],
   "source": [
    "mainData['change'].value_counts()"
   ],
   "metadata": {
    "collapsed": false,
    "pycharm": {
     "name": "#%%\n"
    }
   }
  },
  {
   "cell_type": "code",
   "execution_count": 129,
   "outputs": [],
   "source": [
    "# Main Clean DF Function -- Wraps Clean-Up Steps into one function so I can run on multiple versions of a DF\n",
    "## Does not include steps for cleaning response variable.\n",
    "\n",
    "def Clean_DF_Wrapper (df_to_clean,ordEncode_Vars,ordEncode_order,medCols):\n",
    "\n",
    "    # Null Clean-Up1 -- Drop Columns with high % of nulls, that aren't worth filling\n",
    "    df_to_clean = df_to_clean.drop(columns=['weight','medical_specialty','payer_code'])\n",
    "\n",
    "    # Diag Clean-Up\n",
    "    ## If diag_2 is null, then use diag_3.  If diag_1 is null, then use diag_2\n",
    "    ## Solves all but 1 null Diag1, which is dropped\n",
    "    ## TODO: Determine how to drop value from column that I pull from.\n",
    "    df_to_clean['diag_2'] = df_to_clean['diag_2'].fillna(df_to_clean['diag_3'])\n",
    "    df_to_clean['diag_1'] = df_to_clean['diag_1'].fillna(df_to_clean['diag_2'])\n",
    "    df_to_clean = df_to_clean.dropna(subset=['diag_1'])\n",
    "\n",
    "    # Remove Deceased Patients\n",
    "    ## Note: The research question is about predicting what patients will be re-admitted.\n",
    "    ## In order to not skew the results, patients who died while admitted should be removed from the prediction\n",
    "    ## Note: I only removed cases that explicity said the patient expired. not hospice patients (13,14)\n",
    "    expCodes = ['11','19','20','21']\n",
    "    df_to_clean = df_to_clean[~df_to_clean['discharge_disposition_id'].isin(expCodes)]\n",
    "\n",
    "    # Call OrdinalEncoder Function\n",
    "    df_to_clean  = OrdinalEncoderFunc(df_to_clean,ordEncode_Vars,ordEncode_order)\n",
    "\n",
    "    # Add Variable For Number of Medications\n",
    "    df_to_clean['num_of_meds'] = df_to_clean[medCols].ne(0).sum(axis=1)\n",
    "\n",
    "    # Add Variable for Medication Level Up Or Down\n",
    "    ## In the Medication columns 1 signifies that dosage decreased, 3 signifies that dosage increased\n",
    "    ## This counts the number of 1 and coverts to a negative, then the adds the number of 3\n",
    "    ## Result indicates the net level of medication change\n",
    "    df_to_clean['med_level_direction'] = ((df_to_clean[medCols] == 1).sum(axis=1)*-1) + \\\n",
    "                                  (df_to_clean[medCols] == 3).sum(axis=1)\n",
    "\n",
    "    # Call Function w/ all custom clean-up steps\n",
    "    df_to_clean = AdditionalClean(df_to_clean)\n",
    "\n",
    "    return df_to_clean"
   ],
   "metadata": {
    "collapsed": false,
    "pycharm": {
     "name": "#%%\n"
    }
   }
  },
  {
   "cell_type": "code",
   "execution_count": 130,
   "outputs": [],
   "source": [
    "# Clean DF Function For Response -- Wraps Steps into one function so I can run on multiple versions of a DF\n",
    "## Seems strange that it only calls another function, wanted structure in case I added other steps\n",
    "\n",
    "def Clean_ResponseVar (df_to_clean):\n",
    "    df_to_clean = EncodeResponse(df_to_clean)\n",
    "    return df_to_clean\n"
   ],
   "metadata": {
    "collapsed": false,
    "pycharm": {
     "name": "#%%\n"
    }
   }
  },
  {
   "cell_type": "code",
   "execution_count": 131,
   "outputs": [],
   "source": [
    "#  Split function - Takes a df and list of predictor vars and specified response var and\n",
    "##  returns x/y test/train sets.\n",
    "## Note: update params if you want reproducable splits or not\n",
    "## Note: set test size to 20%\n",
    "\n",
    "def testTrainSplit (df, PredictorVar,ResponseVar):\n",
    "    df=df\n",
    "    # Split into training/test\n",
    "    x = df[PredictorVar]\n",
    "    y = df[ResponseVar]\n",
    "    # Split Data Set Seed NP Random\n",
    "    np.random.seed(1) # seed np random\n",
    "    ## split data - use \"random_state = any number (42) if you want reproducable splits.\n",
    "    ### Remove random-state if you want random\n",
    "    x_train, x_test, y_train, y_test = train_test_split(x,y, random_state=42, test_size = 0.2)\n",
    "    return x_train, x_test, y_train, y_test\n"
   ],
   "metadata": {
    "collapsed": false,
    "pycharm": {
     "name": "#%%\n"
    }
   }
  },
  {
   "cell_type": "code",
   "execution_count": 132,
   "outputs": [],
   "source": [
    "# Takes a model, and test sets and returns and ROC Curve w/ AUC value\n",
    "\n",
    "def ROC_Curve_Plot(model,roc_x_test,roc_y_test):\n",
    "    probas = model.predict_proba(roc_x_test) # get the probability distribution\n",
    "    fpr, tpr, thresholds = roc_curve(roc_y_test, probas[:,0], pos_label=0) # get false and true positive rates\n",
    "    roc_auc = auc(fpr, tpr) # get area under curve\n",
    "    # PLOT ROC curve\n",
    "    plt.figure(dpi=150)\n",
    "    plt.plot(fpr, tpr, lw=1, color='green', label=f'AUC = {roc_auc:.3f}')\n",
    "    plt.plot([0,1], [0,1], '--k', lw=0.5, label='Random')\n",
    "    plt.title('ROC Curve for RF classifier')\n",
    "    plt.xlabel('False Positive Rate')\n",
    "    plt.ylabel('True Positive Rate (Recall)')\n",
    "    plt.xlim([-0.05, 1.05])\n",
    "    plt.ylim([-0.05, 1.05])\n",
    "    plt.legend()\n",
    "    return plt\n"
   ],
   "metadata": {
    "collapsed": false,
    "pycharm": {
     "name": "#%%\n"
    }
   }
  },
  {
   "cell_type": "code",
   "execution_count": 133,
   "outputs": [],
   "source": [
    "# Takes a model and various split sets and returns a CM plot w/ Accuracy\n",
    "\n",
    "def createConfMatrix (regObj, y_test, y_pred, x_test):\n",
    "    # Logistic Regression -- Step 5 -- Create Confusion Matrix\n",
    "    cm = pd.DataFrame(confusion_matrix(y_test, y_pred))\n",
    "    cm.columns.name = 'Predicted'\n",
    "    cm.index.name = 'True'\n",
    "    # Logistic Regression -- Step 6 -- Calc Accuracy From Test Set\n",
    "    score = regObj.score(x_test, y_test)\n",
    "    score = round(score,4)\n",
    "    return cm, score"
   ],
   "metadata": {
    "collapsed": false,
    "pycharm": {
     "name": "#%%\n"
    }
   }
  },
  {
   "cell_type": "code",
   "execution_count": 134,
   "outputs": [],
   "source": [
    "# Takes test and predicted sets and returns precision/recall metrics\n",
    "\n",
    "def precisionRecall (y_test, y_pred):\n",
    "    precision = round(precision_score(y_test, y_pred),4)\n",
    "    recall = round(recall_score(y_test, y_pred),4)\n",
    "    f1 = round(f1_score(y_test, y_pred),4)\n",
    "    return precision, recall, f1"
   ],
   "metadata": {
    "collapsed": false,
    "pycharm": {
     "name": "#%%\n"
    }
   }
  },
  {
   "cell_type": "code",
   "execution_count": 135,
   "outputs": [],
   "source": [
    "# Takes a model and returns a Feature Importance Plot\n",
    "\n",
    "def FeatureImportance (regObj):\n",
    "    # Best Tree-- Plot Most Important Features\n",
    "    importances = regObj.feature_importances_\n",
    "    #Convert Array to DF\n",
    "    feature_importances = pd.Series(importances, index=PredictorVar)\n",
    "    feature_importances = feature_importances.to_frame().reset_index()\n",
    "    feature_importances = feature_importances.rename(columns={'index':'feature',0:'impDecrease'})\n",
    "    feature_importances = feature_importances.sort_values(by='impDecrease',ascending=False)\n",
    "    #std = np.std([tree.feature_importances_ for tree in cv_bestTree.estimators_], axis=0)\n",
    "    # Create Plot\n",
    "    sns.set_theme(style=\"whitegrid\")\n",
    "    fig, ax = plt.subplots(figsize = (6,6), dpi=200)\n",
    "    ax = sns.barplot(x=\"impDecrease\", y=\"feature\", data=feature_importances,color=\"blue\")\n",
    "    ax.set_title(\"Feature importance\")\n",
    "    ax.set_ylabel(\"Feature\")\n",
    "    ax.set_xlabel(\"Impurity Decrease\")\n",
    "    fig.tight_layout()\n",
    "    return feature_importances, fig"
   ],
   "metadata": {
    "collapsed": false,
    "pycharm": {
     "name": "#%%\n"
    }
   }
  },
  {
   "cell_type": "code",
   "execution_count": 136,
   "outputs": [],
   "source": [
    "# Takes a DF and returns an elbow plot for KMeans in order to determine the proper K Value\n",
    "## Think of as KMeans Pre-Analysis\n",
    "\n",
    "def KMeansElbowPlot(df):\n",
    "    # Elbow Method -- To Set K Range\n",
    "    k_rng = range(1,10)\n",
    "    # sum of square error\n",
    "    sse = []\n",
    "    for k in k_rng:\n",
    "        km = KMeans(n_clusters=k)\n",
    "        km.fit(df)\n",
    "        sse.append(km.inertia_)\n",
    "    # Elbow Plot w / SSE\n",
    "    plt.xlabel('K')\n",
    "    plt.ylabel('SSE')\n",
    "    plt.plot(k_rng,sse)\n",
    "    return plt"
   ],
   "metadata": {
    "collapsed": false,
    "pycharm": {
     "name": "#%%\n"
    }
   }
  },
  {
   "cell_type": "code",
   "execution_count": 137,
   "outputs": [],
   "source": [
    "# Takes a DF, list of Predictor Vars, and Response Var and returns an elbow plot to determine optimal P.C.'s\n",
    "\n",
    "def PCA_PreProcess_Elbow(df,PredictorVar,ResponseVar):\n",
    "    # PCA -- CV\n",
    "    upper = len(PredictorVar)\n",
    "    row =[]\n",
    "    pca_Result = pd.DataFrame(columns = [\"Number_Variables\",\"MSE\",'RMSE',\"Variance_Explained\"])\n",
    "    kf = model_selection.KFold( n_splits=10, shuffle=True, random_state=1)\n",
    "    # Function Call To prep train/test\n",
    "    for i in range(upper):\n",
    "        x_train, x_test, y_train, y_test  = testTrainSplit(df, PredictorVar[:i+1], ResponseVar)\n",
    "        pca = PCA()\n",
    "        x = pca.fit_transform(scale(x_test))\n",
    "        regr = LinearRegression()\n",
    "        regr.fit(x_train, y_train)\n",
    "        score = -1*model_selection.cross_val_score(regr, x_test, y_test, cv=kf,\n",
    "                                               scoring='neg_mean_squared_error').mean()\n",
    "        varExplained = 1-(pca.explained_variance_ratio_[i])\n",
    "        RMSE = np.sqrt(score)\n",
    "        row = [i,score,RMSE,varExplained]\n",
    "        df_length = len(pca_Result)\n",
    "        pca_Result.loc[df_length] = row\n",
    "    # PCA -- plot\n",
    "    sns.set_style(\"whitegrid\")\n",
    "    sns.set(rc = {'figure.figsize':(5,5)})\n",
    "    fig, (ax1,ax2) = plt.subplots(ncols=2,sharex=True, sharey=False, figsize=(15,9))\n",
    "    sns.lineplot(\n",
    "        data=pca_Result, ax=ax1,\n",
    "        x=\"Number_Variables\", y=\"MSE\",\n",
    "        marker=\"o\", dashes=False)\n",
    "    sns.lineplot(\n",
    "        data=pca_Result, ax=ax2,\n",
    "        x=\"Number_Variables\", y=\"Variance_Explained\",\n",
    "        marker=\"o\", dashes=False)\n",
    "    return plt"
   ],
   "metadata": {
    "collapsed": false,
    "pycharm": {
     "name": "#%%\n"
    }
   }
  },
  {
   "cell_type": "markdown",
   "source": [
    "## General EDA"
   ],
   "metadata": {
    "collapsed": false
   }
  },
  {
   "cell_type": "code",
   "execution_count": 138,
   "outputs": [
    {
     "name": "stdout",
     "output_type": "stream",
     "text": [
      "Data shape: (71518, 50)\n"
     ]
    }
   ],
   "source": [
    "# Data Shape\n",
    "print(f\"Data shape:\",mainData.shape)"
   ],
   "metadata": {
    "collapsed": false,
    "pycharm": {
     "name": "#%%\n"
    }
   }
  },
  {
   "cell_type": "code",
   "execution_count": 139,
   "outputs": [
    {
     "name": "stdout",
     "output_type": "stream",
     "text": [
      "<class 'pandas.core.frame.DataFrame'>\n",
      "RangeIndex: 71518 entries, 0 to 71517\n",
      "Data columns (total 50 columns):\n",
      " #   Column                    Non-Null Count  Dtype \n",
      "---  ------                    --------------  ----- \n",
      " 0   encounter_id              71518 non-null  int64 \n",
      " 1   patient_nbr               71518 non-null  int64 \n",
      " 2   race                      69570 non-null  object\n",
      " 3   gender                    71518 non-null  object\n",
      " 4   age                       71518 non-null  object\n",
      " 5   weight                    2853 non-null   object\n",
      " 6   admission_type_id         71518 non-null  int64 \n",
      " 7   discharge_disposition_id  71518 non-null  int64 \n",
      " 8   admission_source_id       71518 non-null  int64 \n",
      " 9   time_in_hospital          71518 non-null  int64 \n",
      " 10  payer_code                40475 non-null  object\n",
      " 11  medical_specialty         37041 non-null  object\n",
      " 12  num_lab_procedures        71518 non-null  int64 \n",
      " 13  num_procedures            71518 non-null  int64 \n",
      " 14  num_medications           71518 non-null  int64 \n",
      " 15  number_outpatient         71518 non-null  int64 \n",
      " 16  number_emergency          71518 non-null  int64 \n",
      " 17  number_inpatient          71518 non-null  int64 \n",
      " 18  diag_1                    71507 non-null  object\n",
      " 19  diag_2                    71224 non-null  object\n",
      " 20  diag_3                    70293 non-null  object\n",
      " 21  number_diagnoses          71518 non-null  int64 \n",
      " 22  max_glu_serum             71518 non-null  object\n",
      " 23  A1Cresult                 71518 non-null  object\n",
      " 24  metformin                 71518 non-null  object\n",
      " 25  repaglinide               71518 non-null  object\n",
      " 26  nateglinide               71518 non-null  object\n",
      " 27  chlorpropamide            71518 non-null  object\n",
      " 28  glimepiride               71518 non-null  object\n",
      " 29  acetohexamide             71518 non-null  object\n",
      " 30  glipizide                 71518 non-null  object\n",
      " 31  glyburide                 71518 non-null  object\n",
      " 32  tolbutamide               71518 non-null  object\n",
      " 33  pioglitazone              71518 non-null  object\n",
      " 34  rosiglitazone             71518 non-null  object\n",
      " 35  acarbose                  71518 non-null  object\n",
      " 36  miglitol                  71518 non-null  object\n",
      " 37  troglitazone              71518 non-null  object\n",
      " 38  tolazamide                71518 non-null  object\n",
      " 39  examide                   71518 non-null  object\n",
      " 40  citoglipton               71518 non-null  object\n",
      " 41  insulin                   71518 non-null  object\n",
      " 42  glyburide.metformin       71518 non-null  object\n",
      " 43  glipizide.metformin       71518 non-null  object\n",
      " 44  glimepiride.pioglitazone  71518 non-null  object\n",
      " 45  metformin.rosiglitazone   71518 non-null  object\n",
      " 46  metformin.pioglitazone    71518 non-null  object\n",
      " 47  change                    71518 non-null  object\n",
      " 48  diabetesMed               71518 non-null  object\n",
      " 49  readmitted                71518 non-null  object\n",
      "dtypes: int64(13), object(37)\n",
      "memory usage: 27.3+ MB\n"
     ]
    }
   ],
   "source": [
    "mainData.info()"
   ],
   "metadata": {
    "collapsed": false,
    "pycharm": {
     "name": "#%%\n"
    }
   }
  },
  {
   "cell_type": "code",
   "execution_count": 140,
   "outputs": [
    {
     "data": {
      "text/plain": "        encounter_id   patient_nbr       race  gender      age    weight  \\\ncount   7.151800e+04  7.151800e+04      69570   71518    71518      2853   \nunique           NaN           NaN          5       3       10         9   \ntop              NaN           NaN  Caucasian  Female  [70-80)  [75-100)   \nfreq             NaN           NaN      53491   38025    18210      1195   \nmean    1.568156e+08  5.505160e+07        NaN     NaN      NaN       NaN   \nstd     1.003769e+08  3.947573e+07        NaN     NaN      NaN       NaN   \nmin     1.252200e+04  1.350000e+02        NaN     NaN      NaN       NaN   \n25%     8.145807e+07  2.337577e+07        NaN     NaN      NaN       NaN   \n50%     1.440574e+08  4.816680e+07        NaN     NaN      NaN       NaN   \n75%     2.155513e+08  8.752222e+07        NaN     NaN      NaN       NaN   \nmax     4.438672e+08  1.895026e+08        NaN     NaN      NaN       NaN   \n\n        admission_type_id  discharge_disposition_id  admission_source_id  \\\ncount        71518.000000              71518.000000         71518.000000   \nunique                NaN                       NaN                  NaN   \ntop                   NaN                       NaN                  NaN   \nfreq                  NaN                       NaN                  NaN   \nmean             2.100254                  3.593235             5.657457   \nstd              1.508301                  5.269771             4.162580   \nmin              1.000000                  1.000000             1.000000   \n25%              1.000000                  1.000000             1.000000   \n50%              1.000000                  1.000000             7.000000   \n75%              3.000000                  3.000000             7.000000   \nmax              8.000000                 28.000000            25.000000   \n\n        time_in_hospital  ... citoglipton insulin  glyburide.metformin  \\\ncount        71518.00000  ...       71518   71518                71518   \nunique               NaN  ...           1       4                    4   \ntop                  NaN  ...          No      No                   No   \nfreq                 NaN  ...       71518   34921                71016   \nmean             4.28913  ...         NaN     NaN                  NaN   \nstd              2.94921  ...         NaN     NaN                  NaN   \nmin              1.00000  ...         NaN     NaN                  NaN   \n25%              2.00000  ...         NaN     NaN                  NaN   \n50%              3.00000  ...         NaN     NaN                  NaN   \n75%              6.00000  ...         NaN     NaN                  NaN   \nmax             14.00000  ...         NaN     NaN                  NaN   \n\n        glipizide.metformin  glimepiride.pioglitazone  \\\ncount                 71518                     71518   \nunique                    2                         1   \ntop                      No                        No   \nfreq                  71511                     71518   \nmean                    NaN                       NaN   \nstd                     NaN                       NaN   \nmin                     NaN                       NaN   \n25%                     NaN                       NaN   \n50%                     NaN                       NaN   \n75%                     NaN                       NaN   \nmax                     NaN                       NaN   \n\n        metformin.rosiglitazone  metformin.pioglitazone  change diabetesMed  \\\ncount                     71518                   71518   71518       71518   \nunique                        2                       2       2           2   \ntop                          No                      No      No         Yes   \nfreq                      71516                   71517   39494       54319   \nmean                        NaN                     NaN     NaN         NaN   \nstd                         NaN                     NaN     NaN         NaN   \nmin                         NaN                     NaN     NaN         NaN   \n25%                         NaN                     NaN     NaN         NaN   \n50%                         NaN                     NaN     NaN         NaN   \n75%                         NaN                     NaN     NaN         NaN   \nmax                         NaN                     NaN     NaN         NaN   \n\n       readmitted  \ncount       71518  \nunique          3  \ntop            NO  \nfreq        42985  \nmean          NaN  \nstd           NaN  \nmin           NaN  \n25%           NaN  \n50%           NaN  \n75%           NaN  \nmax           NaN  \n\n[11 rows x 50 columns]",
      "text/html": "<div>\n<style scoped>\n    .dataframe tbody tr th:only-of-type {\n        vertical-align: middle;\n    }\n\n    .dataframe tbody tr th {\n        vertical-align: top;\n    }\n\n    .dataframe thead th {\n        text-align: right;\n    }\n</style>\n<table border=\"1\" class=\"dataframe\">\n  <thead>\n    <tr style=\"text-align: right;\">\n      <th></th>\n      <th>encounter_id</th>\n      <th>patient_nbr</th>\n      <th>race</th>\n      <th>gender</th>\n      <th>age</th>\n      <th>weight</th>\n      <th>admission_type_id</th>\n      <th>discharge_disposition_id</th>\n      <th>admission_source_id</th>\n      <th>time_in_hospital</th>\n      <th>...</th>\n      <th>citoglipton</th>\n      <th>insulin</th>\n      <th>glyburide.metformin</th>\n      <th>glipizide.metformin</th>\n      <th>glimepiride.pioglitazone</th>\n      <th>metformin.rosiglitazone</th>\n      <th>metformin.pioglitazone</th>\n      <th>change</th>\n      <th>diabetesMed</th>\n      <th>readmitted</th>\n    </tr>\n  </thead>\n  <tbody>\n    <tr>\n      <th>count</th>\n      <td>7.151800e+04</td>\n      <td>7.151800e+04</td>\n      <td>69570</td>\n      <td>71518</td>\n      <td>71518</td>\n      <td>2853</td>\n      <td>71518.000000</td>\n      <td>71518.000000</td>\n      <td>71518.000000</td>\n      <td>71518.00000</td>\n      <td>...</td>\n      <td>71518</td>\n      <td>71518</td>\n      <td>71518</td>\n      <td>71518</td>\n      <td>71518</td>\n      <td>71518</td>\n      <td>71518</td>\n      <td>71518</td>\n      <td>71518</td>\n      <td>71518</td>\n    </tr>\n    <tr>\n      <th>unique</th>\n      <td>NaN</td>\n      <td>NaN</td>\n      <td>5</td>\n      <td>3</td>\n      <td>10</td>\n      <td>9</td>\n      <td>NaN</td>\n      <td>NaN</td>\n      <td>NaN</td>\n      <td>NaN</td>\n      <td>...</td>\n      <td>1</td>\n      <td>4</td>\n      <td>4</td>\n      <td>2</td>\n      <td>1</td>\n      <td>2</td>\n      <td>2</td>\n      <td>2</td>\n      <td>2</td>\n      <td>3</td>\n    </tr>\n    <tr>\n      <th>top</th>\n      <td>NaN</td>\n      <td>NaN</td>\n      <td>Caucasian</td>\n      <td>Female</td>\n      <td>[70-80)</td>\n      <td>[75-100)</td>\n      <td>NaN</td>\n      <td>NaN</td>\n      <td>NaN</td>\n      <td>NaN</td>\n      <td>...</td>\n      <td>No</td>\n      <td>No</td>\n      <td>No</td>\n      <td>No</td>\n      <td>No</td>\n      <td>No</td>\n      <td>No</td>\n      <td>No</td>\n      <td>Yes</td>\n      <td>NO</td>\n    </tr>\n    <tr>\n      <th>freq</th>\n      <td>NaN</td>\n      <td>NaN</td>\n      <td>53491</td>\n      <td>38025</td>\n      <td>18210</td>\n      <td>1195</td>\n      <td>NaN</td>\n      <td>NaN</td>\n      <td>NaN</td>\n      <td>NaN</td>\n      <td>...</td>\n      <td>71518</td>\n      <td>34921</td>\n      <td>71016</td>\n      <td>71511</td>\n      <td>71518</td>\n      <td>71516</td>\n      <td>71517</td>\n      <td>39494</td>\n      <td>54319</td>\n      <td>42985</td>\n    </tr>\n    <tr>\n      <th>mean</th>\n      <td>1.568156e+08</td>\n      <td>5.505160e+07</td>\n      <td>NaN</td>\n      <td>NaN</td>\n      <td>NaN</td>\n      <td>NaN</td>\n      <td>2.100254</td>\n      <td>3.593235</td>\n      <td>5.657457</td>\n      <td>4.28913</td>\n      <td>...</td>\n      <td>NaN</td>\n      <td>NaN</td>\n      <td>NaN</td>\n      <td>NaN</td>\n      <td>NaN</td>\n      <td>NaN</td>\n      <td>NaN</td>\n      <td>NaN</td>\n      <td>NaN</td>\n      <td>NaN</td>\n    </tr>\n    <tr>\n      <th>std</th>\n      <td>1.003769e+08</td>\n      <td>3.947573e+07</td>\n      <td>NaN</td>\n      <td>NaN</td>\n      <td>NaN</td>\n      <td>NaN</td>\n      <td>1.508301</td>\n      <td>5.269771</td>\n      <td>4.162580</td>\n      <td>2.94921</td>\n      <td>...</td>\n      <td>NaN</td>\n      <td>NaN</td>\n      <td>NaN</td>\n      <td>NaN</td>\n      <td>NaN</td>\n      <td>NaN</td>\n      <td>NaN</td>\n      <td>NaN</td>\n      <td>NaN</td>\n      <td>NaN</td>\n    </tr>\n    <tr>\n      <th>min</th>\n      <td>1.252200e+04</td>\n      <td>1.350000e+02</td>\n      <td>NaN</td>\n      <td>NaN</td>\n      <td>NaN</td>\n      <td>NaN</td>\n      <td>1.000000</td>\n      <td>1.000000</td>\n      <td>1.000000</td>\n      <td>1.00000</td>\n      <td>...</td>\n      <td>NaN</td>\n      <td>NaN</td>\n      <td>NaN</td>\n      <td>NaN</td>\n      <td>NaN</td>\n      <td>NaN</td>\n      <td>NaN</td>\n      <td>NaN</td>\n      <td>NaN</td>\n      <td>NaN</td>\n    </tr>\n    <tr>\n      <th>25%</th>\n      <td>8.145807e+07</td>\n      <td>2.337577e+07</td>\n      <td>NaN</td>\n      <td>NaN</td>\n      <td>NaN</td>\n      <td>NaN</td>\n      <td>1.000000</td>\n      <td>1.000000</td>\n      <td>1.000000</td>\n      <td>2.00000</td>\n      <td>...</td>\n      <td>NaN</td>\n      <td>NaN</td>\n      <td>NaN</td>\n      <td>NaN</td>\n      <td>NaN</td>\n      <td>NaN</td>\n      <td>NaN</td>\n      <td>NaN</td>\n      <td>NaN</td>\n      <td>NaN</td>\n    </tr>\n    <tr>\n      <th>50%</th>\n      <td>1.440574e+08</td>\n      <td>4.816680e+07</td>\n      <td>NaN</td>\n      <td>NaN</td>\n      <td>NaN</td>\n      <td>NaN</td>\n      <td>1.000000</td>\n      <td>1.000000</td>\n      <td>7.000000</td>\n      <td>3.00000</td>\n      <td>...</td>\n      <td>NaN</td>\n      <td>NaN</td>\n      <td>NaN</td>\n      <td>NaN</td>\n      <td>NaN</td>\n      <td>NaN</td>\n      <td>NaN</td>\n      <td>NaN</td>\n      <td>NaN</td>\n      <td>NaN</td>\n    </tr>\n    <tr>\n      <th>75%</th>\n      <td>2.155513e+08</td>\n      <td>8.752222e+07</td>\n      <td>NaN</td>\n      <td>NaN</td>\n      <td>NaN</td>\n      <td>NaN</td>\n      <td>3.000000</td>\n      <td>3.000000</td>\n      <td>7.000000</td>\n      <td>6.00000</td>\n      <td>...</td>\n      <td>NaN</td>\n      <td>NaN</td>\n      <td>NaN</td>\n      <td>NaN</td>\n      <td>NaN</td>\n      <td>NaN</td>\n      <td>NaN</td>\n      <td>NaN</td>\n      <td>NaN</td>\n      <td>NaN</td>\n    </tr>\n    <tr>\n      <th>max</th>\n      <td>4.438672e+08</td>\n      <td>1.895026e+08</td>\n      <td>NaN</td>\n      <td>NaN</td>\n      <td>NaN</td>\n      <td>NaN</td>\n      <td>8.000000</td>\n      <td>28.000000</td>\n      <td>25.000000</td>\n      <td>14.00000</td>\n      <td>...</td>\n      <td>NaN</td>\n      <td>NaN</td>\n      <td>NaN</td>\n      <td>NaN</td>\n      <td>NaN</td>\n      <td>NaN</td>\n      <td>NaN</td>\n      <td>NaN</td>\n      <td>NaN</td>\n      <td>NaN</td>\n    </tr>\n  </tbody>\n</table>\n<p>11 rows × 50 columns</p>\n</div>"
     },
     "execution_count": 140,
     "metadata": {},
     "output_type": "execute_result"
    }
   ],
   "source": [
    "# Describe\n",
    "mainData.describe(include='all')"
   ],
   "metadata": {
    "collapsed": false,
    "pycharm": {
     "name": "#%%\n"
    }
   }
  },
  {
   "cell_type": "code",
   "execution_count": 141,
   "outputs": [
    {
     "data": {
      "text/plain": "admission_type_id             8\ndischarge_disposition_id     26\nadmission_source_id          17\ntime_in_hospital             14\nnum_lab_procedures          116\nnum_procedures                7\nnum_medications              75\nnumber_outpatient            33\nnumber_emergency             18\nnumber_inpatient             13\nnumber_diagnoses             16\ndtype: int64"
     },
     "execution_count": 141,
     "metadata": {},
     "output_type": "execute_result"
    }
   ],
   "source": [
    "numericFeatures = mainData.select_dtypes(include= np.number)\n",
    "numericFeatures = numericFeatures.drop(columns=['encounter_id','patient_nbr'])\n",
    "numericFeatures.nunique()"
   ],
   "metadata": {
    "collapsed": false,
    "pycharm": {
     "name": "#%%\n"
    }
   }
  },
  {
   "cell_type": "code",
   "execution_count": 142,
   "outputs": [
    {
     "data": {
      "text/plain": "<Figure size 1080x648 with 12 Axes>",
      "image/png": "[encoded data removed]"
     },
     "metadata": {},
     "output_type": "display_data"
    }
   ],
   "source": [
    "# Distribution Plots\n",
    "\n",
    "fig, axes = plt.subplots(4,3, sharex=False, sharey=False, figsize=(15,9))\n",
    "fig.suptitle('Distribution Plots of Numeric Features')\n",
    "\n",
    "sns.distplot(numericFeatures['admission_type_id'], ax=axes[0,0], kde=True).set(title='admission_type_id')\n",
    "sns.distplot(numericFeatures['discharge_disposition_id'], ax=axes[0,1], kde=True).set(title='discharge_disposition_id')\n",
    "sns.distplot(numericFeatures['admission_source_id'], ax=axes[0,2], kde=True).set(title='admission_source_id')\n",
    "sns.distplot(numericFeatures['time_in_hospital'], ax=axes[1,0], kde=True).set(title='time_in_hospital')\n",
    "sns.distplot(numericFeatures['num_lab_procedures'], ax=axes[1,1], kde=True).set(title='num_lab_procedures')\n",
    "sns.distplot(numericFeatures['num_procedures'], ax=axes[1,2], kde=False).set(title='num_procedures')\n",
    "sns.distplot(numericFeatures['num_medications'], ax=axes[2,0], kde=True).set(title='num_medications')\n",
    "sns.distplot(numericFeatures['number_outpatient'], ax=axes[2,1], kde=True).set(title='number_outpatient')\n",
    "sns.distplot(numericFeatures['number_emergency'], ax=axes[2,2], kde=False).set(title='number_emergency')\n",
    "sns.distplot(numericFeatures['number_inpatient'], ax=axes[3,0], kde=True).set(title='number_inpatient')\n",
    "sns.distplot(numericFeatures['number_diagnoses'], ax=axes[3,1], kde=True).set(title='number_diagnoses')\n",
    "\n",
    "plt.show()"
   ],
   "metadata": {
    "collapsed": false,
    "pycharm": {
     "name": "#%%\n"
    }
   }
  },
  {
   "cell_type": "code",
   "execution_count": 143,
   "outputs": [],
   "source": [
    "# sns.pairplot(numericFeatures)"
   ],
   "metadata": {
    "collapsed": false,
    "pycharm": {
     "name": "#%%\n"
    }
   }
  },
  {
   "cell_type": "markdown",
   "source": [
    "## General Data Clean-Up\n"
   ],
   "metadata": {
    "collapsed": false
   }
  },
  {
   "cell_type": "code",
   "execution_count": 144,
   "outputs": [
    {
     "name": "stdout",
     "output_type": "stream",
     "text": [
      "Count of Variables: 50\n",
      "Count of Variables without nulls: 43\n",
      "Count of Variables with null : 7\n"
     ]
    },
    {
     "data": {
      "text/plain": "             Variable Observations  Nulls  Null_Per Num_Unique    Type\n5              weight        71518  68665    96.011          9  object\n11  medical_specialty        71518  34477    48.207         70  object\n10         payer_code        71518  31043    43.406         17  object\n2                race        71518   1948     2.724          5  object\n20             diag_3        71518   1225     1.713        758  object\n19             diag_2        71518    294     0.411        725  object\n18             diag_1        71518     11     0.015        696  object",
      "text/html": "<div>\n<style scoped>\n    .dataframe tbody tr th:only-of-type {\n        vertical-align: middle;\n    }\n\n    .dataframe tbody tr th {\n        vertical-align: top;\n    }\n\n    .dataframe thead th {\n        text-align: right;\n    }\n</style>\n<table border=\"1\" class=\"dataframe\">\n  <thead>\n    <tr style=\"text-align: right;\">\n      <th></th>\n      <th>Variable</th>\n      <th>Observations</th>\n      <th>Nulls</th>\n      <th>Null_Per</th>\n      <th>Num_Unique</th>\n      <th>Type</th>\n    </tr>\n  </thead>\n  <tbody>\n    <tr>\n      <th>5</th>\n      <td>weight</td>\n      <td>71518</td>\n      <td>68665</td>\n      <td>96.011</td>\n      <td>9</td>\n      <td>object</td>\n    </tr>\n    <tr>\n      <th>11</th>\n      <td>medical_specialty</td>\n      <td>71518</td>\n      <td>34477</td>\n      <td>48.207</td>\n      <td>70</td>\n      <td>object</td>\n    </tr>\n    <tr>\n      <th>10</th>\n      <td>payer_code</td>\n      <td>71518</td>\n      <td>31043</td>\n      <td>43.406</td>\n      <td>17</td>\n      <td>object</td>\n    </tr>\n    <tr>\n      <th>2</th>\n      <td>race</td>\n      <td>71518</td>\n      <td>1948</td>\n      <td>2.724</td>\n      <td>5</td>\n      <td>object</td>\n    </tr>\n    <tr>\n      <th>20</th>\n      <td>diag_3</td>\n      <td>71518</td>\n      <td>1225</td>\n      <td>1.713</td>\n      <td>758</td>\n      <td>object</td>\n    </tr>\n    <tr>\n      <th>19</th>\n      <td>diag_2</td>\n      <td>71518</td>\n      <td>294</td>\n      <td>0.411</td>\n      <td>725</td>\n      <td>object</td>\n    </tr>\n    <tr>\n      <th>18</th>\n      <td>diag_1</td>\n      <td>71518</td>\n      <td>11</td>\n      <td>0.015</td>\n      <td>696</td>\n      <td>object</td>\n    </tr>\n  </tbody>\n</table>\n</div>"
     },
     "execution_count": 144,
     "metadata": {},
     "output_type": "execute_result"
    }
   ],
   "source": [
    "# Print Null Summary\n",
    "nullSummary = nullAnalysis(mainData)\n",
    "nullSummary"
   ],
   "metadata": {
    "collapsed": false,
    "pycharm": {
     "name": "#%%\n"
    }
   }
  },
  {
   "cell_type": "code",
   "source": [
    "# Specify Medications for Encoding\n",
    "medCols = ['metformin','repaglinide','nateglinide','chlorpropamide','glimepiride',\n",
    "            'acetohexamide','glipizide','glyburide','tolbutamide','pioglitazone',\n",
    "            'rosiglitazone','acarbose','miglitol','troglitazone','tolazamide','examide',\n",
    "            'citoglipton','insulin','glyburide.metformin','glipizide.metformin','glimepiride.pioglitazone',\n",
    "            'metformin.rosiglitazone','metformin.pioglitazone']\n",
    "\n",
    "# Set Function Params\n",
    "df_to_clean = mainData\n",
    "ordEncode_Vars = medCols\n",
    "ordEncode_order = ['No','Down','Steady','Up']\n",
    "\n",
    "cleanDF = Clean_DF_Wrapper(df_to_clean,ordEncode_Vars,ordEncode_order,medCols)\n",
    "cleanDF = Clean_ResponseVar(cleanDF)\n",
    "cleanDF.sample(5)"
   ],
   "metadata": {
    "collapsed": false,
    "pycharm": {
     "name": "#%%\n"
    }
   },
   "execution_count": 145,
   "outputs": [
    {
     "data": {
      "text/plain": "       encounter_id  patient_nbr  gender  age_10yrStart  admission_type_id  \\\n12680      87745374     15845103       0             40                  2   \n51105     107721552     84794166       1             80                  1   \n43618     278587530     65623041       1             60                  1   \n5681       98990226      3240945       0             70                  1   \n35337     161363706     46472850       1             70                  1   \n\n       discharge_disposition_id  admission_source_id  time_in_hospital  \\\n12680                         1                    1                 3   \n51105                         3                    7                 8   \n43618                         1                    7                 4   \n5681                          1                    6                 2   \n35337                         1                    7                 1   \n\n       num_lab_procedures  num_procedures  ...  med_level_direction  \\\n12680                  35               3  ...                    0   \n51105                  53               0  ...                    0   \n43618                  40               0  ...                    1   \n5681                   49               0  ...                    0   \n35337                  37               0  ...                   -1   \n\n       race__AfricanAmerican  race__Asian  race__Caucasian race__Hispanic  \\\n12680                      0            0                1              0   \n51105                      0            0                1              0   \n43618                      0            0                1              0   \n5681                       1            0                0              0   \n35337                      1            0                0              0   \n\n      race__Other race__Unknown  readmitted__<30  readmitted__>30  readmitted  \n12680           0             0                1                0           1  \n51105           0             0                1                0           1  \n43618           0             0                0                1           1  \n5681            0             0                0                0           0  \n35337           0             0                0                0           0  \n\n[5 rows x 56 columns]",
      "text/html": "<div>\n<style scoped>\n    .dataframe tbody tr th:only-of-type {\n        vertical-align: middle;\n    }\n\n    .dataframe tbody tr th {\n        vertical-align: top;\n    }\n\n    .dataframe thead th {\n        text-align: right;\n    }\n</style>\n<table border=\"1\" class=\"dataframe\">\n  <thead>\n    <tr style=\"text-align: right;\">\n      <th></th>\n      <th>encounter_id</th>\n      <th>patient_nbr</th>\n      <th>gender</th>\n      <th>age_10yrStart</th>\n      <th>admission_type_id</th>\n      <th>discharge_disposition_id</th>\n      <th>admission_source_id</th>\n      <th>time_in_hospital</th>\n      <th>num_lab_procedures</th>\n      <th>num_procedures</th>\n      <th>...</th>\n      <th>med_level_direction</th>\n      <th>race__AfricanAmerican</th>\n      <th>race__Asian</th>\n      <th>race__Caucasian</th>\n      <th>race__Hispanic</th>\n      <th>race__Other</th>\n      <th>race__Unknown</th>\n      <th>readmitted__&lt;30</th>\n      <th>readmitted__&gt;30</th>\n      <th>readmitted</th>\n    </tr>\n  </thead>\n  <tbody>\n    <tr>\n      <th>12680</th>\n      <td>87745374</td>\n      <td>15845103</td>\n      <td>0</td>\n      <td>40</td>\n      <td>2</td>\n      <td>1</td>\n      <td>1</td>\n      <td>3</td>\n      <td>35</td>\n      <td>3</td>\n      <td>...</td>\n      <td>0</td>\n      <td>0</td>\n      <td>0</td>\n      <td>1</td>\n      <td>0</td>\n      <td>0</td>\n      <td>0</td>\n      <td>1</td>\n      <td>0</td>\n      <td>1</td>\n    </tr>\n    <tr>\n      <th>51105</th>\n      <td>107721552</td>\n      <td>84794166</td>\n      <td>1</td>\n      <td>80</td>\n      <td>1</td>\n      <td>3</td>\n      <td>7</td>\n      <td>8</td>\n      <td>53</td>\n      <td>0</td>\n      <td>...</td>\n      <td>0</td>\n      <td>0</td>\n      <td>0</td>\n      <td>1</td>\n      <td>0</td>\n      <td>0</td>\n      <td>0</td>\n      <td>1</td>\n      <td>0</td>\n      <td>1</td>\n    </tr>\n    <tr>\n      <th>43618</th>\n      <td>278587530</td>\n      <td>65623041</td>\n      <td>1</td>\n      <td>60</td>\n      <td>1</td>\n      <td>1</td>\n      <td>7</td>\n      <td>4</td>\n      <td>40</td>\n      <td>0</td>\n      <td>...</td>\n      <td>1</td>\n      <td>0</td>\n      <td>0</td>\n      <td>1</td>\n      <td>0</td>\n      <td>0</td>\n      <td>0</td>\n      <td>0</td>\n      <td>1</td>\n      <td>1</td>\n    </tr>\n    <tr>\n      <th>5681</th>\n      <td>98990226</td>\n      <td>3240945</td>\n      <td>0</td>\n      <td>70</td>\n      <td>1</td>\n      <td>1</td>\n      <td>6</td>\n      <td>2</td>\n      <td>49</td>\n      <td>0</td>\n      <td>...</td>\n      <td>0</td>\n      <td>1</td>\n      <td>0</td>\n      <td>0</td>\n      <td>0</td>\n      <td>0</td>\n      <td>0</td>\n      <td>0</td>\n      <td>0</td>\n      <td>0</td>\n    </tr>\n    <tr>\n      <th>35337</th>\n      <td>161363706</td>\n      <td>46472850</td>\n      <td>1</td>\n      <td>70</td>\n      <td>1</td>\n      <td>1</td>\n      <td>7</td>\n      <td>1</td>\n      <td>37</td>\n      <td>0</td>\n      <td>...</td>\n      <td>-1</td>\n      <td>1</td>\n      <td>0</td>\n      <td>0</td>\n      <td>0</td>\n      <td>0</td>\n      <td>0</td>\n      <td>0</td>\n      <td>0</td>\n      <td>0</td>\n    </tr>\n  </tbody>\n</table>\n<p>5 rows × 56 columns</p>\n</div>"
     },
     "execution_count": 145,
     "metadata": {},
     "output_type": "execute_result"
    }
   ]
  },
  {
   "cell_type": "code",
   "execution_count": 146,
   "outputs": [
    {
     "name": "stdout",
     "output_type": "stream",
     "text": [
      "Count of Variables: 56\n",
      "Count of Variables without nulls: 54\n",
      "Count of Variables with null : 2\n"
     ]
    },
    {
     "data": {
      "text/plain": "   Variable Observations Nulls  Null_Per Num_Unique    Type\n16   diag_3        70433  1224     1.738        757  object\n15   diag_2        70433   243     0.345        724  object",
      "text/html": "<div>\n<style scoped>\n    .dataframe tbody tr th:only-of-type {\n        vertical-align: middle;\n    }\n\n    .dataframe tbody tr th {\n        vertical-align: top;\n    }\n\n    .dataframe thead th {\n        text-align: right;\n    }\n</style>\n<table border=\"1\" class=\"dataframe\">\n  <thead>\n    <tr style=\"text-align: right;\">\n      <th></th>\n      <th>Variable</th>\n      <th>Observations</th>\n      <th>Nulls</th>\n      <th>Null_Per</th>\n      <th>Num_Unique</th>\n      <th>Type</th>\n    </tr>\n  </thead>\n  <tbody>\n    <tr>\n      <th>16</th>\n      <td>diag_3</td>\n      <td>70433</td>\n      <td>1224</td>\n      <td>1.738</td>\n      <td>757</td>\n      <td>object</td>\n    </tr>\n    <tr>\n      <th>15</th>\n      <td>diag_2</td>\n      <td>70433</td>\n      <td>243</td>\n      <td>0.345</td>\n      <td>724</td>\n      <td>object</td>\n    </tr>\n  </tbody>\n</table>\n</div>"
     },
     "execution_count": 146,
     "metadata": {},
     "output_type": "execute_result"
    }
   ],
   "source": [
    "# Re-Run Null Summary\n",
    "nullSummary = nullAnalysis(cleanDF)\n",
    "nullSummary"
   ],
   "metadata": {
    "collapsed": false,
    "pycharm": {
     "name": "#%%\n"
    }
   }
  },
  {
   "cell_type": "markdown",
   "source": [
    "### Join Datasets -- Replace Look-Up Values With Literal Values"
   ],
   "metadata": {
    "collapsed": false
   }
  },
  {
   "cell_type": "code",
   "execution_count": 147,
   "outputs": [
    {
     "data": {
      "text/plain": "   encounter_id  patient_nbr  gender  age_10yrStart  admission_type_id  \\\n0      24437208          135       0             50                  2   \n1      60254142         1314       0             40                  2   \n\n  admission_type_value  discharge_disposition_id  admission_source_id  \\\n0               Urgent                         1                    1   \n1               Urgent                         1                    1   \n\n   time_in_hospital  num_lab_procedures  ...  med_level_direction  \\\n0                 8                  77  ...                   -1   \n1                 2                  50  ...                    0   \n\n   race__AfricanAmerican  race__Asian  race__Caucasian  race__Hispanic  \\\n0                      0            0                1               0   \n1                      0            0                1               0   \n\n  race__Other race__Unknown readmitted__<30  readmitted__>30  readmitted  \n0           0             0               1                0           1  \n1           0             0               0                1           1  \n\n[2 rows x 57 columns]",
      "text/html": "<div>\n<style scoped>\n    .dataframe tbody tr th:only-of-type {\n        vertical-align: middle;\n    }\n\n    .dataframe tbody tr th {\n        vertical-align: top;\n    }\n\n    .dataframe thead th {\n        text-align: right;\n    }\n</style>\n<table border=\"1\" class=\"dataframe\">\n  <thead>\n    <tr style=\"text-align: right;\">\n      <th></th>\n      <th>encounter_id</th>\n      <th>patient_nbr</th>\n      <th>gender</th>\n      <th>age_10yrStart</th>\n      <th>admission_type_id</th>\n      <th>admission_type_value</th>\n      <th>discharge_disposition_id</th>\n      <th>admission_source_id</th>\n      <th>time_in_hospital</th>\n      <th>num_lab_procedures</th>\n      <th>...</th>\n      <th>med_level_direction</th>\n      <th>race__AfricanAmerican</th>\n      <th>race__Asian</th>\n      <th>race__Caucasian</th>\n      <th>race__Hispanic</th>\n      <th>race__Other</th>\n      <th>race__Unknown</th>\n      <th>readmitted__&lt;30</th>\n      <th>readmitted__&gt;30</th>\n      <th>readmitted</th>\n    </tr>\n  </thead>\n  <tbody>\n    <tr>\n      <th>0</th>\n      <td>24437208</td>\n      <td>135</td>\n      <td>0</td>\n      <td>50</td>\n      <td>2</td>\n      <td>Urgent</td>\n      <td>1</td>\n      <td>1</td>\n      <td>8</td>\n      <td>77</td>\n      <td>...</td>\n      <td>-1</td>\n      <td>0</td>\n      <td>0</td>\n      <td>1</td>\n      <td>0</td>\n      <td>0</td>\n      <td>0</td>\n      <td>1</td>\n      <td>0</td>\n      <td>1</td>\n    </tr>\n    <tr>\n      <th>1</th>\n      <td>60254142</td>\n      <td>1314</td>\n      <td>0</td>\n      <td>40</td>\n      <td>2</td>\n      <td>Urgent</td>\n      <td>1</td>\n      <td>1</td>\n      <td>2</td>\n      <td>50</td>\n      <td>...</td>\n      <td>0</td>\n      <td>0</td>\n      <td>0</td>\n      <td>1</td>\n      <td>0</td>\n      <td>0</td>\n      <td>0</td>\n      <td>0</td>\n      <td>1</td>\n      <td>1</td>\n    </tr>\n  </tbody>\n</table>\n<p>2 rows × 57 columns</p>\n</div>"
     },
     "execution_count": 147,
     "metadata": {},
     "output_type": "execute_result"
    }
   ],
   "source": [
    "# Add Admission Type Values (Note: Did not drop ID)\n",
    "\n",
    "# Add Column\n",
    "cleanDF.insert(5,\"admission_type_value\", 0)\n",
    "\n",
    "# Left Join\n",
    "cleanDF = pd.merge(cleanDF,admissionTypeLookUp,on='admission_type_id')\n",
    "\n",
    "# Replace Values\n",
    "cleanDF['admission_type_value'] = cleanDF['description']\n",
    "cleanDF = cleanDF.drop(columns=['description'])\n",
    "cleanDF.head(2)\n",
    "\n"
   ],
   "metadata": {
    "collapsed": false,
    "pycharm": {
     "name": "#%%\n"
    }
   }
  },
  {
   "cell_type": "markdown",
   "source": [
    "# Run Models"
   ],
   "metadata": {
    "collapsed": false
   }
  },
  {
   "cell_type": "code",
   "execution_count": 148,
   "outputs": [],
   "source": [
    "# create copy of mainData\n",
    "tempModelingDF = cleanDF"
   ],
   "metadata": {
    "collapsed": false,
    "pycharm": {
     "name": "#%%\n"
    }
   }
  },
  {
   "cell_type": "markdown",
   "source": [
    "## Prep -- Split Data\n",
    "TODO: This is the wrong place - should be earlier in the code - adding here for now to just get the models working\n",
    "and because I was confused by where to split based on needing to clean the response variable (ie should I split twice)\n",
    "\n",
    "TODO: Don't yet know how to deal with multiple response variables.  First pass will keep it simple and only predict\n",
    "if readmitted is yes/no.  Will need to add timeline response variables later"
   ],
   "metadata": {
    "collapsed": false
   }
  },
  {
   "cell_type": "code",
   "execution_count": 149,
   "outputs": [],
   "source": [
    "# Drop columns that are not needed\n",
    "varsToDrop = ['admission_type_id','admission_source_id','admission_type_value','discharge_disposition_id',\n",
    "              'diag_1','diag_2','diag_3',] # These are variables w/o encoding or appropriate feature engineering\n",
    "\n",
    "tempModelingDF = tempModelingDF.drop(columns=varsToDrop)\n",
    "\n",
    "# Parking Lot -- Features removed from drop list\n",
    "# 'A1Cresult','max_glu_serum', 'time_in_hospital','num_lab_procedures','num_procedures','num_medications',\n",
    "# 'number_outpatient','number_emergency','number_inpatient','number_diagnoses','diabetesMed',\n",
    "# 'change', 'gender', 'age_10yrStart'\n",
    "\n",
    "# Identifiers to Drop\n",
    "tempModelingDF = tempModelingDF.drop(columns=['encounter_id','patient_nbr',])\n",
    "\n",
    "# TEMP - Additional Response Vars to Drop\n",
    "tempModelingDF = tempModelingDF.drop(columns=['readmitted__<30','readmitted__>30'])"
   ],
   "metadata": {
    "collapsed": false,
    "pycharm": {
     "name": "#%%\n"
    }
   }
  },
  {
   "cell_type": "code",
   "execution_count": 150,
   "outputs": [],
   "source": [
    "# Set or Reset Test/Train Split\n",
    "# Params\n",
    "df=tempModelingDF #TODO - Change From temp DF\n",
    "ResponseVar = 'readmitted' #TODO - Change from single response variable\n",
    "PredictorVar = df.columns.values.tolist()\n",
    "PredictorVar.remove(ResponseVar)\n",
    "\n",
    "# Function Call To prep train/test\n",
    "x_train, x_test, y_train, y_test  = testTrainSplit(df, PredictorVar, ResponseVar)"
   ],
   "metadata": {
    "collapsed": false,
    "pycharm": {
     "name": "#%%\n"
    }
   }
  },
  {
   "cell_type": "code",
   "execution_count": 151,
   "outputs": [
    {
     "name": "stdout",
     "output_type": "stream",
     "text": [
      "Complete List of Predicator Vars:\n"
     ]
    },
    {
     "data": {
      "text/plain": "['gender',\n 'age_10yrStart',\n 'time_in_hospital',\n 'num_lab_procedures',\n 'num_procedures',\n 'num_medications',\n 'number_outpatient',\n 'number_emergency',\n 'number_inpatient',\n 'number_diagnoses',\n 'max_glu_serum',\n 'A1Cresult',\n 'metformin',\n 'repaglinide',\n 'nateglinide',\n 'chlorpropamide',\n 'glimepiride',\n 'acetohexamide',\n 'glipizide',\n 'glyburide',\n 'tolbutamide',\n 'pioglitazone',\n 'rosiglitazone',\n 'acarbose',\n 'miglitol',\n 'troglitazone',\n 'tolazamide',\n 'examide',\n 'citoglipton',\n 'insulin',\n 'glyburide.metformin',\n 'glipizide.metformin',\n 'glimepiride.pioglitazone',\n 'metformin.rosiglitazone',\n 'metformin.pioglitazone',\n 'change',\n 'diabetesMed',\n 'num_of_meds',\n 'med_level_direction',\n 'race__AfricanAmerican',\n 'race__Asian',\n 'race__Caucasian',\n 'race__Hispanic',\n 'race__Other',\n 'race__Unknown']"
     },
     "execution_count": 151,
     "metadata": {},
     "output_type": "execute_result"
    }
   ],
   "source": [
    "print(\"Complete List of Predicator Vars:\")\n",
    "PredictorVar"
   ],
   "metadata": {
    "collapsed": false,
    "pycharm": {
     "name": "#%%\n"
    }
   }
  },
  {
   "cell_type": "markdown",
   "source": [
    "## Prep -- Run PCA on Cont. Numeric Features\n",
    "Create function for PCA and run on both training/ test sets and merge back to sets for use in models"
   ],
   "metadata": {
    "collapsed": false
   }
  },
  {
   "cell_type": "code",
   "execution_count": 152,
   "outputs": [
    {
     "data": {
      "text/plain": "<Figure size 1080x648 with 2 Axes>",
      "image/png": "[encoded data removed]"
     },
     "metadata": {},
     "output_type": "display_data"
    }
   ],
   "source": [
    "# PCA Pre-Run on Complete Dataframe to Identify right Hyperparams\n",
    "df = tempModelingDF\n",
    "PCA_relevant_features = ['age_10yrStart','time_in_hospital','num_lab_procedures',\n",
    "                    'num_medications','number_outpatient','number_emergency','number_inpatient',\n",
    "                    'number_diagnoses']\n",
    "# parking lot: 'num_procedures','num_of_meds'\n",
    "PCA_ResponseVar = 'readmitted'\n",
    "\n",
    "PCA_PreProcess_Elbow(df,PCA_relevant_features,PCA_ResponseVar)\n",
    "plt.show()\n"
   ],
   "metadata": {
    "collapsed": false,
    "pycharm": {
     "name": "#%%\n"
    }
   }
  },
  {
   "cell_type": "code",
   "execution_count": 190,
   "outputs": [],
   "source": [
    "# Run PCA on a given set after determined optimal number of features (m) w/ the Pre-Process Function.\n",
    "## TODO: BUG! Dont' know why I'm getting a bunch of NAN's for certain rows\n",
    "\n",
    "def PCA_Actual(set,PCA_relevant_features,numFeatures):\n",
    "    # Make a temp set w/ just PCA_PredictorVars\n",
    "    tempSet = set[PCA_relevant_features]\n",
    "    # PCA -- Run Actual on Set w/ Num Features Defined On Temp Set -- Produce Array\n",
    "    pca_BestM = PCA(n_components=numFeatures, random_state=1)\n",
    "    X_scaled = scale(tempSet)\n",
    "    pca_BestM.fit(X_scaled)\n",
    "    X_pca_bestM = pca_BestM.transform(X_scaled)\n",
    "    # Convert Array into DF\n",
    "    PC_Cols = []\n",
    "    for i in range(numFeatures):\n",
    "        num=str(i+1)\n",
    "        PC_Cols.append(\"PC\"+num)\n",
    "    PCA_ResultsDF = pd.DataFrame(X_pca_bestM, columns=PC_Cols)\n",
    "    set = set.join(PCA_ResultsDF)\n",
    "    # Drop PredictorVars -- replace w/ P.C\n",
    "    set = set.drop(columns=PCA_relevant_features)\n",
    "    return set"
   ],
   "metadata": {
    "collapsed": false,
    "pycharm": {
     "name": "#%%\n"
    }
   }
  },
  {
   "cell_type": "code",
   "execution_count": 191,
   "outputs": [
    {
     "data": {
      "text/plain": "       gender  num_procedures  max_glu_serum  A1Cresult  metformin  \\\n38772       1               0              0          0        2.0   \n13325       0               1              0          0        2.0   \n2255        1               1              0          1        0.0   \n696         0               3              0          0        0.0   \n54601       0               0              0          0        0.0   \n...       ...             ...            ...        ...        ...   \n2997        0               1              0          2        2.0   \n34690       1               0              0          1        0.0   \n12681       0               0              0          0        0.0   \n34458       0               3              0          2        0.0   \n31920       1               2              0          0        0.0   \n\n       repaglinide  nateglinide  chlorpropamide  glimepiride  acetohexamide  \\\n38772          0.0          0.0             0.0          0.0            0.0   \n13325          0.0          0.0             0.0          0.0            0.0   \n2255           0.0          0.0             0.0          0.0            0.0   \n696            0.0          0.0             0.0          0.0            0.0   \n54601          0.0          0.0             0.0          0.0            0.0   \n...            ...          ...             ...          ...            ...   \n2997           0.0          0.0             0.0          0.0            0.0   \n34690          2.0          0.0             0.0          0.0            0.0   \n12681          0.0          0.0             0.0          0.0            0.0   \n34458          0.0          0.0             0.0          0.0            0.0   \n31920          0.0          0.0             0.0          0.0            0.0   \n\n       ...  num_of_meds  med_level_direction  race__AfricanAmerican  \\\n38772  ...            1                    0                      0   \n13325  ...            3                    1                      1   \n2255   ...            0                    0                      0   \n696    ...            1                    0                      0   \n54601  ...            1                    0                      0   \n...    ...          ...                  ...                    ...   \n2997   ...            4                    1                      0   \n34690  ...            4                   -1                      1   \n12681  ...            1                    0                      0   \n34458  ...            1                   -1                      0   \n31920  ...            0                    0                      0   \n\n       race__Asian  race__Caucasian  race__Hispanic  race__Other  \\\n38772            0                1               0            0   \n13325            0                0               0            0   \n2255             0                0               1            0   \n696              0                1               0            0   \n54601            0                1               0            0   \n...            ...              ...             ...          ...   \n2997             0                0               0            0   \n34690            0                0               0            0   \n12681            0                1               0            0   \n34458            0                1               0            0   \n31920            0                1               0            0   \n\n       race__Unknown       PC1       PC2  \n38772              0       NaN       NaN  \n13325              0  0.056364  0.723734  \n2255               0  0.101137 -0.365906  \n696                0  1.134394 -0.827144  \n54601              0       NaN       NaN  \n...              ...       ...       ...  \n2997               1  0.108085 -0.409590  \n34690              0       NaN       NaN  \n12681              0 -0.075401 -0.408532  \n34458              0       NaN       NaN  \n31920              0       NaN       NaN  \n\n[14087 rows x 39 columns]",
      "text/html": "<div>\n<style scoped>\n    .dataframe tbody tr th:only-of-type {\n        vertical-align: middle;\n    }\n\n    .dataframe tbody tr th {\n        vertical-align: top;\n    }\n\n    .dataframe thead th {\n        text-align: right;\n    }\n</style>\n<table border=\"1\" class=\"dataframe\">\n  <thead>\n    <tr style=\"text-align: right;\">\n      <th></th>\n      <th>gender</th>\n      <th>num_procedures</th>\n      <th>max_glu_serum</th>\n      <th>A1Cresult</th>\n      <th>metformin</th>\n      <th>repaglinide</th>\n      <th>nateglinide</th>\n      <th>chlorpropamide</th>\n      <th>glimepiride</th>\n      <th>acetohexamide</th>\n      <th>...</th>\n      <th>num_of_meds</th>\n      <th>med_level_direction</th>\n      <th>race__AfricanAmerican</th>\n      <th>race__Asian</th>\n      <th>race__Caucasian</th>\n      <th>race__Hispanic</th>\n      <th>race__Other</th>\n      <th>race__Unknown</th>\n      <th>PC1</th>\n      <th>PC2</th>\n    </tr>\n  </thead>\n  <tbody>\n    <tr>\n      <th>38772</th>\n      <td>1</td>\n      <td>0</td>\n      <td>0</td>\n      <td>0</td>\n      <td>2.0</td>\n      <td>0.0</td>\n      <td>0.0</td>\n      <td>0.0</td>\n      <td>0.0</td>\n      <td>0.0</td>\n      <td>...</td>\n      <td>1</td>\n      <td>0</td>\n      <td>0</td>\n      <td>0</td>\n      <td>1</td>\n      <td>0</td>\n      <td>0</td>\n      <td>0</td>\n      <td>NaN</td>\n      <td>NaN</td>\n    </tr>\n    <tr>\n      <th>13325</th>\n      <td>0</td>\n      <td>1</td>\n      <td>0</td>\n      <td>0</td>\n      <td>2.0</td>\n      <td>0.0</td>\n      <td>0.0</td>\n      <td>0.0</td>\n      <td>0.0</td>\n      <td>0.0</td>\n      <td>...</td>\n      <td>3</td>\n      <td>1</td>\n      <td>1</td>\n      <td>0</td>\n      <td>0</td>\n      <td>0</td>\n      <td>0</td>\n      <td>0</td>\n      <td>0.056364</td>\n      <td>0.723734</td>\n    </tr>\n    <tr>\n      <th>2255</th>\n      <td>1</td>\n      <td>1</td>\n      <td>0</td>\n      <td>1</td>\n      <td>0.0</td>\n      <td>0.0</td>\n      <td>0.0</td>\n      <td>0.0</td>\n      <td>0.0</td>\n      <td>0.0</td>\n      <td>...</td>\n      <td>0</td>\n      <td>0</td>\n      <td>0</td>\n      <td>0</td>\n      <td>0</td>\n      <td>1</td>\n      <td>0</td>\n      <td>0</td>\n      <td>0.101137</td>\n      <td>-0.365906</td>\n    </tr>\n    <tr>\n      <th>696</th>\n      <td>0</td>\n      <td>3</td>\n      <td>0</td>\n      <td>0</td>\n      <td>0.0</td>\n      <td>0.0</td>\n      <td>0.0</td>\n      <td>0.0</td>\n      <td>0.0</td>\n      <td>0.0</td>\n      <td>...</td>\n      <td>1</td>\n      <td>0</td>\n      <td>0</td>\n      <td>0</td>\n      <td>1</td>\n      <td>0</td>\n      <td>0</td>\n      <td>0</td>\n      <td>1.134394</td>\n      <td>-0.827144</td>\n    </tr>\n    <tr>\n      <th>54601</th>\n      <td>0</td>\n      <td>0</td>\n      <td>0</td>\n      <td>0</td>\n      <td>0.0</td>\n      <td>0.0</td>\n      <td>0.0</td>\n      <td>0.0</td>\n      <td>0.0</td>\n      <td>0.0</td>\n      <td>...</td>\n      <td>1</td>\n      <td>0</td>\n      <td>0</td>\n      <td>0</td>\n      <td>1</td>\n      <td>0</td>\n      <td>0</td>\n      <td>0</td>\n      <td>NaN</td>\n      <td>NaN</td>\n    </tr>\n    <tr>\n      <th>...</th>\n      <td>...</td>\n      <td>...</td>\n      <td>...</td>\n      <td>...</td>\n      <td>...</td>\n      <td>...</td>\n      <td>...</td>\n      <td>...</td>\n      <td>...</td>\n      <td>...</td>\n      <td>...</td>\n      <td>...</td>\n      <td>...</td>\n      <td>...</td>\n      <td>...</td>\n      <td>...</td>\n      <td>...</td>\n      <td>...</td>\n      <td>...</td>\n      <td>...</td>\n      <td>...</td>\n    </tr>\n    <tr>\n      <th>2997</th>\n      <td>0</td>\n      <td>1</td>\n      <td>0</td>\n      <td>2</td>\n      <td>2.0</td>\n      <td>0.0</td>\n      <td>0.0</td>\n      <td>0.0</td>\n      <td>0.0</td>\n      <td>0.0</td>\n      <td>...</td>\n      <td>4</td>\n      <td>1</td>\n      <td>0</td>\n      <td>0</td>\n      <td>0</td>\n      <td>0</td>\n      <td>0</td>\n      <td>1</td>\n      <td>0.108085</td>\n      <td>-0.409590</td>\n    </tr>\n    <tr>\n      <th>34690</th>\n      <td>1</td>\n      <td>0</td>\n      <td>0</td>\n      <td>1</td>\n      <td>0.0</td>\n      <td>2.0</td>\n      <td>0.0</td>\n      <td>0.0</td>\n      <td>0.0</td>\n      <td>0.0</td>\n      <td>...</td>\n      <td>4</td>\n      <td>-1</td>\n      <td>1</td>\n      <td>0</td>\n      <td>0</td>\n      <td>0</td>\n      <td>0</td>\n      <td>0</td>\n      <td>NaN</td>\n      <td>NaN</td>\n    </tr>\n    <tr>\n      <th>12681</th>\n      <td>0</td>\n      <td>0</td>\n      <td>0</td>\n      <td>0</td>\n      <td>0.0</td>\n      <td>0.0</td>\n      <td>0.0</td>\n      <td>0.0</td>\n      <td>0.0</td>\n      <td>0.0</td>\n      <td>...</td>\n      <td>1</td>\n      <td>0</td>\n      <td>0</td>\n      <td>0</td>\n      <td>1</td>\n      <td>0</td>\n      <td>0</td>\n      <td>0</td>\n      <td>-0.075401</td>\n      <td>-0.408532</td>\n    </tr>\n    <tr>\n      <th>34458</th>\n      <td>0</td>\n      <td>3</td>\n      <td>0</td>\n      <td>2</td>\n      <td>0.0</td>\n      <td>0.0</td>\n      <td>0.0</td>\n      <td>0.0</td>\n      <td>0.0</td>\n      <td>0.0</td>\n      <td>...</td>\n      <td>1</td>\n      <td>-1</td>\n      <td>0</td>\n      <td>0</td>\n      <td>1</td>\n      <td>0</td>\n      <td>0</td>\n      <td>0</td>\n      <td>NaN</td>\n      <td>NaN</td>\n    </tr>\n    <tr>\n      <th>31920</th>\n      <td>1</td>\n      <td>2</td>\n      <td>0</td>\n      <td>0</td>\n      <td>0.0</td>\n      <td>0.0</td>\n      <td>0.0</td>\n      <td>0.0</td>\n      <td>0.0</td>\n      <td>0.0</td>\n      <td>...</td>\n      <td>0</td>\n      <td>0</td>\n      <td>0</td>\n      <td>0</td>\n      <td>1</td>\n      <td>0</td>\n      <td>0</td>\n      <td>0</td>\n      <td>NaN</td>\n      <td>NaN</td>\n    </tr>\n  </tbody>\n</table>\n<p>14087 rows × 39 columns</p>\n</div>"
     },
     "execution_count": 191,
     "metadata": {},
     "output_type": "execute_result"
    }
   ],
   "source": [
    "PCA_ResultsDF = PCA_Actual(x_test,PCA_relevant_features,2) # set, features for PCA, number of P.Cs\n",
    "PCA_ResultsDF"
   ],
   "metadata": {
    "collapsed": false,
    "pycharm": {
     "name": "#%%\n"
    }
   }
  },
  {
   "cell_type": "code",
   "execution_count": 192,
   "outputs": [
    {
     "name": "stdout",
     "output_type": "stream",
     "text": [
      "gender                      False\n",
      "num_procedures              False\n",
      "max_glu_serum               False\n",
      "A1Cresult                   False\n",
      "metformin                   False\n",
      "repaglinide                 False\n",
      "nateglinide                 False\n",
      "chlorpropamide              False\n",
      "glimepiride                 False\n",
      "acetohexamide               False\n",
      "glipizide                   False\n",
      "glyburide                   False\n",
      "tolbutamide                 False\n",
      "pioglitazone                False\n",
      "rosiglitazone               False\n",
      "acarbose                    False\n",
      "miglitol                    False\n",
      "troglitazone                False\n",
      "tolazamide                  False\n",
      "examide                     False\n",
      "citoglipton                 False\n",
      "insulin                     False\n",
      "glyburide.metformin         False\n",
      "glipizide.metformin         False\n",
      "glimepiride.pioglitazone    False\n",
      "metformin.rosiglitazone     False\n",
      "metformin.pioglitazone      False\n",
      "change                      False\n",
      "diabetesMed                 False\n",
      "num_of_meds                 False\n",
      "med_level_direction         False\n",
      "race__AfricanAmerican       False\n",
      "race__Asian                 False\n",
      "race__Caucasian             False\n",
      "race__Hispanic              False\n",
      "race__Other                 False\n",
      "race__Unknown               False\n",
      "PC1                         False\n",
      "PC2                         False\n",
      "dtype: bool\n"
     ]
    }
   ],
   "source": [
    "# DEBUG TEMP\n",
    "array_sum = np.sum(PCA_ResultsDF)\n",
    "array_has_nan = np.isnan(array_sum)\n",
    "print(array_has_nan)"
   ],
   "metadata": {
    "collapsed": false,
    "pycharm": {
     "name": "#%%\n"
    }
   }
  },
  {
   "cell_type": "code",
   "execution_count": 193,
   "outputs": [
    {
     "name": "stdout",
     "output_type": "stream",
     "text": [
      "Shape of Source:\n",
      "(14087, 45)\n",
      "\n",
      "Nulls From Source:\n",
      "age_10yrStart         0\n",
      "time_in_hospital      0\n",
      "num_lab_procedures    0\n",
      "num_medications       0\n",
      "number_outpatient     0\n",
      "number_emergency      0\n",
      "number_inpatient      0\n",
      "number_diagnoses      0\n",
      "dtype: int64\n",
      "\n",
      "Unique Counts:\n",
      "age_10yrStart          10\n",
      "time_in_hospital       14\n",
      "num_lab_procedures    116\n",
      "num_medications        75\n",
      "number_outpatient      33\n",
      "number_emergency       18\n",
      "number_inpatient       13\n",
      "number_diagnoses       16\n",
      "dtype: int64\n",
      "\n",
      "Shape of  Result:\n",
      "(14087, 39)\n",
      "\n",
      "Nulls From PC1:\n",
      "11301\n",
      "\n",
      "Nulls From PC2:\n",
      "11301\n"
     ]
    }
   ],
   "source": [
    "# DEBUG TEMP:\n",
    "print(\"Shape of Source:\")\n",
    "print(x_test.shape)\n",
    "print()\n",
    "print(\"Nulls From Source:\")\n",
    "print(tempModelingDF[PCA_relevant_features].isnull().sum())\n",
    "print()\n",
    "print(\"Unique Counts:\")\n",
    "print(tempModelingDF[PCA_relevant_features].nunique())\n",
    "print()\n",
    "print(\"Shape of  Result:\")\n",
    "print(PCA_ResultsDF.shape)\n",
    "print()\n",
    "print(\"Nulls From PC1:\")\n",
    "print(PCA_ResultsDF['PC1'].isnull().sum())\n",
    "print()\n",
    "print(\"Nulls From PC2:\")\n",
    "print(PCA_ResultsDF['PC2'].isnull().sum())"
   ],
   "metadata": {
    "collapsed": false,
    "pycharm": {
     "name": "#%%\n"
    }
   }
  },
  {
   "cell_type": "markdown",
   "source": [
    "## Prep -- (POSSIBLE TBD) Run clustering on categorical vars (like meds) and add cluster ID back to df\n",
    "Create function for PCA and run on both training/ test sets and merge back to sets for use in models"
   ],
   "metadata": {
    "collapsed": false
   }
  },
  {
   "cell_type": "markdown",
   "source": [
    "## Random Forest"
   ],
   "metadata": {
    "collapsed": false
   }
  },
  {
   "cell_type": "code",
   "execution_count": null,
   "outputs": [],
   "source": [
    "# Random Forest\n",
    "## Set and Fit Model\n",
    "rndClf = RandomForestClassifier(n_estimators=1000, max_leaf_nodes=32,n_jobs=-1)\n",
    "rndClf.fit(x_train,y_train)\n",
    "\n",
    "## Make Predictions\n",
    "y_pred = rndClf.predict(x_test)"
   ],
   "metadata": {
    "collapsed": false,
    "pycharm": {
     "name": "#%%\n"
    }
   }
  },
  {
   "cell_type": "code",
   "execution_count": null,
   "outputs": [],
   "source": [
    "# Random Forest -- Plot CM\n",
    "regObj = rndClf # update mode\n",
    "cm_y_test = y_test\n",
    "cm_y_pred = y_pred # Update yPred\n",
    "cm_x_test = x_test\n",
    "\n",
    "cm, score = createConfMatrix(regObj,cm_y_test, cm_y_pred, cm_x_test)\n",
    "\n",
    "# plot result\n",
    "plt.figure(figsize=(9,9))\n",
    "fig= sns.heatmap(cm, annot=True, fmt=\".3f\", linewidths=.5, square = True, cmap = 'Reds');\n",
    "all_sample_title = \"Accuracy Score: \" + score.astype('str')\n",
    "plt.title(all_sample_title, size = 15);"
   ],
   "metadata": {
    "collapsed": false,
    "pycharm": {
     "name": "#%%\n"
    }
   }
  },
  {
   "cell_type": "code",
   "execution_count": null,
   "outputs": [],
   "source": [
    "# Random Forest -- Precision/Recall Scores\n",
    "\n",
    "## Set Params\n",
    "scores_y_test = y_test\n",
    "scores_y_pred = y_pred # Update yPred\n",
    "\n",
    "## Call Function\n",
    "precision, recall, f1 = precisionRecall(scores_y_test, scores_y_pred)\n",
    "\n",
    "## Print\n",
    "print(f\"Precision:\",precision)\n",
    "print(f\"Recall:\",recall)\n",
    "print(f\"F1:\",f1)\n"
   ],
   "metadata": {
    "collapsed": false,
    "pycharm": {
     "name": "#%%\n"
    }
   }
  },
  {
   "cell_type": "code",
   "execution_count": null,
   "outputs": [],
   "source": [
    "# ROC Curve/ AUC Score\n",
    "## Set Params\n",
    "model = rndClf\n",
    "roc_x_test = x_test\n",
    "roc_y_test = y_test # Update yPred\n",
    "\n",
    "## Call Function\n",
    "ROC_Curve_Plot(model,roc_x_test, roc_y_test)\n",
    "plt.show()"
   ],
   "metadata": {
    "collapsed": false,
    "pycharm": {
     "name": "#%%\n"
    }
   }
  },
  {
   "cell_type": "code",
   "execution_count": null,
   "outputs": [],
   "source": [
    "# Random Forest -- Feature Importance -- Plot Most Important Features\n",
    "feature_importances, fig = FeatureImportance(rndClf)\n",
    "fig.show()"
   ],
   "metadata": {
    "collapsed": false,
    "pycharm": {
     "name": "#%%\n"
    }
   }
  },
  {
   "cell_type": "markdown",
   "source": [
    "## Gradient Boosting"
   ],
   "metadata": {
    "collapsed": false
   }
  },
  {
   "cell_type": "markdown",
   "source": [
    "## Neural Network\n"
   ],
   "metadata": {
    "collapsed": false
   }
  },
  {
   "cell_type": "markdown",
   "source": [
    "## K-Means Clustering"
   ],
   "metadata": {
    "collapsed": false
   }
  },
  {
   "cell_type": "code",
   "execution_count": null,
   "outputs": [],
   "source": [
    "# Make a copy of the DF\n",
    "k_means_df = tempModelingDF\n",
    "k_means_df = k_means_df.drop(columns=['readmitted'])\n"
   ],
   "metadata": {
    "collapsed": false,
    "pycharm": {
     "name": "#%%\n"
    }
   }
  },
  {
   "cell_type": "code",
   "execution_count": null,
   "outputs": [],
   "source": [
    "# Call Elbow Plot Function\n",
    "KMeansElbowPlot(k_means_df)\n",
    "plt.show()"
   ],
   "metadata": {
    "collapsed": false,
    "pycharm": {
     "name": "#%%\n"
    }
   }
  },
  {
   "cell_type": "code",
   "execution_count": null,
   "outputs": [],
   "source": [
    "# K-Means - set number of clusters based on elbow\n",
    "km = KMeans(n_clusters=4)\n",
    "km"
   ],
   "metadata": {
    "collapsed": false,
    "pycharm": {
     "name": "#%%\n"
    }
   }
  },
  {
   "cell_type": "code",
   "execution_count": null,
   "outputs": [],
   "source": [
    "# Scale Data using min max scaler\n",
    "\n",
    "scaler = MinMaxScaler()\n",
    "colNames = k_means_df.columns.values.tolist()\n",
    "\n",
    "for column in k_means_df[colNames]:\n",
    "    scaler.fit(k_means_df[[column]])\n",
    "    k_means_df[column] = scaler.transform(k_means_df[[column]])\n",
    "\n",
    "k_means_df.head()"
   ],
   "metadata": {
    "collapsed": false,
    "pycharm": {
     "name": "#%%\n"
    }
   }
  },
  {
   "cell_type": "code",
   "execution_count": null,
   "outputs": [],
   "source": [
    "# Re-Train Dataset using Scaled Data\n",
    "y_predicted = km.fit_predict(k_means_df[colNames])\n",
    "k_means_df['Cluster'] = y_predicted\n",
    "k_means_df['Cluster'].value_counts(dropna=False)"
   ],
   "metadata": {
    "collapsed": false,
    "pycharm": {
     "name": "#%%\n"
    }
   }
  },
  {
   "cell_type": "code",
   "execution_count": null,
   "outputs": [],
   "source": [
    "# Show Centroid Clusters\n",
    "clusters = km.cluster_centers_\n",
    "clusters"
   ],
   "metadata": {
    "collapsed": false,
    "pycharm": {
     "name": "#%%\n"
    }
   }
  },
  {
   "cell_type": "code",
   "execution_count": null,
   "outputs": [],
   "source": [
    "#Merge clusters (\"Temp\") back with the preserved original DF\n",
    "tempModelingDF = pd.merge(tempModelingDF, k_means_df[['Cluster']], left_index=True, right_index=True)\n",
    "tempModelingDF.head()"
   ],
   "metadata": {
    "collapsed": false,
    "pycharm": {
     "name": "#%%\n"
    }
   }
  },
  {
   "cell_type": "code",
   "execution_count": null,
   "outputs": [],
   "source": [
    "# TODO -- Need to refactor, useless right now.\n",
    "\n",
    "# Replot on scatterplot using scaled data -- Include Centroid Clusters\n",
    "# Set each cluster as a dataframe\n",
    "cluster0 = tempModelingDF[tempModelingDF['Cluster'] == 0]\n",
    "cluster1 = tempModelingDF[tempModelingDF['Cluster'] == 1]\n",
    "cluster2 = tempModelingDF[tempModelingDF['Cluster'] == 2]\n",
    "cluster3 = tempModelingDF[tempModelingDF['Cluster'] == 3]\n",
    "\n",
    "fig_dims = (15, 9)\n",
    "fig, ax = plt.subplots(figsize=fig_dims)\n",
    "\n",
    "plt.scatter(tempModelingDF['readmitted'],tempModelingDF['Cluster'], color='blue',alpha=0.2)\n",
    "#plt.scatter(cluster1['readmitted'],cluster1['Cluster'], color='green',alpha=0.2)\n",
    "#plt.scatter(cluster2['readmitted'],cluster2['Cluster'], color='yellow',alpha=0.2)\n",
    "#plt.scatter(cluster3['readmitted'],cluster2['Cluster'], color='orange',alpha=0.2)\n",
    "#plt.scatter(km.cluster_centers_[:,0],km.cluster_centers_[:,1],color='red',marker='*', label='centroid')\n",
    "\n",
    "plt.xlabel('PhoneCoTenure')\n",
    "plt.ylabel('AvgCorePurchases')\n",
    "plt.legend()"
   ],
   "metadata": {
    "collapsed": false,
    "pycharm": {
     "name": "#%%\n"
    }
   }
  },
  {
   "cell_type": "markdown",
   "source": [
    "#### Summary -- Describe Clusters\n",
    "\n",
    "* Some ideas: https://www.bigendiandata.com/2017-04-18-Jupyter_Customer360/"
   ],
   "metadata": {
    "collapsed": false
   }
  },
  {
   "cell_type": "markdown",
   "source": [
    "##### Decription\n"
   ],
   "metadata": {
    "collapsed": false
   }
  },
  {
   "cell_type": "markdown",
   "source": [
    "# Experimentation/ Scratchpad"
   ],
   "metadata": {
    "collapsed": false
   }
  },
  {
   "cell_type": "code",
   "execution_count": null,
   "outputs": [],
   "source": [
    "expData.sample(10)"
   ],
   "metadata": {
    "collapsed": false,
    "pycharm": {
     "name": "#%%\n"
    }
   }
  },
  {
   "cell_type": "code",
   "execution_count": null,
   "outputs": [],
   "source": [
    "#TODO - 1) Remove Response Vars from check 2) pull higher up probably in EDA\n",
    "\n",
    "responseVar = 'readmitted'\n",
    "corr = round(tempModelingDF.corr(),4)\n",
    "corr = abs(corr[responseVar]).sort_values(ascending=False)\n",
    "\n",
    "#Selecting highly correlated features\n",
    "relevant_features = corr[corr>=0.04] # Look for Features w/ greater 0.05 cor\n",
    "relevant_features"
   ],
   "metadata": {
    "collapsed": false,
    "pycharm": {
     "name": "#%%\n"
    }
   }
  },
  {
   "cell_type": "code",
   "execution_count": null,
   "outputs": [],
   "source": [
    "#TEMP - Reduce to corrlated features.  If use this, then need to implement in a way that isn't manually keying in.\n",
    "relevant_features_df = tempModelingDF[['readmitted','number_inpatient','number_emergency',\n",
    "                                                      'age_10yrStart','number_outpatient','time_in_hospital',\n",
    "                                                      'num_lab_procedures']]\n",
    "relevant_features_df\n"
   ],
   "metadata": {
    "collapsed": false,
    "pycharm": {
     "name": "#%%\n"
    }
   }
  },
  {
   "cell_type": "code",
   "execution_count": null,
   "outputs": [],
   "source": [
    "mainData['gender'].value_counts(dropna=False)"
   ],
   "metadata": {
    "collapsed": false,
    "pycharm": {
     "name": "#%%\n"
    }
   }
  },
  {
   "cell_type": "code",
   "execution_count": null,
   "outputs": [],
   "source": [
    "expVars = ['num_of_meds','med_level_direction','metformin','repaglinide','nateglinide','chlorpropamide','glimepiride',\n",
    "            'acetohexamide','glipizide','glyburide','tolbutamide','pioglitazone',\n",
    "            'rosiglitazone','acarbose','miglitol','troglitazone','tolazamide','examide',\n",
    "            'citoglipton','insulin','glyburide.metformin','glipizide.metformin','glimepiride.pioglitazone',\n",
    "            'metformin.rosiglitazone','metformin.pioglitazone','readmitted']\n",
    "\n",
    "expSummaryVars = ['num_of_meds','med_level_direction','readmitted']\n",
    "\n",
    "tempCor = mainData[expSummaryVars]\n",
    "tempCor.sample(5)"
   ],
   "metadata": {
    "collapsed": false,
    "pycharm": {
     "name": "#%%\n"
    }
   }
  },
  {
   "cell_type": "code",
   "execution_count": null,
   "outputs": [],
   "source": [
    "#Multiple Regression -- Check Correlations in HeatMap\n",
    "plt.figure(figsize=(12,10))\n",
    "cor = round(tempCor.corr(),3)\n",
    "sns.heatmap(cor, annot=True, cmap=plt.cm.Reds)"
   ],
   "metadata": {
    "collapsed": false,
    "pycharm": {
     "name": "#%%\n"
    }
   }
  },
  {
   "cell_type": "code",
   "execution_count": null,
   "outputs": [],
   "source": [
    "#Multiple Regressions -- Correlation with output variable\n",
    "responseVar = 'readmitted'\n",
    "cor_target = abs(cor[responseVar])\n",
    "#Selecting highly correlated features\n",
    "#relevant_features = cor_target[cor_target>=0.01] # Look for Features w/ greater 0.05 cor\n",
    "#relevant_features\n",
    "cor_target"
   ],
   "metadata": {
    "collapsed": false,
    "pycharm": {
     "name": "#%%\n"
    }
   }
  },
  {
   "cell_type": "code",
   "execution_count": null,
   "outputs": [],
   "source": [
    "mainData.shape"
   ],
   "metadata": {
    "collapsed": false,
    "pycharm": {
     "name": "#%%\n"
    }
   }
  },
  {
   "cell_type": "code",
   "execution_count": null,
   "outputs": [],
   "source": [
    "mainData['max_glu_serum'].value_counts(dropna=False)"
   ],
   "metadata": {
    "collapsed": false,
    "pycharm": {
     "name": "#%%\n"
    }
   }
  },
  {
   "cell_type": "code",
   "execution_count": null,
   "outputs": [],
   "source": [],
   "metadata": {
    "collapsed": false,
    "pycharm": {
     "name": "#%%\n"
    }
   }
  },
  {
   "cell_type": "markdown",
   "source": [
    "## PCA -- TODO: Deprecate/Remove this section\n",
    "\n",
    "TODO - Basic Implementation using Previous example.  Need to do work to better interpret results."
   ],
   "metadata": {
    "collapsed": false
   }
  },
  {
   "cell_type": "code",
   "execution_count": null,
   "outputs": [],
   "source": [
    "predToRemove = {}"
   ],
   "metadata": {
    "collapsed": false,
    "pycharm": {
     "name": "#%%\n"
    }
   }
  },
  {
   "cell_type": "code",
   "execution_count": null,
   "outputs": [],
   "source": [
    "# Takes a df and list of predictor vars and specified response var and returns x/y test/train sets.\n",
    "## Note: update params if you want reproducable splits or not\n",
    "\n",
    "def testTrainSplit_PCA (df, PredictorVar,ResponseVar):\n",
    "    df=df\n",
    "    # Split into training/test\n",
    "    x_all = df[PredictorVar]\n",
    "    y = df[ResponseVar]\n",
    "    pca = PCA()\n",
    "    x = pca.fit_transform(scale(x_all))\n",
    "    # Split Data Set Seed NP Random\n",
    "    np.random.seed(1) # seed np random\n",
    "    ## split data - use \"random_state = any number (42) if you want reproducable splits.\n",
    "    ### Remove random-state if you want random\n",
    "    x_train, x_test, y_train, y_test = train_test_split(x,y, random_state=42, test_size = 0.2)\n",
    "    return x_train, x_test, y_train, y_test, pca, x\n"
   ],
   "metadata": {
    "collapsed": false,
    "pycharm": {
     "name": "#%%\n"
    }
   }
  },
  {
   "cell_type": "code",
   "execution_count": null,
   "outputs": [],
   "source": [
    "cor = round(tempModelingDF.corr(),3)\n",
    "responseVar = 'readmitted'\n",
    "cor_target = abs(cor[responseVar])\n",
    "#Selecting highly correlated features\n",
    "PCA_relevant_features = cor_target[cor_target>=0.02] # Look for Features w/ greater 0.05 cor\n",
    "PCA_relevant_features"
   ],
   "metadata": {
    "collapsed": false,
    "pycharm": {
     "name": "#%%\n"
    }
   }
  },
  {
   "cell_type": "code",
   "execution_count": null,
   "outputs": [],
   "source": [
    "relFeatList = PCA_relevant_features.index.values.tolist()\n",
    "PCA_df = tempModelingDF[relFeatList]\n",
    "PCA_df"
   ],
   "metadata": {
    "collapsed": false,
    "pycharm": {
     "name": "#%%\n"
    }
   }
  },
  {
   "cell_type": "code",
   "execution_count": null,
   "outputs": [],
   "source": [
    "# Set or Reset Test/Train Split -- Do for Each Section\n",
    "# Params\n",
    "df=PCA_df\n",
    "ResponseVar = 'readmitted'\n",
    "\n",
    "PredictorVar = df.columns.values.tolist()\n",
    "PredictorVar.remove(ResponseVar)\n",
    "## Addition Predictor Vars to remove\n",
    "PredictorVar = [ele for ele in PredictorVar if ele not in predToRemove]\n",
    "PredictorVar"
   ],
   "metadata": {
    "collapsed": false,
    "pycharm": {
     "name": "#%%\n"
    }
   }
  },
  {
   "cell_type": "code",
   "execution_count": null,
   "outputs": [],
   "source": [
    "# PCA -- CV\n",
    "upper = len(PredictorVar)\n",
    "row =[]\n",
    "pca_Result = pd.DataFrame(columns = [\"Number_Variables\",\"MSE\",'RMSE',\"Variance_Explained\"])\n",
    "kf = model_selection.KFold( n_splits=10, shuffle=True, random_state=1)\n",
    "\n",
    "# Function Call To prep train/test\n",
    "\n",
    "for i in range(upper):\n",
    "    x_train, x_test, y_train, y_test, pca, x  = testTrainSplit_PCA(df, PredictorVar[:i+1], ResponseVar)\n",
    "    regr = LinearRegression()\n",
    "    regr.fit(x_train, y_train)\n",
    "    score = -1*model_selection.cross_val_score(regr, x_test, y_test, cv=kf,\n",
    "                                               scoring='neg_mean_squared_error').mean()\n",
    "    varExplained = 1-(pca.explained_variance_ratio_[i])\n",
    "    RMSE = np.sqrt(score)\n",
    "    row = [i,score,RMSE,varExplained]\n",
    "    df_length = len(pca_Result)\n",
    "    pca_Result.loc[df_length] = row\n",
    "pca_Result"
   ],
   "metadata": {
    "collapsed": false,
    "pycharm": {
     "name": "#%%\n"
    }
   }
  },
  {
   "cell_type": "code",
   "execution_count": null,
   "outputs": [],
   "source": [
    "# PCA -- plot\n",
    "sns.set_style(\"whitegrid\")\n",
    "sns.set(rc = {'figure.figsize':(5,5)})\n",
    "fig, (ax1,ax2) = plt.subplots(ncols=2,sharex=True, sharey=False, figsize=(15,9))\n",
    "\n",
    "sns.lineplot(\n",
    "    data=pca_Result, ax=ax1,\n",
    "    x=\"Number_Variables\", y=\"MSE\",\n",
    "    marker=\"o\", dashes=False)\n",
    "\n",
    "sns.lineplot(\n",
    "    data=pca_Result, ax=ax2,\n",
    "    x=\"Number_Variables\", y=\"Variance_Explained\",\n",
    "    marker=\"o\", dashes=False)\n",
    "plt.show()\n",
    "#plt.savefig('Figures/PCA.png')"
   ],
   "metadata": {
    "collapsed": false,
    "pycharm": {
     "name": "#%%\n"
    }
   }
  },
  {
   "cell_type": "code",
   "execution_count": null,
   "outputs": [],
   "source": [
    "# PCA -- Interpret Results -- Transform Results\n",
    "pca_BestM = PCA(n_components=0.8, random_state=1) #temp: replaced n_components=upper\n",
    "X_scaled = scale(x_test)\n",
    "pca_BestM.fit(X_scaled)\n",
    "X_pca_bestM = pca_BestM.transform(X_scaled)\n",
    "X_pca_bestM.shape"
   ],
   "metadata": {
    "collapsed": false,
    "pycharm": {
     "name": "#%%\n"
    }
   }
  },
  {
   "cell_type": "code",
   "execution_count": null,
   "outputs": [],
   "source": [
    "x_test.shape"
   ],
   "metadata": {
    "collapsed": false,
    "pycharm": {
     "name": "#%%\n"
    }
   }
  },
  {
   "cell_type": "code",
   "execution_count": null,
   "outputs": [],
   "source": [
    "# PCA -- Interpret Results -- Transform Results into DF\n",
    "PCA_ResultsDF = pd.DataFrame(X_pca_bestM, columns=['PC1','PC2','PC3','PC4',\n",
    "                                                   'PC5','PC6','PC7','PC8',\n",
    "                                                   'PC9','PC10','PC11','PC12',\n",
    "                                                   'PC13','PC14',]) # Temp: 'PC15','PC16','PC17'\n",
    "\n",
    "PCA_ResultsDF.head()"
   ],
   "metadata": {
    "collapsed": false,
    "pycharm": {
     "name": "#%%\n"
    }
   }
  },
  {
   "cell_type": "code",
   "execution_count": null,
   "outputs": [],
   "source": [
    "# TODO -- pg. 107 -- Don't understand this plot\n",
    "\n",
    "# PCA -- Plot Results\n",
    "from mpl_toolkits.mplot3d import Axes3D\n",
    "\n",
    "#labels = PCA_df.target\n",
    "#marker=r's{}s'.format(labels[i])\n",
    "pca_forPlot_transformer = PCA(n_components=0.8)\n",
    "pca_forPlot = pca_forPlot_transformer.fit_transform(x_test)\n",
    "\n",
    "fig = plt.figure()\n",
    "ax = fig.add_subplot(111, projection='3d')\n",
    "for i in range(100):\n",
    "    ax.scatter(pca_forPlot[i,0], pca_forPlot[i,1],pca_forPlot[i,2],s=64)\n",
    "\n",
    "ax.set_xlabel('PC 1')\n",
    "ax.set_ylabel('PC 2')\n",
    "ax.set_zlabel('PC 3')\n",
    "\n",
    "\n"
   ],
   "metadata": {
    "collapsed": false,
    "pycharm": {
     "name": "#%%\n"
    }
   }
  }
 ],
 "metadata": {
  "kernelspec": {
   "name": "pycharm-b5a5c62f",
   "language": "python",
   "display_name": "PyCharm (ML_Course)"
  },
  "language_info": {
   "codemirror_mode": {
    "name": "ipython",
    "version": 2
   },
   "file_extension": ".py",
   "mimetype": "text/x-python",
   "name": "python",
   "nbconvert_exporter": "python",
   "pygments_lexer": "ipython2",
   "version": "2.7.6"
  }
 },
 "nbformat": 4,
 "nbformat_minor": 0
}